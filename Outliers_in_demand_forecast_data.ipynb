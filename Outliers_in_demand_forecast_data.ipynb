{
  "cells": [
    {
      "cell_type": "markdown",
      "metadata": {
        "id": "7cVZTsgM6koY"
      },
      "source": [
        "# Demand Forecast\n",
        "\n",
        "The **goal** of this exercise is to create a demand forecast model for different products (or clusters of products).\n",
        "\n",
        "The **evaluation** of the assignment will follow:\n",
        "\n",
        "* Design process and thinking as a data analyst.\n",
        "* Validation of knowledge on the different tools and steps throughout the process.\n",
        "* Storytelling and visualisation of the insights.\n",
        "\n",
        "\n",
        "Exercise **workflow**:\n",
        "\n",
        "* Import dependencies & data (`../data/Historical\\ Product\\ Demand.csv`).\n",
        "* Explore the dataset to assess its quality (nulls, skew, data types).\n",
        "* Explore the dataset to obtain insights related to the production (e.g., unvariate / bivariate analysis).\n",
        "* Explore the dataset as a time-series (min/max dates, seasonality, trends etc.).\n",
        "* Implement / apply a forecast model:\n",
        "    * Theory\n",
        "    * Parameters tuning\n",
        "    * Build/fit & Validation\n",
        "    * Evaluate performance (e.g., forecast accuracy)\n",
        "    \n",
        "Notes:\n",
        "\n",
        "Feel free to choose how to present the results throughout the exercise, what libraries (e.g., seaborn, bokeh, etc.) and tools (e.g., PowerBI or Tableau).\n",
        "    "
      ]
    },
    {
      "cell_type": "markdown",
      "metadata": {
        "id": "vZnZ9nOk6koc"
      },
      "source": [
        "## Preamble"
      ]
    },
    {
      "cell_type": "code",
      "execution_count": 23,
      "metadata": {
        "id": "os7xHJTS6koc"
      },
      "outputs": [],
      "source": [
        "import pandas as pd\n",
        "import numpy as np\n",
        "import seaborn as sns\n",
        "\n",
        "import matplotlib.pyplot as plt\n",
        "%matplotlib inline\n",
        "\n",
        "import warnings\n",
        "warnings.filterwarnings(\"ignore\")\n",
        "from mlxtend.preprocessing import minmax_scaling\n",
        "from sklearn.preprocessing import MinMaxScaler\n",
        "\n",
        "import itertools\n",
        "\n",
        "# not mandatory, but might come handy\n",
        "from scipy import stats\n",
        "import statsmodels.api as sm\n",
        "\n",
        "import random\n",
        "random.seed(10)"
      ]
    },
    {
      "cell_type": "markdown",
      "metadata": {
        "id": "aLc58BVW6kod"
      },
      "source": [
        "## Data exploration"
      ]
    },
    {
      "cell_type": "markdown",
      "metadata": {
        "id": "dw6oEhtK6koe"
      },
      "source": [
        "### Data quality assessment\n",
        "\n",
        "* Explore the dataset to assess its quality (nulls, skew, data types)\n",
        "\n",
        "### Production insights\n",
        "* What products / categories are driving the demand?\n",
        "* What warehouses are driving the production?\n",
        "\n",
        "### Time-series insights\n",
        "* Are there missing dates?\n",
        "* Are all dates valid?\n",
        "* What is the seasonability decomposition?\n"
      ]
    },
    {
      "cell_type": "code",
      "source": [
        "df = pd.read_csv(\"Historical Product Demand.csv\")\n",
        "print( \" Data Shape : \", df.shape)\n",
        "df_cpy = df.copy()"
      ],
      "metadata": {
        "id": "53htAn-VAhBm",
        "outputId": "8f664235-879b-40bc-80e2-937edc9c8d22",
        "colab": {
          "base_uri": "https://localhost:8080/"
        }
      },
      "execution_count": 24,
      "outputs": [
        {
          "output_type": "stream",
          "name": "stdout",
          "text": [
            " Data Shape :  (1048575, 5)\n"
          ]
        }
      ]
    },
    {
      "cell_type": "markdown",
      "source": [
        "## **Data Quality Assessment** "
      ],
      "metadata": {
        "id": "P8f6wzLpCqyf"
      }
    },
    {
      "cell_type": "code",
      "source": [
        "#Check the data types.\n",
        "df_cpy.dtypes"
      ],
      "metadata": {
        "id": "dM1MGygQEYK2",
        "outputId": "a0c36648-a184-4d09-8f64-be8c34de20ec",
        "colab": {
          "base_uri": "https://localhost:8080/"
        }
      },
      "execution_count": 25,
      "outputs": [
        {
          "output_type": "execute_result",
          "data": {
            "text/plain": [
              "Product_Code        object\n",
              "Warehouse           object\n",
              "Product_Category    object\n",
              "Date                object\n",
              "Order_Demand        object\n",
              "dtype: object"
            ]
          },
          "metadata": {},
          "execution_count": 25
        }
      ]
    },
    {
      "cell_type": "markdown",
      "source": [
        "Change Order_Demand from Object to Numeric data type"
      ],
      "metadata": {
        "id": "q-QYdwM6LUk8"
      }
    },
    {
      "cell_type": "code",
      "source": [
        "## Change datatype of target variable to numeric\n",
        "df_cpy['Order_Demand_abs'] = df_cpy['Order_Demand']"
      ],
      "metadata": {
        "id": "zwzy4ak7Ggp1"
      },
      "execution_count": 26,
      "outputs": []
    },
    {
      "cell_type": "code",
      "source": [
        "df_cpy['Order_Demand_abs'] = df_cpy['Order_Demand_abs'].str.replace(\"(\",\"\")\n",
        "df_cpy['Order_Demand_abs'] = df_cpy['Order_Demand_abs'].str.replace(\")\",\"\")\n"
      ],
      "metadata": {
        "id": "j4STyoc0pxnZ"
      },
      "execution_count": 27,
      "outputs": []
    },
    {
      "cell_type": "markdown",
      "source": [
        "Let's change the datatype now"
      ],
      "metadata": {
        "id": "8wBDVo8ZqShq"
      }
    },
    {
      "cell_type": "code",
      "source": [
        "df_cpy['Order_Demand_abs'] = pd.to_numeric(df_cpy['Order_Demand_abs'])\n",
        "df_cpy['Order_Demand_abs'].dtype"
      ],
      "metadata": {
        "id": "zf7j25HNqYI_",
        "outputId": "8c59d78a-e357-48e6-c44a-0bab35bfb0d8",
        "colab": {
          "base_uri": "https://localhost:8080/"
        }
      },
      "execution_count": 28,
      "outputs": [
        {
          "output_type": "execute_result",
          "data": {
            "text/plain": [
              "dtype('int64')"
            ]
          },
          "metadata": {},
          "execution_count": 28
        }
      ]
    },
    {
      "cell_type": "code",
      "source": [
        "\n",
        "print( \" Data type of Ordered demand :\" , df_cpy.Order_Demand_abs.dtype)\n",
        "print( \" Data type of Date :\" , df_cpy.Date.dtype)"
      ],
      "metadata": {
        "id": "C_RkWT2Tq7aQ",
        "outputId": "8c449cf3-f3e6-43b5-f09c-e59ce7480f62",
        "colab": {
          "base_uri": "https://localhost:8080/"
        }
      },
      "execution_count": 29,
      "outputs": [
        {
          "output_type": "stream",
          "name": "stdout",
          "text": [
            " Data type of Ordered demand : int64\n",
            " Data type of Date : object\n"
          ]
        }
      ]
    },
    {
      "cell_type": "markdown",
      "source": [
        "Change Date from object type to date"
      ],
      "metadata": {
        "id": "y2Mf5zI0rvZF"
      }
    },
    {
      "cell_type": "code",
      "source": [
        "df_cpy['Date'] = pd.to_datetime(df_cpy['Date'])\n"
      ],
      "metadata": {
        "id": "kwzR03KwruiW"
      },
      "execution_count": 30,
      "outputs": []
    },
    {
      "cell_type": "code",
      "source": [
        "orders = df_cpy['Order_Demand_abs']\n",
        "\n",
        "pos_orders = orders[orders > 0]\n",
        "\n",
        "# Normalize the pledges using Box-Cox\n",
        "normalized_orders = stats.boxcox(pos_orders)[0]\n",
        "\n",
        "# plot both together to compare\n",
        "\n",
        "fig, ax=plt.subplots(1,2)\n",
        "sns.distplot(orders, ax=ax[0], color = \"#42f5ce\")\n",
        "ax[0].set_title(\"Original Data\")\n",
        "sns.distplot(normalized_orders, ax=ax[1], color = \"#42f5ce\")\n",
        "ax[1].set_title(\"Normalized data\")"
      ],
      "metadata": {
        "id": "OwWGnJbgGm31",
        "outputId": "cf76bed8-5beb-4277-c56a-fcab81894bad",
        "colab": {
          "base_uri": "https://localhost:8080/",
          "height": 313
        }
      },
      "execution_count": 31,
      "outputs": [
        {
          "output_type": "execute_result",
          "data": {
            "text/plain": [
              "Text(0.5, 1.0, 'Normalized data')"
            ]
          },
          "metadata": {},
          "execution_count": 31
        },
        {
          "output_type": "display_data",
          "data": {
            "text/plain": [
              "<Figure size 432x288 with 2 Axes>"
            ],
            "image/png": "[encoded data removed]"
          },
          "metadata": {
            "needs_background": "light"
          }
        }
      ]
    },
    {
      "cell_type": "code",
      "source": [
        "plt.figure(figsize = (10, 5))\n",
        "sns.boxplot(normalized_orders,color='#fab75f').set(xlabel='Normalized Order Demand ')"
      ],
      "metadata": {
        "colab": {
          "base_uri": "https://localhost:8080/",
          "height": 351
        },
        "id": "9y8N0ZFAR8fy",
        "outputId": "d84fbc74-0118-4b4e-cffd-d71c1cb9c380"
      },
      "execution_count": 32,
      "outputs": [
        {
          "output_type": "execute_result",
          "data": {
            "text/plain": [
              "[Text(0.5, 0, 'Normalized Order Demand ')]"
            ]
          },
          "metadata": {},
          "execution_count": 32
        },
        {
          "output_type": "display_data",
          "data": {
            "text/plain": [
              "<Figure size 720x360 with 1 Axes>"
            ],
            "image/png": "[encoded data removed]"
          },
          "metadata": {
            "needs_background": "light"
          }
        }
      ]
    },
    {
      "cell_type": "code",
      "source": [
        "data = df_cpy['Order_Demand_abs']\n",
        "# First quartile (Q1)\n",
        "Q1 = np.percentile(data, 25, interpolation = 'midpoint')  \n",
        "# Third quartile (Q3)\n",
        "Q3 = np.percentile(data, 75, interpolation = 'midpoint')  \n",
        "# Interquaritle range (IQR)\n",
        "IQR = Q3 - Q1\n",
        "  \n",
        "print(IQR)"
      ],
      "metadata": {
        "colab": {
          "base_uri": "https://localhost:8080/"
        },
        "id": "8oVc7jUSSd9j",
        "outputId": "463e88f1-c57b-4cca-ee70-c623cf7a5a40"
      },
      "execution_count": 33,
      "outputs": [
        {
          "output_type": "stream",
          "name": "stdout",
          "text": [
            "1980.0\n"
          ]
        }
      ]
    },
    {
      "cell_type": "code",
      "source": [
        "print(\"Maximum value for the Order demand i.e Q3 + 3*IQR : \",Q3+3*IQR)\n",
        "print(\"Minimum value for the Order demand i.e Q1 - 3*IQR : \",Q1-3*IQR)"
      ],
      "metadata": {
        "colab": {
          "base_uri": "https://localhost:8080/"
        },
        "id": "Jy-h5MHUSf0w",
        "outputId": "7dcc3987-456f-433e-9089-35700d32ffdd"
      },
      "execution_count": 34,
      "outputs": [
        {
          "output_type": "stream",
          "name": "stdout",
          "text": [
            "Maximum value for the Order demand i.e Q3 + 3*IQR :  7940.0\n",
            "Minimum value for the Order demand i.e Q1 - 3*IQR :  -5920.0\n"
          ]
        }
      ]
    },
    {
      "cell_type": "code",
      "source": [
        "print(\"No. of high valued outliers :\", len(df_cpy[(df_cpy['Order_Demand_abs'] > 7940) ] ))\n",
        "print( \"Percentage of data that belong to high valued outliers : \" , round(len(df_cpy[(df_cpy['Order_Demand_abs'] > 7940) ])*100/len(df_cpy)),\"%\")"
      ],
      "metadata": {
        "colab": {
          "base_uri": "https://localhost:8080/"
        },
        "id": "IOMi1cBmSiB4",
        "outputId": "fbeb9fd9-6d44-4761-946e-d631e4128159"
      },
      "execution_count": 35,
      "outputs": [
        {
          "output_type": "stream",
          "name": "stdout",
          "text": [
            "No. of high valued outliers : 126154\n",
            "Percentage of data that belong to high valued outliers :  12 %\n"
          ]
        }
      ]
    },
    {
      "cell_type": "markdown",
      "source": [
        "Removing these 12% outliers from the dataset\n"
      ],
      "metadata": {
        "id": "HZqYGnsVSlv0"
      }
    },
    {
      "cell_type": "code",
      "source": [
        "new_df = df_cpy[(df_cpy['Order_Demand_abs'] < 7940)]\n",
        "new_df.shape"
      ],
      "metadata": {
        "colab": {
          "base_uri": "https://localhost:8080/"
        },
        "id": "sS0jVjSPSjka",
        "outputId": "1d72bb7e-d9f0-4458-b73d-0d19d11d860f"
      },
      "execution_count": 36,
      "outputs": [
        {
          "output_type": "execute_result",
          "data": {
            "text/plain": [
              "(922420, 6)"
            ]
          },
          "metadata": {},
          "execution_count": 36
        }
      ]
    },
    {
      "cell_type": "code",
      "source": [
        "### Extract month, year, quarter , weekday and day from date\n",
        "new_df['Day'] =  new_df['Date'].dt.day\n",
        "new_df['Month'] =  new_df['Date'].dt.month\n",
        "new_df['Month_name'] =  new_df['Date'].dt.strftime('%B')\n",
        "new_df['Year'] =  new_df['Date'].dt.year\n",
        "new_df[\"Quarter\"] = new_df['Date'].dt.quarter\n",
        "new_df[\"DayOfWeek\"] = new_df[\"Date\"].dt.weekday\n",
        "new_df[\"IsWeekend\"] = new_df[\"DayOfWeek\"] >= 5\n",
        "### Adding order to month names\n",
        "months = [\"January\", \"February\", \"March\", \"April\", \"May\", \"June\", \"July\", \"August\", \"September\", \"October\", \"November\", \"December\"]\n",
        "new_df['Month_name'] = pd.Categorical(new_df['Month_name'], categories= months , ordered=True)"
      ],
      "metadata": {
        "id": "aAo--k7LSoy0"
      },
      "execution_count": 37,
      "outputs": []
    },
    {
      "cell_type": "markdown",
      "source": [
        "#### Distribution of orders by month"
      ],
      "metadata": {
        "id": "3OXu7-msSyQt"
      }
    },
    {
      "cell_type": "code",
      "source": [
        "plt.figure(figsize = (15, 5))\n",
        "\n",
        "ax = sns.barplot(x=new_df.Month_name, y=new_df.Order_Demand_abs, hue=new_df.IsWeekend)\n",
        "ax.set_title(\"Order By Month\")\n",
        "ax.set_ylabel(\"Order Demand\")\n",
        "ax.set_xlabel(\"Months\")\n",
        "\n",
        "plt.show()"
      ],
      "metadata": {
        "colab": {
          "base_uri": "https://localhost:8080/",
          "height": 350
        },
        "id": "etiPZnfKSw1l",
        "outputId": "026b2bd6-e333-4b87-fa10-825fac075286"
      },
      "execution_count": 38,
      "outputs": [
        {
          "output_type": "display_data",
          "data": {
            "text/plain": [
              "<Figure size 1080x360 with 1 Axes>"
            ],
            "image/png": "[encoded data removed]"
          },
          "metadata": {
            "needs_background": "light"
          }
        }
      ]
    },
    {
      "cell_type": "markdown",
      "source": [
        "We had observed that the order demands were more during weekend and less during weekdays, however after removing the outliers this has changed."
      ],
      "metadata": {
        "id": "3E8zWIbLS3hv"
      }
    },
    {
      "cell_type": "code",
      "source": [
        "plt.figure(figsize = (14, 5))\n",
        "new_df.groupby(\"IsWeekend\")['Order_Demand_abs'].mean().plot.barh(color = \"#fab75f\")"
      ],
      "metadata": {
        "colab": {
          "base_uri": "https://localhost:8080/",
          "height": 337
        },
        "id": "vydiRmwmS4F8",
        "outputId": "45d20009-c83e-4aa9-f2ec-197c8e8726fe"
      },
      "execution_count": 39,
      "outputs": [
        {
          "output_type": "execute_result",
          "data": {
            "text/plain": [
              "<matplotlib.axes._subplots.AxesSubplot at 0x7f78f0e58a90>"
            ]
          },
          "metadata": {},
          "execution_count": 39
        },
        {
          "output_type": "display_data",
          "data": {
            "text/plain": [
              "<Figure size 1008x360 with 1 Axes>"
            ],
            "image/png": "[encoded data removed]"
          },
          "metadata": {
            "needs_background": "light"
          }
        }
      ]
    },
    {
      "cell_type": "markdown",
      "source": [
        "###### ***This means that large quantity of  orders are placed during the weekend***"
      ],
      "metadata": {
        "id": "Ijp-lwVBS8Kl"
      }
    }
  ],
  "metadata": {
    "kernelspec": {
      "display_name": "Python 3",
      "language": "python",
      "name": "python3"
    },
    "language_info": {
      "codemirror_mode": {
        "name": "ipython",
        "version": 3
      },
      "file_extension": ".py",
      "mimetype": "text/x-python",
      "name": "python",
      "nbconvert_exporter": "python",
      "pygments_lexer": "ipython3",
      "version": "3.8.6"
    },
    "colab": {
      "provenance": [],
      "name": "Outliers in demand-forecast data.ipynb"
    }
  },
  "nbformat": 4,
  "nbformat_minor": 0
}