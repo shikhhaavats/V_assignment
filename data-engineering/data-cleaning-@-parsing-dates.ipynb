{
  "cells": [
    {
      "cell_type": "markdown",
      "metadata": {
        "id": "XJzIyZTyJCKm"
      },
      "source": [
        "# Data cleaning: parsing dates\n",
        "\n",
        "This notebook is an abstraction of the Kaggle's 5-Day Challenge.\n",
        "\n",
        "The **goal** of this exercise is to clean date entries. \n",
        "\n",
        "The **evaluation** of the assignment will follow:\n",
        "\n",
        "* Design process and thinking as a data engineer.\n",
        "* Validation of knowledge on the different tools and steps throughout the process.\n",
        "* Storytelling and visualisation of the insights.\n",
        "\n",
        "Exercise **workflow**:\n",
        "\n",
        "* Import dependencies & download dataset from [here](https://www.kaggle.com/usgs/earthquake-database/download).\n",
        "* Explore incoherent date formats.\n",
        "* Parse dates\n",
        "* Validate parsed dates\n",
        "    \n",
        "Notes:\n",
        "\n",
        "* Write your code into the `TODO` cells.\n",
        "* Feel free to choose how to present the results throughout the exercise, what libraries (e.g., seaborn, bokeh, etc.) and/or tools (e.g., PowerBI or Tableau)."
      ]
    },
    {
      "cell_type": "markdown",
      "metadata": {
        "_cell_guid": "5cd5061f-ae30-4837-a53b-690ffd5c5830",
        "_uuid": "9d82bf13584b8e682962fbb96131f2447d741679",
        "id": "JE7WjoiNJCKq"
      },
      "source": [
        "## Preamble\n",
        "________"
      ]
    },
    {
      "cell_type": "code",
      "execution_count": 77,
      "metadata": {
        "_cell_guid": "135a7804-b5f5-40aa-8657-4a15774e3666",
        "_uuid": "835cbe0834b935fb0fd40c75b9c39454836f4d5f",
        "id": "5qumS6s9JCKr"
      },
      "outputs": [],
      "source": [
        "import pandas as pd\n",
        "import numpy as np\n",
        "import seaborn as sns\n",
        "import datetime\n",
        "\n",
        "np.random.seed(0)"
      ]
    },
    {
      "cell_type": "markdown",
      "metadata": {
        "id": "r3DXhx1QJCKs"
      },
      "source": [
        "## Data\n",
        "________\n",
        "\n",
        "* Download the earthquakes dataset from [here](https://www.kaggle.com/usgs/earthquake-database/download)"
      ]
    },
    {
      "cell_type": "markdown",
      "metadata": {
        "id": "wH_kOGguJCKt"
      },
      "source": [
        "## Dates\n",
        "________\n",
        "\n",
        "**TODO**\n",
        "\n",
        "* Check the data type of the `date` column\n",
        "* Convert the `date` column to `datetime`\n",
        "* Select just the `day of the month` from the parsed date column\n",
        "* Plot the day of the month to validate the date parsing"
      ]
    },
    {
      "cell_type": "code",
      "source": [
        "e_dt = pd.read_csv(\"database.csv\")"
      ],
      "metadata": {
        "id": "XHniphucJtir"
      },
      "execution_count": 86,
      "outputs": []
    },
    {
      "cell_type": "code",
      "source": [
        "e_dt.dtypes"
      ],
      "metadata": {
        "colab": {
          "base_uri": "https://localhost:8080/"
        },
        "id": "aCmX7zAcKJ7r",
        "outputId": "2a094e95-073d-48bd-a782-bfebc070bdb4"
      },
      "execution_count": 87,
      "outputs": [
        {
          "output_type": "execute_result",
          "data": {
            "text/plain": [
              "Date                           object\n",
              "Time                           object\n",
              "Latitude                      float64\n",
              "Longitude                     float64\n",
              "Type                           object\n",
              "Depth                         float64\n",
              "Depth Error                   float64\n",
              "Depth Seismic Stations        float64\n",
              "Magnitude                     float64\n",
              "Magnitude Type                 object\n",
              "Magnitude Error               float64\n",
              "Magnitude Seismic Stations    float64\n",
              "Azimuthal Gap                 float64\n",
              "Horizontal Distance           float64\n",
              "Horizontal Error              float64\n",
              "Root Mean Square              float64\n",
              "ID                             object\n",
              "Source                         object\n",
              "Location Source                object\n",
              "Magnitude Source               object\n",
              "Status                         object\n",
              "dtype: object"
            ]
          },
          "metadata": {},
          "execution_count": 87
        }
      ]
    },
    {
      "cell_type": "code",
      "source": [
        "print(\"Data type of date column is : \", e_dt.dtypes['Date'])"
      ],
      "metadata": {
        "id": "6f7XQq-tWNzR",
        "outputId": "aaa5e31c-dc69-4c33-b07d-b4ce71e6be1c",
        "colab": {
          "base_uri": "https://localhost:8080/"
        }
      },
      "execution_count": 88,
      "outputs": [
        {
          "output_type": "stream",
          "name": "stdout",
          "text": [
            "Data type of date column is :  object\n"
          ]
        }
      ]
    },
    {
      "cell_type": "code",
      "source": [
        "print(\"Head of date column :- \\n\" , e_dt['Date'].head(5),\"\\n\")\n",
        "print(\"Tail of date column :- \\n\" , e_dt['Date'].tail(5))"
      ],
      "metadata": {
        "colab": {
          "base_uri": "https://localhost:8080/"
        },
        "id": "mufxSMcvLMbG",
        "outputId": "3edfcc00-7818-497b-e0df-93cff4f87869"
      },
      "execution_count": 89,
      "outputs": [
        {
          "output_type": "stream",
          "name": "stdout",
          "text": [
            "Head of date column :- \n",
            " 0    01/02/1965\n",
            "1    01/04/1965\n",
            "2    01/05/1965\n",
            "3    01/08/1965\n",
            "4    01/09/1965\n",
            "Name: Date, dtype: object \n",
            "\n",
            "Tail of date column :- \n",
            " 23407    12/28/2016\n",
            "23408    12/28/2016\n",
            "23409    12/28/2016\n",
            "23410    12/29/2016\n",
            "23411    12/30/2016\n",
            "Name: Date, dtype: object\n"
          ]
        }
      ]
    },
    {
      "cell_type": "markdown",
      "source": [
        "##### Convert data type of date column"
      ],
      "metadata": {
        "id": "5Q0abekmXxCI"
      }
    },
    {
      "cell_type": "code",
      "source": [
        "### Convert object datatype to datetime data type for date column\n",
        "\n",
        "e_dt['Date_new'] = pd.to_datetime(e_dt['Date'],utc=True)\n",
        "e_dt['Date_new'] =  pd.to_datetime(e_dt['Date_new'].dt.date)\n",
        "e_dt['Date'] = e_dt['Date_new']\n",
        "del e_dt['Date_new']\n",
        "print(\"Head of date column :- \\n\" , e_dt['Date'].head(2),\"\\n\")\n",
        "print(\"Tail of date column  :- \\n\" , e_dt['Date'].tail(2))"
      ],
      "metadata": {
        "colab": {
          "base_uri": "https://localhost:8080/"
        },
        "id": "FXwonQO-Llz-",
        "outputId": "6ce93513-0f7b-47bc-adea-f70fca5cc569"
      },
      "execution_count": 91,
      "outputs": [
        {
          "output_type": "stream",
          "name": "stdout",
          "text": [
            "Head of date column :- \n",
            " 0   1965-01-02\n",
            "1   1965-01-04\n",
            "Name: Date, dtype: datetime64[ns] \n",
            "\n",
            "Tail of date column  :- \n",
            " 23410   2016-12-29\n",
            "23411   2016-12-30\n",
            "Name: Date, dtype: datetime64[ns]\n"
          ]
        }
      ]
    },
    {
      "cell_type": "code",
      "source": [
        "print(\"Data type of date column is : \", e_dt.dtypes['Date'])"
      ],
      "metadata": {
        "id": "Y52N_wfoXRc9",
        "outputId": "7057d6e9-214f-4eee-eba2-4db308ea494c",
        "colab": {
          "base_uri": "https://localhost:8080/"
        }
      },
      "execution_count": 92,
      "outputs": [
        {
          "output_type": "stream",
          "name": "stdout",
          "text": [
            "Data type of date column is :  datetime64[ns]\n"
          ]
        }
      ]
    },
    {
      "cell_type": "markdown",
      "source": [
        "##### Extract of Day from Date column"
      ],
      "metadata": {
        "id": "9dwFbZbaXpL0"
      }
    },
    {
      "cell_type": "code",
      "source": [
        "e_dt['Day'] = e_dt.Date.dt.day\n",
        "e_dt['Day'].head(2) "
      ],
      "metadata": {
        "id": "03C4djnfXdue",
        "outputId": "4e5d9238-a7cf-4cad-8311-328e5a3bb1a7",
        "colab": {
          "base_uri": "https://localhost:8080/"
        }
      },
      "execution_count": 95,
      "outputs": [
        {
          "output_type": "execute_result",
          "data": {
            "text/plain": [
              "0    2\n",
              "1    4\n",
              "Name: Day, dtype: int64"
            ]
          },
          "metadata": {},
          "execution_count": 95
        }
      ]
    },
    {
      "cell_type": "markdown",
      "source": [
        "##### Plot the day of the month"
      ],
      "metadata": {
        "id": "nkql1Wa-YzsK"
      }
    },
    {
      "cell_type": "code",
      "source": [
        "from matplotlib import pyplot as plt\n",
        "\n",
        "#e_dt.Day.plot.hist(bins=31)\n",
        "e_dt.Day.value_counts().sort_index().plot.bar(figsize=(8,4), color =\"#02db9a\")\n"
      ],
      "metadata": {
        "id": "WMn03I9fYxJu",
        "outputId": "9e853566-613b-4374-ad17-faf8dcb0d8fe",
        "colab": {
          "base_uri": "https://localhost:8080/",
          "height": 314
        }
      },
      "execution_count": 110,
      "outputs": [
        {
          "output_type": "execute_result",
          "data": {
            "text/plain": [
              "<matplotlib.axes._subplots.AxesSubplot at 0x7ffa168695d0>"
            ]
          },
          "metadata": {},
          "execution_count": 110
        },
        {
          "output_type": "display_data",
          "data": {
            "text/plain": [
              "<Figure size 576x288 with 1 Axes>"
            ],
            "image/png": "[encoded data removed]"
          },
          "metadata": {
            "needs_background": "light"
          }
        }
      ]
    }
  ],
  "metadata": {
    "kernelspec": {
      "display_name": "Python 3",
      "language": "python",
      "name": "python3"
    },
    "language_info": {
      "codemirror_mode": {
        "name": "ipython",
        "version": 3
      },
      "file_extension": ".py",
      "mimetype": "text/x-python",
      "name": "python",
      "nbconvert_exporter": "python",
      "pygments_lexer": "ipython3",
      "version": "3.8.6"
    },
    "colab": {
      "provenance": []
    }
  },
  "nbformat": 4,
  "nbformat_minor": 0
}