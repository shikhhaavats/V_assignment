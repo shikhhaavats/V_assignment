{
  "cells": [
    {
      "cell_type": "markdown",
      "metadata": {
        "id": "trBx8ZXxcUYA"
      },
      "source": [
        "# Data cleaning: scale & normalize\n",
        "\n",
        "This notebook is an abstraction of the Kaggle's 5-Day Challenge.\n",
        "\n",
        "The **goal** of this exercise is to clean inconsistent entries. \n",
        "\n",
        "The **evaluation** of the assignment will follow:\n",
        "\n",
        "* Design process and thinking as a data engineer.\n",
        "* Validation of knowledge on the different tools and steps throughout the process.\n",
        "* Storytelling and visualisation of the insights.\n",
        "\n",
        "Exercise **workflow**:\n",
        "\n",
        "* Import dependencies & download data from [here](https://www.kaggle.com/kemical/kickstarter-projects/download).\n",
        "* Scale vs. Normalization theory\n",
        "* Scale vs. Normalization assessment\n",
        "    \n",
        "Notes:\n",
        "\n",
        "* Write your code into the `TODO` cells\n",
        "* Feel free to choose how to present the results throughout the exercise, what libraries (e.g., seaborn, bokeh, etc.) and/or tools (e.g., PowerBI or Tableau)."
      ]
    },
    {
      "cell_type": "markdown",
      "metadata": {
        "_cell_guid": "5cd5061f-ae30-4837-a53b-690ffd5c5830",
        "_uuid": "9d82bf13584b8e682962fbb96131f2447d741679",
        "id": "WoFW3oRmcUYD"
      },
      "source": [
        "## Preamble\n",
        "________"
      ]
    },
    {
      "cell_type": "code",
      "execution_count": 32,
      "metadata": {
        "_cell_guid": "135a7804-b5f5-40aa-8657-4a15774e3666",
        "_uuid": "835cbe0834b935fb0fd40c75b9c39454836f4d5f",
        "id": "P_m18IOScUYE"
      },
      "outputs": [],
      "source": [
        "import pandas as pd\n",
        "import numpy as np\n",
        "\n",
        "from scipy import stats\n",
        "from mlxtend.preprocessing import minmax_scaling\n",
        "from sklearn.preprocessing import MinMaxScaler\n",
        "\n",
        "import warnings\n",
        "warnings.filterwarnings(\"ignore\")\n",
        "\n",
        "\n",
        "import seaborn as sns\n",
        "import matplotlib.pyplot as plt\n",
        "\n",
        "np.random.seed(0)"
      ]
    },
    {
      "cell_type": "markdown",
      "metadata": {
        "id": "0wKzT6NicUYF"
      },
      "source": [
        "## Data\n",
        "________\n",
        "\n",
        "**TODO**\n",
        "\n",
        "* Download the latest version of the dataset from [here](https://www.kaggle.com/kemical/kickstarter-projects/download)"
      ]
    },
    {
      "cell_type": "code",
      "execution_count": 33,
      "metadata": {
        "id": "FIJgDl4acUYF"
      },
      "outputs": [],
      "source": [
        "df = pd.read_csv(\"ks-projects-201801.csv\")"
      ]
    },
    {
      "cell_type": "markdown",
      "metadata": {
        "_cell_guid": "62b9f021-5b80-43e2-bf60-8e0d5e22d572",
        "_uuid": "032a618abb98a28e60ab84376cf21402178f995d",
        "id": "eby_zbhUcUYG"
      },
      "source": [
        "## Scaling vs. Normalization theory\n",
        "____\n",
        "\n",
        "One of the reasons that it's easy to get confused between scaling and normalization is because the terms are sometimes used interchangeably and, to make it even more confusing, they are very similar! In both cases, you're transforming the values of numeric variables so that the transformed data points have specific helpful properties. The difference is that, in scaling, you're changing the *range* of your data while in normalization you're changing the *shape of the distribution* of your data. Let's talk a little more in-depth about each of these options. \n",
        "\n",
        "___\n",
        "\n",
        "### **Scaling**\n",
        "\n",
        "This means that you're transforming your data so that it fits within a specific scale, like 0-100 or 0-1.  You want to scale data when you're using methods based on measures of how far apart data points, like [support vector machines, or SVM](https://en.wikipedia.org/wiki/Support_vector_machine) or [k-nearest neighbors, or KNN](https://en.wikipedia.org/wiki/K-nearest_neighbors_algorithm). With these algorithms, a change of \"1\" in any numeric feature is given the same importance. \n",
        "\n",
        "For example, you might be looking at the prices of some products in both Yen and US Dollars. One US Dollar is worth about 100 Yen, but if you don't scale your prices methods like SVM or KNN will consider a difference in price of 1 Yen as important as a difference of 1 US Dollar! This clearly doesn't fit with our intuitions of the world. With currency, you can convert between currencies. But what about if you're looking at something like height and weight? It's not entirely clear how many pounds should equal one inch (or how many kilograms should equal one meter).\n",
        "\n",
        "By scaling your variables, you can help compare different variables on equal footing. To help solidify what scaling looks like, let's look at a made-up example. (Don't worry, we'll work with real data in just a second, this is just to help illustrate my point.)\n"
      ]
    },
    {
      "cell_type": "code",
      "execution_count": 34,
      "metadata": {
        "_uuid": "bfeb0419798d62d5cbeef78378b9de573d137f79",
        "id": "G81UinR8cUYG"
      },
      "outputs": [],
      "source": [
        "sns.distplot?"
      ]
    },
    {
      "cell_type": "code",
      "execution_count": 35,
      "metadata": {
        "_cell_guid": "e0942c00-e306-4c64-a53a-e76d07cd937f",
        "_uuid": "e35280c753de7b963c4d812624c816c766ef4367",
        "id": "ofvfk9dUcUYH",
        "outputId": "4b855485-64e0-4d83-c7ff-273ce767f87f",
        "colab": {
          "base_uri": "https://localhost:8080/",
          "height": 298
        }
      },
      "outputs": [
        {
          "output_type": "execute_result",
          "data": {
            "text/plain": [
              "Text(0.5, 1.0, 'Scaled data')"
            ]
          },
          "metadata": {},
          "execution_count": 35
        },
        {
          "output_type": "display_data",
          "data": {
            "text/plain": [
              "<Figure size 432x288 with 2 Axes>"
            ],
            "image/png": "[encoded data removed]"
          },
          "metadata": {
            "needs_background": "light"
          }
        }
      ],
      "source": [
        "# generate 1000 data points randomly drawn from an exponential distribution\n",
        "original_data = np.random.exponential(size = 1000)\n",
        "\n",
        "# mix-max scale the data between 0 and 1\n",
        "scaled_data = minmax_scaling(original_data, columns = [0])\n",
        "\n",
        "# plot both together to compare\n",
        "fig, ax=plt.subplots(1,2)\n",
        "sns.distplot(original_data, ax=ax[0])\n",
        "# sns.distplot returns a histogram. Default: automatically chosen bins and Kernel Density estimation\n",
        "# with automatically determined parameters.\n",
        "ax[0].set_title(\"Original Data\")\n",
        "sns.distplot(scaled_data, ax=ax[1])\n",
        "ax[1].set_title(\"Scaled data\")"
      ]
    },
    {
      "cell_type": "markdown",
      "metadata": {
        "_cell_guid": "ed530656-2707-4978-835c-c665a9e25ec0",
        "_uuid": "a2523383e47af8d7902b75c5da7829b85553dcae",
        "id": "n4TyRY7PcUYH"
      },
      "source": [
        "Notice that the *shape* of the data doesn't change, but that instead of ranging from 0 to 8ish, it now ranges from 0 to 1.\n",
        "\n",
        "___\n",
        "### Normalization\n",
        "\n",
        "Scaling just changes the range of your data. Normalization is a more radical transformation. The point of normalization is to change your observations so that they can be described as a normal distribution.\n",
        "\n",
        "> **[Normal distribution:](https://en.wikipedia.org/wiki/Normal_distribution)** Also known as the \"bell curve\", this is a specific statistical distribution where a roughly equal observations fall above and below the mean, the mean and the median are the same, and there are more observations closer to the mean. The normal distribution is also known as the Gaussian distribution.\n",
        "\n",
        "In general, you'll only want to normalize your data if you're going to be using a machine learning or statistics technique that assumes your data is normally distributed. Some examples of these include t-tests, ANOVAs, linear regression, linear discriminant analysis (LDA) and Gaussian naive Bayes. (Pro tip: any method with \"Gaussian\" in the name probably assumes normality.)\n",
        "\n",
        "The method were  using to normalize here is called the [Box-Cox Transformation](https://en.wikipedia.org/wiki/Power_transform#Box%E2%80%93Cox_transformation). Let's take a quick peek at what normalizing some data looks like:"
      ]
    },
    {
      "cell_type": "code",
      "execution_count": 36,
      "metadata": {
        "_cell_guid": "851dc531-ea15-46f4-ba59-2e9be614856c",
        "_uuid": "e1484f70203b1a9335a557939398beb45b3a4fbd",
        "scrolled": true,
        "id": "FOp8awKBcUYI",
        "outputId": "55269ab1-80dd-4462-c916-1ada6dd638a7",
        "colab": {
          "base_uri": "https://localhost:8080/",
          "height": 298
        }
      },
      "outputs": [
        {
          "output_type": "execute_result",
          "data": {
            "text/plain": [
              "Text(0.5, 1.0, 'Normalized data')"
            ]
          },
          "metadata": {},
          "execution_count": 36
        },
        {
          "output_type": "display_data",
          "data": {
            "text/plain": [
              "<Figure size 432x288 with 2 Axes>"
            ],
            "image/png": "[encoded data removed]"
          },
          "metadata": {
            "needs_background": "light"
          }
        }
      ],
      "source": [
        "# normalize the exponential data with boxcox\n",
        "normalized_data = stats.boxcox(original_data)\n",
        "\n",
        "# plot both together to compare\n",
        "fig, ax=plt.subplots(1,2)\n",
        "sns.distplot(original_data, ax=ax[0])\n",
        "ax[0].set_title(\"Original Data\")\n",
        "sns.distplot(normalized_data[0], ax=ax[1])\n",
        "ax[1].set_title(\"Normalized data\")"
      ]
    },
    {
      "cell_type": "markdown",
      "metadata": {
        "id": "8rbrogYNcUYI"
      },
      "source": [
        "Notice that the *shape* of our data has changed. Before normalizing it was almost L-shaped. But after normalizing it looks more like the outline of a bell (hence \"bell curve\")."
      ]
    },
    {
      "cell_type": "markdown",
      "metadata": {
        "_cell_guid": "52011105-e1e3-4bb0-9b59-59614a96e3d4",
        "_uuid": "5975eb63a310ca983facc4a8b969e235fee58c74",
        "id": "IK_cCSBQcUYJ"
      },
      "source": [
        " \n",
        "\n",
        "___\n",
        "## Scaling vs. Normalization assessment\n",
        "\n",
        "**TODO**\n",
        "\n",
        "* Assess whether scaling or normalization makes more sense. \n",
        "\n",
        "\n",
        "**Notes** \n",
        "\n",
        "* You want to build a linear regression model to predict someone's grades given how much time they spend on various activities during a normal school week.  You notice that your measurements for how much time students spend studying aren't normally distributed: some students spend almost no time studying and others study for four or more hours every day. Should you scale or normalize this variable?\n",
        "\n",
        "* You're still working on your grades study, but you want to include information on how students perform on several fitness tests as well. You have information on how many jumping jacks and push-ups each student can complete in a minute. However, you notice that students perform far more jumping jacks than push-ups: the average for the former is 40, and for the latter only 10. Should you scale or normalize these variables?\n",
        "\n",
        "**In linear regression model Y = X\\beta+e, the assumption is e \\sim N(0,\\sigma^2) rather than X \\sim N(0,\\sigma^2), so here we do not need to require the studying time is normally distributed. We should first plot the scatter plot of grade and studying time, if the plot fails to show us the linear relationship, then we might consider the transformation on grade and studying time. Another idea is we could first build the linear model and then check the residuals vs fitted values plot. If the spread of residuals becomes widely as fitted values increasing, we could do power transformation on the response variable.\n",
        "It is interesting to note that Z-transformation is regarded as a kind of scaling, not as normalization, by applying the above distinctions**\n"
      ]
    },
    {
      "cell_type": "markdown",
      "metadata": {
        "_cell_guid": "fc728697-ce3e-4890-b14d-597b2281f30d",
        "_uuid": "0c4d06413046e632dd1936095028587af3be0e47",
        "id": "Z6UNH3CfcUYJ"
      },
      "source": [
        "### Scaling\n",
        "___\n",
        "\n",
        "**TODO**\n",
        "\n",
        "* Scale the `usd_goal_real` from 0 to 1\n",
        "* Plot the original & scaled data together to compare\n",
        "* Scale the `goal` from 0 to 1\n",
        "* Plot the original & scaled data together to compare"
      ]
    },
    {
      "cell_type": "code",
      "source": [
        "df.head()"
      ],
      "metadata": {
        "colab": {
          "base_uri": "https://localhost:8080/",
          "height": 530
        },
        "id": "hLESsb_myoPp",
        "outputId": "9fc4e001-cfa2-4ec4-b948-dee28e24a9bd"
      },
      "execution_count": 37,
      "outputs": [
        {
          "output_type": "execute_result",
          "data": {
            "text/plain": [
              "           ID                                               name  \\\n",
              "0  1000002330                    The Songs of Adelaide & Abullah   \n",
              "1  1000003930      Greeting From Earth: ZGAC Arts Capsule For ET   \n",
              "2  1000004038                                     Where is Hank?   \n",
              "3  1000007540  ToshiCapital Rekordz Needs Help to Complete Album   \n",
              "4  1000011046  Community Film Project: The Art of Neighborhoo...   \n",
              "\n",
              "         category main_category currency    deadline     goal  \\\n",
              "0          Poetry    Publishing      GBP  2015-10-09   1000.0   \n",
              "1  Narrative Film  Film & Video      USD  2017-11-01  30000.0   \n",
              "2  Narrative Film  Film & Video      USD  2013-02-26  45000.0   \n",
              "3           Music         Music      USD  2012-04-16   5000.0   \n",
              "4    Film & Video  Film & Video      USD  2015-08-29  19500.0   \n",
              "\n",
              "              launched  pledged     state  backers country  usd pledged  \\\n",
              "0  2015-08-11 12:12:28      0.0    failed        0      GB          0.0   \n",
              "1  2017-09-02 04:43:57   2421.0    failed       15      US        100.0   \n",
              "2  2013-01-12 00:20:50    220.0    failed        3      US        220.0   \n",
              "3  2012-03-17 03:24:11      1.0    failed        1      US          1.0   \n",
              "4  2015-07-04 08:35:03   1283.0  canceled       14      US       1283.0   \n",
              "\n",
              "   usd_pledged_real  usd_goal_real  \n",
              "0               0.0        1533.95  \n",
              "1            2421.0       30000.00  \n",
              "2             220.0       45000.00  \n",
              "3               1.0        5000.00  \n",
              "4            1283.0       19500.00  "
            ],
            "text/html": [
              "\n",
              "  <div id=\"df-949017c7-7dc5-4b06-82f0-eab90dc49a53\">\n",
              "    <div class=\"colab-df-container\">\n",
              "      <div>\n",
              "<style scoped>\n",
              "    .dataframe tbody tr th:only-of-type {\n",
              "        vertical-align: middle;\n",
              "    }\n",
              "\n",
              "    .dataframe tbody tr th {\n",
              "        vertical-align: top;\n",
              "    }\n",
              "\n",
              "    .dataframe thead th {\n",
              "        text-align: right;\n",
              "    }\n",
              "</style>\n",
              "<table border=\"1\" class=\"dataframe\">\n",
              "  <thead>\n",
              "    <tr style=\"text-align: right;\">\n",
              "      <th></th>\n",
              "      <th>ID</th>\n",
              "      <th>name</th>\n",
              "      <th>category</th>\n",
              "      <th>main_category</th>\n",
              "      <th>currency</th>\n",
              "      <th>deadline</th>\n",
              "      <th>goal</th>\n",
              "      <th>launched</th>\n",
              "      <th>pledged</th>\n",
              "      <th>state</th>\n",
              "      <th>backers</th>\n",
              "      <th>country</th>\n",
              "      <th>usd pledged</th>\n",
              "      <th>usd_pledged_real</th>\n",
              "      <th>usd_goal_real</th>\n",
              "    </tr>\n",
              "  </thead>\n",
              "  <tbody>\n",
              "    <tr>\n",
              "      <th>0</th>\n",
              "      <td>1000002330</td>\n",
              "      <td>The Songs of Adelaide &amp; Abullah</td>\n",
              "      <td>Poetry</td>\n",
              "      <td>Publishing</td>\n",
              "      <td>GBP</td>\n",
              "      <td>2015-10-09</td>\n",
              "      <td>1000.0</td>\n",
              "      <td>2015-08-11 12:12:28</td>\n",
              "      <td>0.0</td>\n",
              "      <td>failed</td>\n",
              "      <td>0</td>\n",
              "      <td>GB</td>\n",
              "      <td>0.0</td>\n",
              "      <td>0.0</td>\n",
              "      <td>1533.95</td>\n",
              "    </tr>\n",
              "    <tr>\n",
              "      <th>1</th>\n",
              "      <td>1000003930</td>\n",
              "      <td>Greeting From Earth: ZGAC Arts Capsule For ET</td>\n",
              "      <td>Narrative Film</td>\n",
              "      <td>Film &amp; Video</td>\n",
              "      <td>USD</td>\n",
              "      <td>2017-11-01</td>\n",
              "      <td>30000.0</td>\n",
              "      <td>2017-09-02 04:43:57</td>\n",
              "      <td>2421.0</td>\n",
              "      <td>failed</td>\n",
              "      <td>15</td>\n",
              "      <td>US</td>\n",
              "      <td>100.0</td>\n",
              "      <td>2421.0</td>\n",
              "      <td>30000.00</td>\n",
              "    </tr>\n",
              "    <tr>\n",
              "      <th>2</th>\n",
              "      <td>1000004038</td>\n",
              "      <td>Where is Hank?</td>\n",
              "      <td>Narrative Film</td>\n",
              "      <td>Film &amp; Video</td>\n",
              "      <td>USD</td>\n",
              "      <td>2013-02-26</td>\n",
              "      <td>45000.0</td>\n",
              "      <td>2013-01-12 00:20:50</td>\n",
              "      <td>220.0</td>\n",
              "      <td>failed</td>\n",
              "      <td>3</td>\n",
              "      <td>US</td>\n",
              "      <td>220.0</td>\n",
              "      <td>220.0</td>\n",
              "      <td>45000.00</td>\n",
              "    </tr>\n",
              "    <tr>\n",
              "      <th>3</th>\n",
              "      <td>1000007540</td>\n",
              "      <td>ToshiCapital Rekordz Needs Help to Complete Album</td>\n",
              "      <td>Music</td>\n",
              "      <td>Music</td>\n",
              "      <td>USD</td>\n",
              "      <td>2012-04-16</td>\n",
              "      <td>5000.0</td>\n",
              "      <td>2012-03-17 03:24:11</td>\n",
              "      <td>1.0</td>\n",
              "      <td>failed</td>\n",
              "      <td>1</td>\n",
              "      <td>US</td>\n",
              "      <td>1.0</td>\n",
              "      <td>1.0</td>\n",
              "      <td>5000.00</td>\n",
              "    </tr>\n",
              "    <tr>\n",
              "      <th>4</th>\n",
              "      <td>1000011046</td>\n",
              "      <td>Community Film Project: The Art of Neighborhoo...</td>\n",
              "      <td>Film &amp; Video</td>\n",
              "      <td>Film &amp; Video</td>\n",
              "      <td>USD</td>\n",
              "      <td>2015-08-29</td>\n",
              "      <td>19500.0</td>\n",
              "      <td>2015-07-04 08:35:03</td>\n",
              "      <td>1283.0</td>\n",
              "      <td>canceled</td>\n",
              "      <td>14</td>\n",
              "      <td>US</td>\n",
              "      <td>1283.0</td>\n",
              "      <td>1283.0</td>\n",
              "      <td>19500.00</td>\n",
              "    </tr>\n",
              "  </tbody>\n",
              "</table>\n",
              "</div>\n",
              "      <button class=\"colab-df-convert\" onclick=\"convertToInteractive('df-949017c7-7dc5-4b06-82f0-eab90dc49a53')\"\n",
              "              title=\"Convert this dataframe to an interactive table.\"\n",
              "              style=\"display:none;\">\n",
              "        \n",
              "  <svg xmlns=\"http://www.w3.org/2000/svg\" height=\"24px\"viewBox=\"0 0 24 24\"\n",
              "       width=\"24px\">\n",
              "    <path d=\"M0 0h24v24H0V0z\" fill=\"none\"/>\n",
              "    <path d=\"M18.56 5.44l.94 2.06.94-2.06 2.06-.94-2.06-.94-.94-2.06-.94 2.06-2.06.94zm-11 1L8.5 8.5l.94-2.06 2.06-.94-2.06-.94L8.5 2.5l-.94 2.06-2.06.94zm10 10l.94 2.06.94-2.06 2.06-.94-2.06-.94-.94-2.06-.94 2.06-2.06.94z\"/><path d=\"M17.41 7.96l-1.37-1.37c-.4-.4-.92-.59-1.43-.59-.52 0-1.04.2-1.43.59L10.3 9.45l-7.72 7.72c-.78.78-.78 2.05 0 2.83L4 21.41c.39.39.9.59 1.41.59.51 0 1.02-.2 1.41-.59l7.78-7.78 2.81-2.81c.8-.78.8-2.07 0-2.86zM5.41 20L4 18.59l7.72-7.72 1.47 1.35L5.41 20z\"/>\n",
              "  </svg>\n",
              "      </button>\n",
              "      \n",
              "  <style>\n",
              "    .colab-df-container {\n",
              "      display:flex;\n",
              "      flex-wrap:wrap;\n",
              "      gap: 12px;\n",
              "    }\n",
              "\n",
              "    .colab-df-convert {\n",
              "      background-color: #E8F0FE;\n",
              "      border: none;\n",
              "      border-radius: 50%;\n",
              "      cursor: pointer;\n",
              "      display: none;\n",
              "      fill: #1967D2;\n",
              "      height: 32px;\n",
              "      padding: 0 0 0 0;\n",
              "      width: 32px;\n",
              "    }\n",
              "\n",
              "    .colab-df-convert:hover {\n",
              "      background-color: #E2EBFA;\n",
              "      box-shadow: 0px 1px 2px rgba(60, 64, 67, 0.3), 0px 1px 3px 1px rgba(60, 64, 67, 0.15);\n",
              "      fill: #174EA6;\n",
              "    }\n",
              "\n",
              "    [theme=dark] .colab-df-convert {\n",
              "      background-color: #3B4455;\n",
              "      fill: #D2E3FC;\n",
              "    }\n",
              "\n",
              "    [theme=dark] .colab-df-convert:hover {\n",
              "      background-color: #434B5C;\n",
              "      box-shadow: 0px 1px 3px 1px rgba(0, 0, 0, 0.15);\n",
              "      filter: drop-shadow(0px 1px 2px rgba(0, 0, 0, 0.3));\n",
              "      fill: #FFFFFF;\n",
              "    }\n",
              "  </style>\n",
              "\n",
              "      <script>\n",
              "        const buttonEl =\n",
              "          document.querySelector('#df-949017c7-7dc5-4b06-82f0-eab90dc49a53 button.colab-df-convert');\n",
              "        buttonEl.style.display =\n",
              "          google.colab.kernel.accessAllowed ? 'block' : 'none';\n",
              "\n",
              "        async function convertToInteractive(key) {\n",
              "          const element = document.querySelector('#df-949017c7-7dc5-4b06-82f0-eab90dc49a53');\n",
              "          const dataTable =\n",
              "            await google.colab.kernel.invokeFunction('convertToInteractive',\n",
              "                                                     [key], {});\n",
              "          if (!dataTable) return;\n",
              "\n",
              "          const docLinkHtml = 'Like what you see? Visit the ' +\n",
              "            '<a target=\"_blank\" href=https://colab.research.google.com/notebooks/data_table.ipynb>data table notebook</a>'\n",
              "            + ' to learn more about interactive tables.';\n",
              "          element.innerHTML = '';\n",
              "          dataTable['output_type'] = 'display_data';\n",
              "          await google.colab.output.renderOutput(dataTable, element);\n",
              "          const docLink = document.createElement('div');\n",
              "          docLink.innerHTML = docLinkHtml;\n",
              "          element.appendChild(docLink);\n",
              "        }\n",
              "      </script>\n",
              "    </div>\n",
              "  </div>\n",
              "  "
            ]
          },
          "metadata": {},
          "execution_count": 37
        }
      ]
    },
    {
      "cell_type": "markdown",
      "source": [
        "##### Scale the ***usd_goal_real*** from 0 to 1"
      ],
      "metadata": {
        "id": "RgFkrGwIz3od"
      }
    },
    {
      "cell_type": "code",
      "source": [
        "# select the usd_goal_real column\n",
        "usd_goal = df.usd_goal_real\n",
        "\n",
        "scaler = MinMaxScaler(feature_range=(0, 1))\n",
        "\n",
        "#  mix-max scale the data between 0 and 1 : scale the goals from 0 to 1\n",
        "scaled_data = scaler.fit_transform(usd_goal.values[:, None])\n",
        "scaled_data"
      ],
      "metadata": {
        "id": "Q0KXFONDz7It",
        "outputId": "82324ab1-023e-4ff5-f0aa-704ae9f9ce08",
        "colab": {
          "base_uri": "https://localhost:8080/"
        }
      },
      "execution_count": 38,
      "outputs": [
        {
          "output_type": "execute_result",
          "data": {
            "text/plain": [
              "array([[9.22052884e-06],\n",
              "       [1.80330243e-04],\n",
              "       [2.70495394e-04],\n",
              "       ...,\n",
              "       [9.01650914e-05],\n",
              "       [9.01650914e-05],\n",
              "       [1.20219601e-05]])"
            ]
          },
          "metadata": {},
          "execution_count": 38
        }
      ]
    },
    {
      "cell_type": "markdown",
      "source": [
        "###### **USD_GOAL_REAL** ▶  Plot the original & scaled data together to compare"
      ],
      "metadata": {
        "id": "VF9KIfC3zqcv"
      }
    },
    {
      "cell_type": "code",
      "source": [
        "# plot the original & scaled data together to compare\n",
        "fig, ax=plt.subplots(1,2)\n",
        "sns.distplot(df.usd_goal_real, ax=ax[0])\n",
        "ax[0].set_title(\"Original Data\")\n",
        "sns.distplot(scaled_data, ax=ax[1])\n",
        "ax[1].set_title(\"Scaled data\")"
      ],
      "metadata": {
        "id": "dEp6jrfLym1Z",
        "outputId": "2061adf8-ca3a-47d4-cb12-7bc319b4af3c",
        "colab": {
          "base_uri": "https://localhost:8080/",
          "height": 313
        }
      },
      "execution_count": 39,
      "outputs": [
        {
          "output_type": "execute_result",
          "data": {
            "text/plain": [
              "Text(0.5, 1.0, 'Scaled data')"
            ]
          },
          "metadata": {},
          "execution_count": 39
        },
        {
          "output_type": "display_data",
          "data": {
            "text/plain": [
              "<Figure size 432x288 with 2 Axes>"
            ],
            "image/png": "[encoded data removed]"
          },
          "metadata": {
            "needs_background": "light"
          }
        }
      ]
    },
    {
      "cell_type": "markdown",
      "source": [
        "\n",
        "#### Scale **goal** from 0 to 1"
      ],
      "metadata": {
        "id": "3CKiHvw61L6Q"
      }
    },
    {
      "cell_type": "code",
      "source": [
        "# select the usd_goal_real column\n",
        "goal_org = df.goal\n",
        "\n",
        "scaler = MinMaxScaler(feature_range=(0, 1))\n",
        "\n",
        "#  mix-max scale the data between 0 and 1 : scale the goals from 0 to 1\n",
        "goal_scaled = scaler.fit_transform(goal_org.values[:, None])\n",
        "goal_scaled"
      ],
      "metadata": {
        "id": "PZ9RJVzD1RZs",
        "outputId": "85126487-4fab-4349-add1-0da469def631",
        "colab": {
          "base_uri": "https://localhost:8080/"
        }
      },
      "execution_count": 40,
      "outputs": [
        {
          "output_type": "execute_result",
          "data": {
            "text/plain": [
              "array([[9.999900e-06],\n",
              "       [2.999999e-04],\n",
              "       [4.499999e-04],\n",
              "       ...,\n",
              "       [1.499999e-04],\n",
              "       [1.499999e-04],\n",
              "       [1.999990e-05]])"
            ]
          },
          "metadata": {},
          "execution_count": 40
        }
      ]
    },
    {
      "cell_type": "markdown",
      "source": [
        "#### **GOAL** ▶  Plot original and scaled together"
      ],
      "metadata": {
        "id": "ThL-b1WP1n1v"
      }
    },
    {
      "cell_type": "code",
      "source": [
        "# plot the original & scaled data together to compare\n",
        "fig, ax=plt.subplots(1,2)\n",
        "sns.distplot(df.goal, ax=ax[0])\n",
        "ax[0].set_title(\"Original Data\")\n",
        "sns.distplot(goal_scaled, ax=ax[1])\n",
        "ax[1].set_title(\"Scaled data\")"
      ],
      "metadata": {
        "id": "whwM1esr1nF0",
        "outputId": "97910650-5385-4a2b-a818-d7c126ff8f89",
        "colab": {
          "base_uri": "https://localhost:8080/",
          "height": 312
        }
      },
      "execution_count": 41,
      "outputs": [
        {
          "output_type": "execute_result",
          "data": {
            "text/plain": [
              "Text(0.5, 1.0, 'Scaled data')"
            ]
          },
          "metadata": {},
          "execution_count": 41
        },
        {
          "output_type": "display_data",
          "data": {
            "text/plain": [
              "<Figure size 432x288 with 2 Axes>"
            ],
            "image/png": "[encoded data removed]"
          },
          "metadata": {
            "needs_background": "light"
          }
        }
      ]
    },
    {
      "cell_type": "markdown",
      "metadata": {
        "_cell_guid": "bc6457a4-0850-4ba8-b3d3-d13b0773a816",
        "_uuid": "027cd701d636d429da778526c55ceca1a90a3f7d",
        "id": "wGSgadQvcUYJ"
      },
      "source": [
        "### Normalization\n",
        "___\n",
        "\n",
        "**TODO**\n",
        "\n",
        "* Normalize the `usd_pledged_real` column with a [`Box-Cox`](https://en.wikipedia.org/wiki/Power_transform#Box–Cox_transformation)\n",
        "* Plot the original & normalzied data together to compare\n",
        "* Normalize the `pledged` column with a [`Box-Cox`](https://en.wikipedia.org/wiki/Power_transform#Box–Cox_transformation)\n",
        "* Plot the original & normalzied data together to compare"
      ]
    },
    {
      "cell_type": "markdown",
      "source": [
        "#### ▶ Normalize the **usd_pledged_real** column with a Box-Cox"
      ],
      "metadata": {
        "id": "VPSbwT7z2TRf"
      }
    },
    {
      "cell_type": "code",
      "source": [
        "## data must be positive for normalizing data using box cox\n",
        "\n",
        "usd_pledges = df.usd_pledged_real \n",
        "pos_usd_pledges = usd_pledges[usd_pledges > 0]\n",
        "\n",
        "\n",
        "# Normalize the pledges using Box-Cox\n",
        "normalized_pledges = stats.boxcox(pos_usd_pledges)[0]\n",
        "\n",
        "# plot both together to compare\n",
        "fig, ax=plt.subplots(1,2)\n",
        "sns.distplot(usd_pledges, ax=ax[0])\n",
        "ax[0].set_title(\"Original Data\")\n",
        "sns.distplot(normalized_pledges, ax=ax[1])\n",
        "ax[1].set_title(\"Normalized data\")"
      ],
      "metadata": {
        "colab": {
          "base_uri": "https://localhost:8080/",
          "height": 313
        },
        "id": "4Hcb9RQN2Rd9",
        "outputId": "df8f6294-fef1-4480-eab4-c7781a1f8b61"
      },
      "execution_count": 42,
      "outputs": [
        {
          "output_type": "execute_result",
          "data": {
            "text/plain": [
              "Text(0.5, 1.0, 'Normalized data')"
            ]
          },
          "metadata": {},
          "execution_count": 42
        },
        {
          "output_type": "display_data",
          "data": {
            "text/plain": [
              "<Figure size 432x288 with 2 Axes>"
            ],
            "image/png": "[encoded data removed]"
          },
          "metadata": {
            "needs_background": "light"
          }
        }
      ]
    },
    {
      "cell_type": "markdown",
      "source": [
        "#### ▶ Normalize the **pledged** column with a Box-Cox"
      ],
      "metadata": {
        "id": "WowPQRyB4lET"
      }
    },
    {
      "cell_type": "code",
      "source": [
        "## data must be positive for normalizing data using box cox\n",
        "\n",
        "org_pledges = df.pledged \n",
        "pos_pledges = org_pledges[org_pledges > 0]\n",
        "\n",
        "\n",
        "# Normalize the pledges using Box-Cox\n",
        "normalized_pledges = stats.boxcox(pos_pledges)[0]\n",
        "\n",
        "# plot both together to compare\n",
        "fig, ax=plt.subplots(1,2)\n",
        "sns.distplot(usd_pledges, ax=ax[0])\n",
        "ax[0].set_title(\"Original Data\")\n",
        "sns.distplot(normalized_pledges, ax=ax[1])\n",
        "ax[1].set_title(\"Normalized data\")"
      ],
      "metadata": {
        "outputId": "92930403-6816-4a07-b11c-dd17b2681c38",
        "colab": {
          "base_uri": "https://localhost:8080/",
          "height": 313
        },
        "id": "6UFVzzhZ41gG"
      },
      "execution_count": 43,
      "outputs": [
        {
          "output_type": "execute_result",
          "data": {
            "text/plain": [
              "Text(0.5, 1.0, 'Normalized data')"
            ]
          },
          "metadata": {},
          "execution_count": 43
        },
        {
          "output_type": "display_data",
          "data": {
            "text/plain": [
              "<Figure size 432x288 with 2 Axes>"
            ],
            "image/png": "[encoded data removed]"
          },
          "metadata": {
            "needs_background": "light"
          }
        }
      ]
    }
  ],
  "metadata": {
    "kernelspec": {
      "display_name": "Python 3",
      "language": "python",
      "name": "python3"
    },
    "language_info": {
      "codemirror_mode": {
        "name": "ipython",
        "version": 3
      },
      "file_extension": ".py",
      "mimetype": "text/x-python",
      "name": "python",
      "nbconvert_exporter": "python",
      "pygments_lexer": "ipython3",
      "version": "3.8.6"
    },
    "colab": {
      "provenance": []
    }
  },
  "nbformat": 4,
  "nbformat_minor": 0
}