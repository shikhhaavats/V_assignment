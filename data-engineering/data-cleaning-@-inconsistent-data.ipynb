{
  "cells": [
    {
      "cell_type": "markdown",
      "metadata": {
        "_cell_guid": "b91a74ba-85f4-486e-b5f9-d0898f0626bf",
        "_uuid": "6ac53f18b4f4ec0fc44348cedb5d1c319fa127c0",
        "id": "VVDAUTsIwOMY"
      },
      "source": [
        "# Data cleaning: inconsistent data\n",
        "\n",
        "This notebook is an abstraction of the Kaggle's 5-Day Challenge.\n",
        "\n",
        "The **goal** of this exercise is to clean inconsistent text entries. \n",
        "\n",
        "The **evaluation** of the assignment will follow:\n",
        "\n",
        "* Design process and thinking as a data engineer.\n",
        "* Validation of knowledge on the different tools and steps throughout the process.\n",
        "* Storytelling and visualisation of the insights.\n",
        "\n",
        "Exercise **workflow**:\n",
        "\n",
        "* Import dependencies & download dataset from [here](https://www.kaggle.com/zusmani/pakistansuicideattacks/download).\n",
        "* Preliminary text pre-processing\n",
        "* Matching of inconsistent data entries\n",
        "    \n",
        "Notes:\n",
        "\n",
        "* Write your code into the `TODO` cells\n",
        "* Feel free to choose how to present the results throughout the exercise, what libraries (e.g., seaborn, bokeh, etc.) and/or tools (e.g., PowerBI or Tableau)."
      ]
    },
    {
      "cell_type": "markdown",
      "metadata": {
        "_cell_guid": "5cd5061f-ae30-4837-a53b-690ffd5c5830",
        "_uuid": "9d82bf13584b8e682962fbb96131f2447d741679",
        "id": "YeFVLdc8wOMd"
      },
      "source": [
        "## Preamble\n",
        "________"
      ]
    },
    {
      "cell_type": "code",
      "execution_count": 3,
      "metadata": {
        "_cell_guid": "135a7804-b5f5-40aa-8657-4a15774e3666",
        "_uuid": "835cbe0834b935fb0fd40c75b9c39454836f4d5f",
        "id": "ZT_XU89TwOMe"
      },
      "outputs": [],
      "source": [
        "#!pip install bs4\n",
        "#!pip3 install fuzzywuzzy\n",
        "\n",
        "import pandas as pd\n",
        "import numpy as np\n",
        "import warnings\n",
        "from bs4 import UnicodeDammit\n",
        "import string\n",
        "import fuzzywuzzy\n",
        "from fuzzywuzzy import process\n",
        "import chardet\n",
        "\n",
        "warnings.filterwarnings(\"ignore\") \n",
        "np.random.seed(0)"
      ]
    },
    {
      "cell_type": "markdown",
      "metadata": {
        "id": "y77YDPnywOMf"
      },
      "source": [
        "## Data\n",
        "________\n",
        "\n",
        "\n",
        "**TODO**\n",
        "\n",
        "* Download dataset from [here](https://www.kaggle.com/zusmani/pakistansuicideattacks/download).\n",
        "* Identify the encoding of the data in `filename`\n",
        "* Read the csv into `suicide_attacks` variable using the correct encoding (the `chardet` module might come handy)."
      ]
    },
    {
      "cell_type": "code",
      "execution_count": 6,
      "metadata": {
        "colab": {
          "base_uri": "https://localhost:8080/",
          "height": 36
        },
        "id": "ZsffYk_2wOMf",
        "outputId": "7668c9e6-1c8b-46b8-ff81-f4dbe02b84dd"
      },
      "outputs": [
        {
          "output_type": "execute_result",
          "data": {
            "text/plain": [
              "'windows-1252'"
            ],
            "application/vnd.google.colaboratory.intrinsic+json": {
              "type": "string"
            }
          },
          "metadata": {},
          "execution_count": 6
        }
      ],
      "source": [
        "filename = \"PakistanSuicideAttacks Ver 11 (30-November-2017).csv\"\n",
        "\n",
        "## Find file encoding\n",
        "with open(filename, 'rb') as file:\n",
        "   content = file.read()\n",
        "\n",
        "suggestion = UnicodeDammit(content)\n",
        "suggestion.original_encoding\n",
        "\n"
      ]
    },
    {
      "cell_type": "code",
      "source": [
        "encoding = \"windows-1252\"\n",
        "\n",
        "suicide_attacks = pd.read_csv(filename, encoding=encoding)\n",
        "suicide_attacks.info()"
      ],
      "metadata": {
        "colab": {
          "base_uri": "https://localhost:8080/"
        },
        "id": "-1WxYGUzx2ud",
        "outputId": "3e332ec6-5f88-4330-e7b2-685dc39a1626"
      },
      "execution_count": 7,
      "outputs": [
        {
          "output_type": "stream",
          "name": "stdout",
          "text": [
            "<class 'pandas.core.frame.DataFrame'>\n",
            "RangeIndex: 496 entries, 0 to 495\n",
            "Data columns (total 26 columns):\n",
            " #   Column                   Non-Null Count  Dtype  \n",
            "---  ------                   --------------  -----  \n",
            " 0   S#                       496 non-null    int64  \n",
            " 1   Date                     496 non-null    object \n",
            " 2   Islamic Date             342 non-null    object \n",
            " 3   Blast Day Type           486 non-null    object \n",
            " 4   Holiday Type             72 non-null     object \n",
            " 5   Time                     285 non-null    object \n",
            " 6   City                     496 non-null    object \n",
            " 7   Latitude                 493 non-null    float64\n",
            " 8   Longitude                493 non-null    object \n",
            " 9   Province                 496 non-null    object \n",
            " 10  Location                 493 non-null    object \n",
            " 11  Location Category        461 non-null    object \n",
            " 12  Location Sensitivity     460 non-null    object \n",
            " 13  Open/Closed Space        461 non-null    object \n",
            " 14  Influencing Event/Event  191 non-null    object \n",
            " 15  Target Type              470 non-null    object \n",
            " 16  Targeted Sect if any     448 non-null    object \n",
            " 17  Killed Min               350 non-null    float64\n",
            " 18  Killed Max               480 non-null    float64\n",
            " 19  Injured Min              365 non-null    float64\n",
            " 20  Injured Max              464 non-null    object \n",
            " 21  No. of Suicide Blasts    414 non-null    float64\n",
            " 22  Explosive Weight (max)   172 non-null    object \n",
            " 23  Hospital Names           297 non-null    object \n",
            " 24  Temperature(C)           491 non-null    float64\n",
            " 25  Temperature(F)           489 non-null    float64\n",
            "dtypes: float64(7), int64(1), object(18)\n",
            "memory usage: 100.9+ KB\n"
          ]
        }
      ]
    },
    {
      "cell_type": "markdown",
      "metadata": {
        "_cell_guid": "83630dd4-6775-4ba5-a290-077c6f503f64",
        "_uuid": "a3f42cea88795426f036e35d30d5c079f3c6152c",
        "id": "wOpwTMWQwOMf"
      },
      "source": [
        "## Preliminary text pre-processing\n",
        "___\n",
        "\n",
        "**TODO**\n",
        "\n",
        "* Clean the `City` column for inconsisntecies\n",
        "* Normalize the `City` column for upper or lowercase, spaces, etc."
      ]
    },
    {
      "cell_type": "code",
      "execution_count": 8,
      "metadata": {
        "_cell_guid": "b3d4b17e-77c4-46d8-9681-a94801969b49",
        "_uuid": "4bced8b6f6a985ded2c991f46ed0145ac1d8b722",
        "colab": {
          "base_uri": "https://localhost:8080/"
        },
        "id": "rxnwgrQ6wOMg",
        "outputId": "abcb6fc0-ac63-46db-d69d-88e42f3c3c16"
      },
      "outputs": [
        {
          "output_type": "execute_result",
          "data": {
            "text/plain": [
              "array(['ATTOCK', 'Attock ', 'Bajaur Agency', 'Bannu', 'Bhakkar ', 'Buner',\n",
              "       'Chakwal ', 'Chaman', 'Charsadda', 'Charsadda ', 'D. I Khan',\n",
              "       'D.G Khan', 'D.G Khan ', 'D.I Khan', 'D.I Khan ', 'Dara Adam Khel',\n",
              "       'Dara Adam khel', 'Fateh Jang', 'Ghallanai, Mohmand Agency ',\n",
              "       'Gujrat', 'Hangu', 'Haripur', 'Hayatabad', 'Islamabad',\n",
              "       'Islamabad ', 'Jacobabad', 'KURRAM AGENCY', 'Karachi', 'Karachi ',\n",
              "       'Karak', 'Khanewal', 'Khuzdar', 'Khyber Agency', 'Khyber Agency ',\n",
              "       'Kohat', 'Kohat ', 'Kuram Agency ', 'Lahore', 'Lahore ',\n",
              "       'Lakki Marwat', 'Lakki marwat', 'Lasbela', 'Lower Dir', 'MULTAN',\n",
              "       'Malakand ', 'Mansehra', 'Mardan', 'Mohmand Agency',\n",
              "       'Mohmand Agency ', 'Mohmand agency', 'Mosal Kor, Mohmand Agency',\n",
              "       'Multan', 'Muzaffarabad', 'North Waziristan', 'North waziristan',\n",
              "       'Nowshehra', 'Orakzai Agency', 'Peshawar', 'Peshawar ', 'Pishin',\n",
              "       'Poonch', 'Quetta', 'Quetta ', 'Rawalpindi', 'Sargodha',\n",
              "       'Sehwan town', 'Shabqadar-Charsadda', 'Shangla ', 'Shikarpur',\n",
              "       'Sialkot', 'South Waziristan', 'South waziristan', 'Sudhanoti',\n",
              "       'Sukkur', 'Swabi ', 'Swat', 'Swat ', 'Taftan',\n",
              "       'Tangi, Charsadda District', 'Tank', 'Tank ', 'Taunsa',\n",
              "       'Tirah Valley', 'Totalai', 'Upper Dir', 'Wagah', 'Zhob', 'bannu',\n",
              "       'karachi', 'karachi ', 'lakki marwat', 'peshawar', 'swat'],\n",
              "      dtype=object)"
            ]
          },
          "metadata": {},
          "execution_count": 8
        }
      ],
      "source": [
        "# get all the unique values in the 'City' column\n",
        "cities = suicide_attacks['City'].unique()\n",
        "\n",
        "# sort them alphabetically and then take a closer look\n",
        "cities.sort()\n",
        "cities"
      ]
    },
    {
      "cell_type": "code",
      "source": [
        "## Clean city name\n",
        "\n",
        "suicide_attacks['City'] = suicide_attacks['City'].str.lower().str.strip()\n",
        "print(suicide_attacks['City'].unique())"
      ],
      "metadata": {
        "colab": {
          "base_uri": "https://localhost:8080/"
        },
        "id": "4bt8hgVsyCYV",
        "outputId": "93122f58-3f9f-4925-fc2a-2d63a1f23fde"
      },
      "execution_count": 73,
      "outputs": [
        {
          "output_type": "stream",
          "name": "stdout",
          "text": [
            "['islamabad' 'karachi' 'quetta' 'rawalpindi' 'north waziristan' 'kohat'\n",
            " 'attock' 'sialkot' 'lahore' 'swat' 'hangu' 'bannu' 'lasbela' 'malakand'\n",
            " 'peshawar' 'di khan' 'lakki marwat' 'tank' 'gujrat' 'charsadda'\n",
            " 'kuram agency' 'shangla' 'bajaur agency' 'south waziristan' 'haripur'\n",
            " 'sargodha' 'nowshehra' 'mohmand agency' 'dara adam khel' 'khyber agency'\n",
            " 'mardan' 'bhakkar' 'orakzai agency' 'buner' 'dg khan' 'pishin' 'chakwal'\n",
            " 'upper dir' 'muzaffarabad' 'totalai' 'multan' 'lower dir' 'sudhanoti'\n",
            " 'poonch' 'mansehra' 'karak' 'swabi' 'shikarpur' 'sukkur' 'chaman'\n",
            " 'd i khan' 'khanewal' 'fateh jang' 'taftan' 'tirah valley' 'wagah' 'zhob'\n",
            " 'kurram agency' 'taunsa' 'jacobabad' 'shabqadar-charsadda' 'khuzdar'\n",
            " 'ghallanai, mohmand agency' 'hayatabad' 'mosal kor, mohmand agency'\n",
            " 'sehwan town' 'tangi, charsadda district']\n"
          ]
        }
      ]
    },
    {
      "cell_type": "markdown",
      "source": [
        "We can still see few inconsistencies for instance \"di khan\",\"kurram agency\" etc. has not been cleaned enough to remove the duplicate occurence so we willm use fuzzy logic in the next section"
      ],
      "metadata": {
        "id": "t2rh1JmD21jK"
      }
    },
    {
      "cell_type": "markdown",
      "metadata": {
        "_cell_guid": "a612e0fa-1361-4e8e-a6aa-5008b631d076",
        "_uuid": "3639865348f499faa25b75a46438807ed70d4173",
        "id": "HAcpN3i-wOMg"
      },
      "source": [
        "## Matching of inconsistent data entries\n",
        "___\n",
        "\n",
        "**TODO** \n",
        "\n",
        "* Verify there are no more inconsistencies in the `City` column.\n",
        "* Feel free to use the [`fuzzywuzzy`](https://github.com/seatgeek/fuzzywuzzy) package to match an remove possible issues.\n",
        "\n",
        "> **Fuzzy matching:** The process of automatically finding text strings that are very similar to the target string. In general, a string is considered \"closer\" to another one the fewer characters you'd need to change if you were transforming one string into another. So \"apple\" and \"snapple\" are two changes away from each other (add \"s\" and \"n\") while \"in\" and \"on\" and one change away (rplace \"i\" with \"o\"). You won't always be able to rely on fuzzy matching 100%, but it will usually end up saving you at least a little time."
      ]
    },
    {
      "cell_type": "code",
      "execution_count": 74,
      "metadata": {
        "_cell_guid": "8f20fd24-33a4-472d-ba22-be0abc2a1e5b",
        "_uuid": "1408dacdd7b76f306bd1c0c534b991d76243d7cc",
        "colab": {
          "base_uri": "https://localhost:8080/"
        },
        "id": "8EVbyhuiwOMh",
        "outputId": "b2d620d6-bb7d-4dda-d370-a15a58385224"
      },
      "outputs": [
        {
          "output_type": "stream",
          "name": "stdout",
          "text": [
            "attock\n",
            "bajaur agency\n",
            "bannu\n",
            "bhakkar\n",
            "buner\n",
            "chakwal\n",
            "chaman\n",
            "charsadda\n",
            "d i khan\n",
            "dara adam khel\n",
            "dg khan\n",
            "di khan\n",
            "fateh jang\n",
            "ghallanai, mohmand agency\n",
            "gujrat\n",
            "hangu\n",
            "haripur\n",
            "hayatabad\n",
            "islamabad\n",
            "jacobabad\n",
            "karachi\n",
            "karak\n",
            "khanewal\n",
            "khuzdar\n",
            "khyber agency\n",
            "kohat\n",
            "kuram agency\n",
            "kurram agency\n",
            "lahore\n",
            "lakki marwat\n",
            "lasbela\n",
            "lower dir\n",
            "malakand\n",
            "mansehra\n",
            "mardan\n",
            "mohmand agency\n",
            "mosal kor, mohmand agency\n",
            "multan\n",
            "muzaffarabad\n",
            "north waziristan\n",
            "nowshehra\n",
            "orakzai agency\n",
            "peshawar\n",
            "pishin\n",
            "poonch\n",
            "quetta\n",
            "rawalpindi\n",
            "sargodha\n",
            "sehwan town\n",
            "shabqadar-charsadda\n",
            "shangla\n",
            "shikarpur\n",
            "sialkot\n",
            "south waziristan\n",
            "sudhanoti\n",
            "sukkur\n",
            "swabi\n",
            "swat\n",
            "taftan\n",
            "tangi, charsadda district\n",
            "tank\n",
            "taunsa\n",
            "tirah valley\n",
            "totalai\n",
            "upper dir\n",
            "wagah\n",
            "zhob\n"
          ]
        }
      ],
      "source": [
        "# get all the unique values in the 'City' column\n",
        "cities = suicide_attacks['City'].unique()\n",
        "\n",
        "# sort them alphabetically and then take a closer look\n",
        "cities.sort()\n",
        "cities2=cities.astype(str)\n",
        "print(\"\\n\".join(cities))"
      ]
    },
    {
      "cell_type": "code",
      "source": [
        "## Apply fuzzy wuzzy\n",
        "# let's check top closest matches to \"kuram agency\"\n",
        "kuram_match = fuzzywuzzy.process.extract(\"kuram agency\", cities, limit=5, scorer=fuzzywuzzy.fuzz.token_sort_ratio)\n",
        "kuram_match "
      ],
      "metadata": {
        "colab": {
          "base_uri": "https://localhost:8080/"
        },
        "id": "ZtrA6V2P-JVV",
        "outputId": "d2100efa-a354-4bde-f9e3-353c19e7cbc3"
      },
      "execution_count": 76,
      "outputs": [
        {
          "output_type": "execute_result",
          "data": {
            "text/plain": [
              "[('kuram agency', 100),\n",
              " ('kurram agency', 96),\n",
              " ('bajaur agency', 72),\n",
              " ('khyber agency', 72),\n",
              " ('orakzai agency', 69)]"
            ]
          },
          "metadata": {},
          "execution_count": 76
        }
      ]
    },
    {
      "cell_type": "markdown",
      "source": [
        "Top two values have a matching score of 96 and above, we can also see bajaur agency with matching score of 72 but we will not considet it similar to kurram agency. "
      ],
      "metadata": {
        "id": "8upA-CzE_-Qb"
      }
    },
    {
      "cell_type": "code",
      "source": [
        "### Checking for di khan\n",
        "di_match = fuzzywuzzy.process.extract(\"di khan\", cities, limit=5, scorer=fuzzywuzzy.fuzz.token_sort_ratio)\n",
        "di_match "
      ],
      "metadata": {
        "colab": {
          "base_uri": "https://localhost:8080/"
        },
        "id": "f152H3DLAU5_",
        "outputId": "a106c2f0-858b-4012-e54c-6537a29108d4"
      },
      "execution_count": 77,
      "outputs": [
        {
          "output_type": "execute_result",
          "data": {
            "text/plain": [
              "[('di khan', 100),\n",
              " ('d i khan', 93),\n",
              " ('dg khan', 86),\n",
              " ('khanewal', 53),\n",
              " ('hangu', 50)]"
            ]
          },
          "metadata": {},
          "execution_count": 77
        }
      ]
    },
    {
      "cell_type": "markdown",
      "source": [
        "Based on above two results, we can consider score 90 and above to match the strings"
      ],
      "metadata": {
        "id": "5CXpSEUsAhWM"
      }
    },
    {
      "cell_type": "code",
      "source": [
        "## Creating a function to handle the replacements\n",
        "def rep_fuzzy_matches(df, column, string_to_match, score):\n",
        "  \n",
        "  strings = df[column].unique()\n",
        "  matches = fuzzywuzzy.process.extract(string_to_match, strings, limit=5, scorer=fuzzywuzzy.fuzz.token_sort_ratio)  \n",
        "  # get matches for a specified score\n",
        "  ninety_matches = [matches[0] for matches in matches if matches[1] >= score]\n",
        "  # get the rows of all the close matches in our dataframe\n",
        "  rows_with_matches = df[column].isin(ninety_matches)\n",
        "  # replace all rows with close matches with the input matches \n",
        "  df.loc[rows_with_matches, column] = string_to_match  \n",
        "  print(\"All string replaced with the matching string\")\n",
        "  print(\"Replacement count : \",len(ninety_matches))\n"
      ],
      "metadata": {
        "id": "mgtVhLd8AqT8"
      },
      "execution_count": 100,
      "outputs": []
    },
    {
      "cell_type": "code",
      "source": [
        "rep_fuzzy_matches(suicide_attacks,\"City\",\"kuram agency\",90)"
      ],
      "metadata": {
        "colab": {
          "base_uri": "https://localhost:8080/"
        },
        "id": "LmV-QO4YFhF6",
        "outputId": "8aefc435-71b5-45db-8be3-45446c107d2d"
      },
      "execution_count": 101,
      "outputs": [
        {
          "output_type": "stream",
          "name": "stdout",
          "text": [
            "All string replaced with the matching string\n",
            "Replacement count :  1\n"
          ]
        }
      ]
    },
    {
      "cell_type": "code",
      "source": [
        "rep_fuzzy_matches(suicide_attacks,\"City\",\"di khan\",90)"
      ],
      "metadata": {
        "colab": {
          "base_uri": "https://localhost:8080/"
        },
        "id": "bWuRdb90G2MB",
        "outputId": "81331c04-6840-4e84-f759-d3b382ec34b1"
      },
      "execution_count": 102,
      "outputs": [
        {
          "output_type": "stream",
          "name": "stdout",
          "text": [
            "All string replaced with the matching string\n",
            "Replacement count :  2\n"
          ]
        }
      ]
    },
    {
      "cell_type": "code",
      "source": [
        "# get all the unique values in the 'City' column\n",
        "cities = suicide_attacks['City'].unique()\n",
        "\n",
        "# sort them alphabetically and then take a closer look\n",
        "cities.sort()\n",
        "print(\"\\n\".join(cities))"
      ],
      "metadata": {
        "colab": {
          "base_uri": "https://localhost:8080/"
        },
        "id": "QywlSmwKHA4k",
        "outputId": "ec29371d-c12a-4471-fbd8-bc07eff1a7e6"
      },
      "execution_count": 104,
      "outputs": [
        {
          "output_type": "stream",
          "name": "stdout",
          "text": [
            "attock\n",
            "bajaur agency\n",
            "bannu\n",
            "bhakkar\n",
            "buner\n",
            "chakwal\n",
            "chaman\n",
            "charsadda\n",
            "dara adam khel\n",
            "dg khan\n",
            "di khan\n",
            "fateh jang\n",
            "ghallanai, mohmand agency\n",
            "gujrat\n",
            "hangu\n",
            "haripur\n",
            "hayatabad\n",
            "islamabad\n",
            "jacobabad\n",
            "karachi\n",
            "karak\n",
            "khanewal\n",
            "khuzdar\n",
            "khyber agency\n",
            "kohat\n",
            "kuram agency\n",
            "lahore\n",
            "lakki marwat\n",
            "lasbela\n",
            "lower dir\n",
            "malakand\n",
            "mansehra\n",
            "mardan\n",
            "mohmand agency\n",
            "mosal kor, mohmand agency\n",
            "multan\n",
            "muzaffarabad\n",
            "north waziristan\n",
            "nowshehra\n",
            "orakzai agency\n",
            "peshawar\n",
            "pishin\n",
            "poonch\n",
            "quetta\n",
            "rawalpindi\n",
            "sargodha\n",
            "sehwan town\n",
            "shabqadar-charsadda\n",
            "shangla\n",
            "shikarpur\n",
            "sialkot\n",
            "south waziristan\n",
            "sudhanoti\n",
            "sukkur\n",
            "swabi\n",
            "swat\n",
            "taftan\n",
            "tangi, charsadda district\n",
            "tank\n",
            "taunsa\n",
            "tirah valley\n",
            "totalai\n",
            "upper dir\n",
            "wagah\n",
            "zhob\n"
          ]
        }
      ]
    },
    {
      "cell_type": "markdown",
      "source": [
        "City column is clean now 😀"
      ],
      "metadata": {
        "id": "MZXNi9h0Hr_T"
      }
    }
  ],
  "metadata": {
    "kernelspec": {
      "display_name": "Python 3",
      "language": "python",
      "name": "python3"
    },
    "language_info": {
      "codemirror_mode": {
        "name": "ipython",
        "version": 3
      },
      "file_extension": ".py",
      "mimetype": "text/x-python",
      "name": "python",
      "nbconvert_exporter": "python",
      "pygments_lexer": "ipython3",
      "version": "3.8.6"
    },
    "colab": {
      "provenance": []
    }
  },
  "nbformat": 4,
  "nbformat_minor": 0
}