{
  "cells": [
    {
      "cell_type": "markdown",
      "metadata": {
        "id": "7cVZTsgM6koY"
      },
      "source": [
        "# Demand Forecast\n",
        "\n",
        "The **goal** of this exercise is to create a demand forecast model for different products (or clusters of products).\n",
        "\n",
        "The **evaluation** of the assignment will follow:\n",
        "\n",
        "* Design process and thinking as a data analyst.\n",
        "* Validation of knowledge on the different tools and steps throughout the process.\n",
        "* Storytelling and visualisation of the insights.\n",
        "\n",
        "\n",
        "Exercise **workflow**:\n",
        "\n",
        "* Import dependencies & data (`../data/Historical\\ Product\\ Demand.csv`).\n",
        "* Explore the dataset to assess its quality (nulls, skew, data types).\n",
        "* Explore the dataset to obtain insights related to the production (e.g., unvariate / bivariate analysis).\n",
        "* Explore the dataset as a time-series (min/max dates, seasonality, trends etc.).\n",
        "* Implement / apply a forecast model:\n",
        "    * Theory\n",
        "    * Parameters tuning\n",
        "    * Build/fit & Validation\n",
        "    * Evaluate performance (e.g., forecast accuracy)\n",
        "    \n",
        "Notes:\n",
        "\n",
        "Feel free to choose how to present the results throughout the exercise, what libraries (e.g., seaborn, bokeh, etc.) and tools (e.g., PowerBI or Tableau).\n",
        "    "
      ]
    },
    {
      "cell_type": "markdown",
      "metadata": {
        "id": "vZnZ9nOk6koc"
      },
      "source": [
        "## Preamble"
      ]
    },
    {
      "cell_type": "code",
      "execution_count": 164,
      "metadata": {
        "id": "os7xHJTS6koc"
      },
      "outputs": [],
      "source": [
        "import pandas as pd\n",
        "import numpy as np\n",
        "import seaborn as sns\n",
        "\n",
        "import matplotlib.pyplot as plt\n",
        "%matplotlib inline\n",
        "\n",
        "import warnings\n",
        "warnings.filterwarnings(\"ignore\")\n",
        "from mlxtend.preprocessing import minmax_scaling\n",
        "from sklearn.preprocessing import MinMaxScaler\n",
        "\n",
        "\n",
        "# not mandatory, but might come handy\n",
        "from scipy import stats\n",
        "import statsmodels.api as sm"
      ]
    },
    {
      "cell_type": "markdown",
      "metadata": {
        "id": "aLc58BVW6kod"
      },
      "source": [
        "## Data exploration"
      ]
    },
    {
      "cell_type": "markdown",
      "metadata": {
        "id": "dw6oEhtK6koe"
      },
      "source": [
        "### Data quality assessment\n",
        "\n",
        "* Explore the dataset to assess its quality (nulls, skew, data types)\n",
        "\n",
        "### Production insights\n",
        "* What products / categories are driving the demand?\n",
        "* What warehouses are driving the production?\n",
        "\n",
        "### Time-series insights\n",
        "* Are there missing dates?\n",
        "* Are all dates valid?\n",
        "* What is the seasonability decomposition?\n"
      ]
    },
    {
      "cell_type": "code",
      "source": [
        "df = pd.read_csv(\"Historical Product Demand.csv\")\n",
        "print(\" Data Sample : \\n\", df.head(3),\"\\n\" )\n",
        "print( \" Data Shape : \", df.shape)\n",
        "\n",
        "df_cpy = df.copy()"
      ],
      "metadata": {
        "id": "53htAn-VAhBm",
        "outputId": "0ac277ea-1f3b-41fe-d1c9-456c75da85d5",
        "colab": {
          "base_uri": "https://localhost:8080/"
        }
      },
      "execution_count": 165,
      "outputs": [
        {
          "output_type": "stream",
          "name": "stdout",
          "text": [
            " Data Sample : \n",
            "    Product_Code Warehouse Product_Category       Date Order_Demand\n",
            "0  Product_0993    Whse_J     Category_028  2012/7/27         100 \n",
            "1  Product_0979    Whse_J     Category_028  2012/1/19         500 \n",
            "2  Product_0979    Whse_J     Category_028   2012/2/3         500  \n",
            "\n",
            " Data Shape :  (1048575, 5)\n"
          ]
        }
      ]
    },
    {
      "cell_type": "markdown",
      "source": [
        "###### ▶ Data Quality"
      ],
      "metadata": {
        "id": "P8f6wzLpCqyf"
      }
    },
    {
      "cell_type": "code",
      "source": [
        "#Check the data types.\n",
        "df_cpy.dtypes"
      ],
      "metadata": {
        "id": "dM1MGygQEYK2",
        "outputId": "82be1193-f9d7-4092-e9af-dbe00c1e620b",
        "colab": {
          "base_uri": "https://localhost:8080/"
        }
      },
      "execution_count": 166,
      "outputs": [
        {
          "output_type": "execute_result",
          "data": {
            "text/plain": [
              "Product_Code        object\n",
              "Warehouse           object\n",
              "Product_Category    object\n",
              "Date                object\n",
              "Order_Demand        object\n",
              "dtype: object"
            ]
          },
          "metadata": {},
          "execution_count": 166
        }
      ]
    },
    {
      "cell_type": "code",
      "source": [
        "# Check missing values\n",
        "print(\"Number of columns : \", len(df_cpy.columns))\n",
        "print(\"Missing values by rows : \" ,df_cpy.isnull().any(axis=1).sum())\n",
        "print(\"Number of rows : \" ,len(df_cpy), \"\\n\")\n",
        "\n",
        "# Number of missing values for each column\n",
        "missing_percent = df_cpy.isnull().sum()*100 / len(df_cpy)\n",
        "miss_df = pd.DataFrame({'missing (count)': df_cpy.isnull().sum(),'missing (%)': missing_percent})\n",
        "miss_df.sort_values(by=['missing (%)'], ascending=False)\n",
        "\n"
      ],
      "metadata": {
        "id": "O0c8EEeaEeW6",
        "outputId": "b5c9d218-f8df-4225-fe9a-7782f3c25bdd",
        "colab": {
          "base_uri": "https://localhost:8080/",
          "height": 276
        }
      },
      "execution_count": 167,
      "outputs": [
        {
          "output_type": "stream",
          "name": "stdout",
          "text": [
            "Number of columns :  5\n",
            "Missing values by rows :  11239\n",
            "Number of rows :  1048575 \n",
            "\n"
          ]
        },
        {
          "output_type": "execute_result",
          "data": {
            "text/plain": [
              "                  missing (count)  missing (%)\n",
              "Date                        11239     1.071836\n",
              "Product_Code                    0     0.000000\n",
              "Warehouse                       0     0.000000\n",
              "Product_Category                0     0.000000\n",
              "Order_Demand                    0     0.000000"
            ],
            "text/html": [
              "\n",
              "  <div id=\"df-72af89ad-cd2b-4a3f-8844-0ed45a71f7b0\">\n",
              "    <div class=\"colab-df-container\">\n",
              "      <div>\n",
              "<style scoped>\n",
              "    .dataframe tbody tr th:only-of-type {\n",
              "        vertical-align: middle;\n",
              "    }\n",
              "\n",
              "    .dataframe tbody tr th {\n",
              "        vertical-align: top;\n",
              "    }\n",
              "\n",
              "    .dataframe thead th {\n",
              "        text-align: right;\n",
              "    }\n",
              "</style>\n",
              "<table border=\"1\" class=\"dataframe\">\n",
              "  <thead>\n",
              "    <tr style=\"text-align: right;\">\n",
              "      <th></th>\n",
              "      <th>missing (count)</th>\n",
              "      <th>missing (%)</th>\n",
              "    </tr>\n",
              "  </thead>\n",
              "  <tbody>\n",
              "    <tr>\n",
              "      <th>Date</th>\n",
              "      <td>11239</td>\n",
              "      <td>1.071836</td>\n",
              "    </tr>\n",
              "    <tr>\n",
              "      <th>Product_Code</th>\n",
              "      <td>0</td>\n",
              "      <td>0.000000</td>\n",
              "    </tr>\n",
              "    <tr>\n",
              "      <th>Warehouse</th>\n",
              "      <td>0</td>\n",
              "      <td>0.000000</td>\n",
              "    </tr>\n",
              "    <tr>\n",
              "      <th>Product_Category</th>\n",
              "      <td>0</td>\n",
              "      <td>0.000000</td>\n",
              "    </tr>\n",
              "    <tr>\n",
              "      <th>Order_Demand</th>\n",
              "      <td>0</td>\n",
              "      <td>0.000000</td>\n",
              "    </tr>\n",
              "  </tbody>\n",
              "</table>\n",
              "</div>\n",
              "      <button class=\"colab-df-convert\" onclick=\"convertToInteractive('df-72af89ad-cd2b-4a3f-8844-0ed45a71f7b0')\"\n",
              "              title=\"Convert this dataframe to an interactive table.\"\n",
              "              style=\"display:none;\">\n",
              "        \n",
              "  <svg xmlns=\"http://www.w3.org/2000/svg\" height=\"24px\"viewBox=\"0 0 24 24\"\n",
              "       width=\"24px\">\n",
              "    <path d=\"M0 0h24v24H0V0z\" fill=\"none\"/>\n",
              "    <path d=\"M18.56 5.44l.94 2.06.94-2.06 2.06-.94-2.06-.94-.94-2.06-.94 2.06-2.06.94zm-11 1L8.5 8.5l.94-2.06 2.06-.94-2.06-.94L8.5 2.5l-.94 2.06-2.06.94zm10 10l.94 2.06.94-2.06 2.06-.94-2.06-.94-.94-2.06-.94 2.06-2.06.94z\"/><path d=\"M17.41 7.96l-1.37-1.37c-.4-.4-.92-.59-1.43-.59-.52 0-1.04.2-1.43.59L10.3 9.45l-7.72 7.72c-.78.78-.78 2.05 0 2.83L4 21.41c.39.39.9.59 1.41.59.51 0 1.02-.2 1.41-.59l7.78-7.78 2.81-2.81c.8-.78.8-2.07 0-2.86zM5.41 20L4 18.59l7.72-7.72 1.47 1.35L5.41 20z\"/>\n",
              "  </svg>\n",
              "      </button>\n",
              "      \n",
              "  <style>\n",
              "    .colab-df-container {\n",
              "      display:flex;\n",
              "      flex-wrap:wrap;\n",
              "      gap: 12px;\n",
              "    }\n",
              "\n",
              "    .colab-df-convert {\n",
              "      background-color: #E8F0FE;\n",
              "      border: none;\n",
              "      border-radius: 50%;\n",
              "      cursor: pointer;\n",
              "      display: none;\n",
              "      fill: #1967D2;\n",
              "      height: 32px;\n",
              "      padding: 0 0 0 0;\n",
              "      width: 32px;\n",
              "    }\n",
              "\n",
              "    .colab-df-convert:hover {\n",
              "      background-color: #E2EBFA;\n",
              "      box-shadow: 0px 1px 2px rgba(60, 64, 67, 0.3), 0px 1px 3px 1px rgba(60, 64, 67, 0.15);\n",
              "      fill: #174EA6;\n",
              "    }\n",
              "\n",
              "    [theme=dark] .colab-df-convert {\n",
              "      background-color: #3B4455;\n",
              "      fill: #D2E3FC;\n",
              "    }\n",
              "\n",
              "    [theme=dark] .colab-df-convert:hover {\n",
              "      background-color: #434B5C;\n",
              "      box-shadow: 0px 1px 3px 1px rgba(0, 0, 0, 0.15);\n",
              "      filter: drop-shadow(0px 1px 2px rgba(0, 0, 0, 0.3));\n",
              "      fill: #FFFFFF;\n",
              "    }\n",
              "  </style>\n",
              "\n",
              "      <script>\n",
              "        const buttonEl =\n",
              "          document.querySelector('#df-72af89ad-cd2b-4a3f-8844-0ed45a71f7b0 button.colab-df-convert');\n",
              "        buttonEl.style.display =\n",
              "          google.colab.kernel.accessAllowed ? 'block' : 'none';\n",
              "\n",
              "        async function convertToInteractive(key) {\n",
              "          const element = document.querySelector('#df-72af89ad-cd2b-4a3f-8844-0ed45a71f7b0');\n",
              "          const dataTable =\n",
              "            await google.colab.kernel.invokeFunction('convertToInteractive',\n",
              "                                                     [key], {});\n",
              "          if (!dataTable) return;\n",
              "\n",
              "          const docLinkHtml = 'Like what you see? Visit the ' +\n",
              "            '<a target=\"_blank\" href=https://colab.research.google.com/notebooks/data_table.ipynb>data table notebook</a>'\n",
              "            + ' to learn more about interactive tables.';\n",
              "          element.innerHTML = '';\n",
              "          dataTable['output_type'] = 'display_data';\n",
              "          await google.colab.output.renderOutput(dataTable, element);\n",
              "          const docLink = document.createElement('div');\n",
              "          docLink.innerHTML = docLinkHtml;\n",
              "          element.appendChild(docLink);\n",
              "        }\n",
              "      </script>\n",
              "    </div>\n",
              "  </div>\n",
              "  "
            ]
          },
          "metadata": {},
          "execution_count": 167
        }
      ]
    },
    {
      "cell_type": "markdown",
      "source": [
        "Only 1.07 % data is missing which belongs to date column, we can drop these rows"
      ],
      "metadata": {
        "id": "eocvWNRAHUSY"
      }
    },
    {
      "cell_type": "code",
      "source": [
        "df_cpy.dropna(axis=0, inplace=True) #remove all rows with na's.\n",
        "df_cpy.head()\n",
        "\n",
        "# Number of missing values for each column\n",
        "missing_percent = df_cpy.isnull().sum()*100 / len(df_cpy)\n",
        "print(\" Missing percentage by each column  :- \\n\", missing_percent)"
      ],
      "metadata": {
        "id": "GKgfxFALHigZ",
        "outputId": "82014d80-5fcc-4ead-93af-d7b4767be890",
        "colab": {
          "base_uri": "https://localhost:8080/"
        }
      },
      "execution_count": 168,
      "outputs": [
        {
          "output_type": "stream",
          "name": "stdout",
          "text": [
            " Missing percentage by each column  :- \n",
            " Product_Code        0.0\n",
            "Warehouse           0.0\n",
            "Product_Category    0.0\n",
            "Date                0.0\n",
            "Order_Demand        0.0\n",
            "dtype: float64\n"
          ]
        }
      ]
    },
    {
      "cell_type": "code",
      "source": [
        "\n",
        "df_cpy['Order_Demand_abs'] = df_cpy['Order_Demand']\n",
        "\n",
        "#Change the data type\n",
        "#df_cpy['Order_Demand_abs'] = pd.to_numeric(df_cpy['Order_Demand'])\n",
        "\n",
        "# while changing data type we saw there was an issue with value present in 112289 location\n",
        "# let's check what it is\n",
        "df_cpy['Order_Demand_abs'].iloc[112289]\n"
      ],
      "metadata": {
        "id": "zwzy4ak7Ggp1",
        "outputId": "9aa71a91-226d-469f-9d3c-9605e65b79d1",
        "colab": {
          "base_uri": "https://localhost:8080/",
          "height": 36
        }
      },
      "execution_count": 169,
      "outputs": [
        {
          "output_type": "execute_result",
          "data": {
            "text/plain": [
              "'(1)'"
            ],
            "application/vnd.google.colaboratory.intrinsic+json": {
              "type": "string"
            }
          },
          "metadata": {},
          "execution_count": 169
        }
      ]
    },
    {
      "cell_type": "code",
      "source": [
        "df_cpy['Order_Demand_abs'] = df_cpy['Order_Demand_abs'].str.replace(\"(\",\"\")\n",
        "df_cpy['Order_Demand_abs'] = df_cpy['Order_Demand_abs'].str.replace(\")\",\"\")\n",
        "df_cpy['Order_Demand_abs'].iloc[112289]"
      ],
      "metadata": {
        "id": "j4STyoc0pxnZ",
        "outputId": "30c93740-a215-45da-ac0b-27958f5fdf34",
        "colab": {
          "base_uri": "https://localhost:8080/",
          "height": 36
        }
      },
      "execution_count": 170,
      "outputs": [
        {
          "output_type": "execute_result",
          "data": {
            "text/plain": [
              "'1'"
            ],
            "application/vnd.google.colaboratory.intrinsic+json": {
              "type": "string"
            }
          },
          "metadata": {},
          "execution_count": 170
        }
      ]
    },
    {
      "cell_type": "markdown",
      "source": [
        "Let's change the datatype now"
      ],
      "metadata": {
        "id": "8wBDVo8ZqShq"
      }
    },
    {
      "cell_type": "code",
      "source": [
        "df_cpy['Order_Demand_abs'] = pd.to_numeric(df_cpy['Order_Demand_abs'])\n",
        "df_cpy['Order_Demand_abs'].dtype"
      ],
      "metadata": {
        "id": "zf7j25HNqYI_",
        "outputId": "8230d4af-cde5-4694-e7fe-b7ba40df2c20",
        "colab": {
          "base_uri": "https://localhost:8080/"
        }
      },
      "execution_count": 171,
      "outputs": [
        {
          "output_type": "execute_result",
          "data": {
            "text/plain": [
              "dtype('int64')"
            ]
          },
          "metadata": {},
          "execution_count": 171
        }
      ]
    },
    {
      "cell_type": "code",
      "source": [
        "print(\"Minimum and Maximum Ordered demand : \" ,df_cpy['Order_Demand_abs'].min() , \"and \", df_cpy['Order_Demand_abs'].max())\n",
        "print(\"Lowest and Highest Date : \" ,df_cpy['Date'].min() ,\"and \", df_cpy['Date'].max())\n",
        "print( \" Data type of Ordered demand :\" , df_cpy.Order_Demand_abs.dtype)\n",
        "print( \" Data type of Date :\" , df_cpy.Date.dtype)"
      ],
      "metadata": {
        "id": "C_RkWT2Tq7aQ",
        "outputId": "b4cdd478-dace-49df-9eb4-187f3b4dfbd6",
        "colab": {
          "base_uri": "https://localhost:8080/"
        }
      },
      "execution_count": 172,
      "outputs": [
        {
          "output_type": "stream",
          "name": "stdout",
          "text": [
            "Minimum and Maximum Ordered demand :  0 and  4000000\n",
            "Lowest and Highest Date :  2011/1/8 and  2017/1/9\n",
            " Data type of Ordered demand : int64\n",
            " Data type of Date : object\n"
          ]
        }
      ]
    },
    {
      "cell_type": "markdown",
      "source": [
        "Change Date from object type to date"
      ],
      "metadata": {
        "id": "y2Mf5zI0rvZF"
      }
    },
    {
      "cell_type": "code",
      "source": [
        "df_cpy['Date'] = pd.to_datetime(df_cpy['Date'])\n",
        "df_cpy['Date']"
      ],
      "metadata": {
        "id": "kwzR03KwruiW",
        "outputId": "f2e2d0d3-404c-4330-ec10-890b4bf0162d",
        "colab": {
          "base_uri": "https://localhost:8080/"
        }
      },
      "execution_count": 173,
      "outputs": [
        {
          "output_type": "execute_result",
          "data": {
            "text/plain": [
              "0         2012-07-27\n",
              "1         2012-01-19\n",
              "2         2012-02-03\n",
              "3         2012-02-09\n",
              "4         2012-03-02\n",
              "             ...    \n",
              "1048570   2016-04-27\n",
              "1048571   2016-04-27\n",
              "1048572   2016-04-28\n",
              "1048573   2016-10-07\n",
              "1048574   2016-06-27\n",
              "Name: Date, Length: 1037336, dtype: datetime64[ns]"
            ]
          },
          "metadata": {},
          "execution_count": 173
        }
      ]
    },
    {
      "cell_type": "code",
      "source": [
        "### Extract month, year, quarter and day from date\n",
        "df_cpy['Day'] =  df_cpy['Date'].dt.day\n",
        "df_cpy['Month'] =  df_cpy['Date'].dt.month\n",
        "df_cpy['Year'] =  df_cpy['Date'].dt.year\n",
        "df_cpy[\"Quarter\"] = df_cpy['Date'].dt.quarter"
      ],
      "metadata": {
        "id": "nsj6DCh1sFim"
      },
      "execution_count": 174,
      "outputs": []
    },
    {
      "cell_type": "code",
      "source": [
        "sns.barplot(y=df_cpy['Order_Demand_abs'],x=df_cpy.Year,palette=\"Set3\")\n",
        "plt.figure(figsize = (10, 5))\n"
      ],
      "metadata": {
        "id": "2fMqsBhBCdZY",
        "outputId": "7d165e87-5508-484e-9034-00fdef25546b",
        "colab": {
          "base_uri": "https://localhost:8080/",
          "height": 314
        }
      },
      "execution_count": 206,
      "outputs": [
        {
          "output_type": "execute_result",
          "data": {
            "text/plain": [
              "<Figure size 720x360 with 0 Axes>"
            ]
          },
          "metadata": {},
          "execution_count": 206
        },
        {
          "output_type": "display_data",
          "data": {
            "text/plain": [
              "<Figure size 432x288 with 1 Axes>"
            ],
            "image/png": "[encoded data removed]"
          },
          "metadata": {
            "needs_background": "light"
          }
        },
        {
          "output_type": "display_data",
          "data": {
            "text/plain": [
              "<Figure size 720x360 with 0 Axes>"
            ]
          },
          "metadata": {}
        }
      ]
    },
    {
      "cell_type": "code",
      "source": [
        "df_cpy['Order_Demand_abs'].describe()"
      ],
      "metadata": {
        "id": "IzONKKpV9_bv",
        "outputId": "58d3bb98-1319-4372-e823-89c381d59c55",
        "colab": {
          "base_uri": "https://localhost:8080/"
        }
      },
      "execution_count": 181,
      "outputs": [
        {
          "output_type": "execute_result",
          "data": {
            "text/plain": [
              "count    1.037336e+06\n",
              "mean     4.949384e+03\n",
              "std      2.907344e+04\n",
              "min      0.000000e+00\n",
              "25%      2.000000e+01\n",
              "50%      3.000000e+02\n",
              "75%      2.000000e+03\n",
              "max      4.000000e+06\n",
              "Name: Order_Demand_abs, dtype: float64"
            ]
          },
          "metadata": {},
          "execution_count": 181
        }
      ]
    },
    {
      "cell_type": "code",
      "source": [
        "df_cpy['Order_Demand_abs'].skew()"
      ],
      "metadata": {
        "id": "_3cmbf2L0is1",
        "outputId": "469f8864-1fb8-442f-974b-319fb9e82c7a",
        "colab": {
          "base_uri": "https://localhost:8080/"
        }
      },
      "execution_count": 177,
      "outputs": [
        {
          "output_type": "execute_result",
          "data": {
            "text/plain": [
              "31.432925049321977"
            ]
          },
          "metadata": {},
          "execution_count": 177
        }
      ]
    },
    {
      "cell_type": "code",
      "source": [
        "plt.figure(figsize = (10, 5))\n",
        "sns.boxplot(df_cpy['Order_Demand_abs'],color='orange').set(xlabel='Order Demand')"
      ],
      "metadata": {
        "id": "DiBjV9IF-rCE",
        "outputId": "ecb6b856-c154-470f-8842-6b4ac2dbaf81",
        "colab": {
          "base_uri": "https://localhost:8080/",
          "height": 351
        }
      },
      "execution_count": 219,
      "outputs": [
        {
          "output_type": "execute_result",
          "data": {
            "text/plain": [
              "[Text(0.5, 0, 'Order Demand')]"
            ]
          },
          "metadata": {},
          "execution_count": 219
        },
        {
          "output_type": "display_data",
          "data": {
            "text/plain": [
              "<Figure size 720x360 with 1 Axes>"
            ],
            "image/png": "[encoded data removed]"
          },
          "metadata": {
            "needs_background": "light"
          }
        }
      ]
    },
    {
      "cell_type": "code",
      "source": [
        "orders = df_cpy['Order_Demand_abs']\n",
        "\n",
        "pos_orders = orders[orders > 0]\n",
        "\n",
        "# Normalize the pledges using Box-Cox\n",
        "normalized_orders = stats.boxcox(pos_orders)[0]\n",
        "\n",
        "# plot both together to compare\n",
        "fig, ax=plt.subplots(1,2)\n",
        "sns.distplot(orders, ax=ax[0])\n",
        "ax[0].set_title(\"Original Data\")\n",
        "sns.distplot(normalized_orders, ax=ax[1])\n",
        "ax[1].set_title(\"Normalized data\")"
      ],
      "metadata": {
        "id": "OwWGnJbgGm31",
        "outputId": "da3d1487-7e4d-428f-cfab-dc549f582800",
        "colab": {
          "base_uri": "https://localhost:8080/",
          "height": 313
        }
      },
      "execution_count": 220,
      "outputs": [
        {
          "output_type": "execute_result",
          "data": {
            "text/plain": [
              "Text(0.5, 1.0, 'Normalized data')"
            ]
          },
          "metadata": {},
          "execution_count": 220
        },
        {
          "output_type": "display_data",
          "data": {
            "text/plain": [
              "<Figure size 432x288 with 2 Axes>"
            ],
            "image/png": "[encoded data removed]"
          },
          "metadata": {
            "needs_background": "light"
          }
        }
      ]
    },
    {
      "cell_type": "code",
      "source": [
        "plt.figure(figsize = (10, 5))\n",
        "sns.boxplot(normalized_orders,color='#8b73ba').set(xlabel='Normalized Order Demand ')"
      ],
      "metadata": {
        "id": "plorvN9AHyWe",
        "outputId": "c047d401-d8ea-4c12-836c-66d9208ff54d",
        "colab": {
          "base_uri": "https://localhost:8080/",
          "height": 351
        }
      },
      "execution_count": 222,
      "outputs": [
        {
          "output_type": "execute_result",
          "data": {
            "text/plain": [
              "[Text(0.5, 0, 'Normalized Order Demand ')]"
            ]
          },
          "metadata": {},
          "execution_count": 222
        },
        {
          "output_type": "display_data",
          "data": {
            "text/plain": [
              "<Figure size 720x360 with 1 Axes>"
            ],
            "image/png": "[encoded data removed]"
          },
          "metadata": {
            "needs_background": "light"
          }
        }
      ]
    },
    {
      "cell_type": "markdown",
      "source": [
        "#### ▶  Production insights"
      ],
      "metadata": {
        "id": "MMtHS6l7JaJm"
      }
    },
    {
      "cell_type": "code",
      "source": [
        "df_cpy.columns"
      ],
      "metadata": {
        "id": "ClZlx1AbJpJZ",
        "outputId": "73ce1584-a485-4fb5-8df7-20fb69094865",
        "colab": {
          "base_uri": "https://localhost:8080/"
        }
      },
      "execution_count": 224,
      "outputs": [
        {
          "output_type": "execute_result",
          "data": {
            "text/plain": [
              "Index(['Product_Code', 'Warehouse', 'Product_Category', 'Date', 'Order_Demand',\n",
              "       'Order_Demand_abs', 'Day', 'Month', 'Year', 'Quarter'],\n",
              "      dtype='object')"
            ]
          },
          "metadata": {},
          "execution_count": 224
        }
      ]
    },
    {
      "cell_type": "markdown",
      "source": [
        "#### Frequency of each warehouse"
      ],
      "metadata": {
        "id": "-N_keT54LL85"
      }
    },
    {
      "cell_type": "code",
      "source": [
        "plt.figure(figsize = (10, 5))\n",
        "df_cpy.Warehouse.value_counts().sort_values().plot(kind='barh',color = \"orange\")"
      ],
      "metadata": {
        "id": "GlC664InKa7e",
        "outputId": "6fb4735f-2284-4fb1-b198-f1fd1637566b",
        "colab": {
          "base_uri": "https://localhost:8080/",
          "height": 337
        }
      },
      "execution_count": 235,
      "outputs": [
        {
          "output_type": "execute_result",
          "data": {
            "text/plain": [
              "<matplotlib.axes._subplots.AxesSubplot at 0x7fb5bad50890>"
            ]
          },
          "metadata": {},
          "execution_count": 235
        },
        {
          "output_type": "display_data",
          "data": {
            "text/plain": [
              "<Figure size 720x360 with 1 Axes>"
            ],
            "image/png": "[encoded data removed]"
          },
          "metadata": {
            "needs_background": "light"
          }
        }
      ]
    },
    {
      "cell_type": "markdown",
      "source": [
        "#### Warehouse w.r.t Order Demands\n",
        "\n"
      ],
      "metadata": {
        "id": "kmccRdfWLX5l"
      }
    },
    {
      "cell_type": "code",
      "source": [
        "# Amount of orders w.r.t Warehouses\n",
        "warehouse_subset = df_cpy[[\"Warehouse\",\"Order_Demand_abs\"]]\n",
        "warehouse_subset.groupby('Warehouse').sum().sort_values('Order_Demand_abs', ascending = False)"
      ],
      "metadata": {
        "id": "HNTWZ2fBAfCW",
        "outputId": "6d136a2c-86ce-4dcb-e853-c8dd496c634b",
        "colab": {
          "base_uri": "https://localhost:8080/",
          "height": 206
        }
      },
      "execution_count": 227,
      "outputs": [
        {
          "output_type": "execute_result",
          "data": {
            "text/plain": [
              "           Order_Demand_abs\n",
              "Warehouse                  \n",
              "Whse_J           3363200396\n",
              "Whse_S           1038024700\n",
              "Whse_C            585071404\n",
              "Whse_A            147877431"
            ],
            "text/html": [
              "\n",
              "  <div id=\"df-e4a39801-5ead-4440-85d8-dae1c5fab374\">\n",
              "    <div class=\"colab-df-container\">\n",
              "      <div>\n",
              "<style scoped>\n",
              "    .dataframe tbody tr th:only-of-type {\n",
              "        vertical-align: middle;\n",
              "    }\n",
              "\n",
              "    .dataframe tbody tr th {\n",
              "        vertical-align: top;\n",
              "    }\n",
              "\n",
              "    .dataframe thead th {\n",
              "        text-align: right;\n",
              "    }\n",
              "</style>\n",
              "<table border=\"1\" class=\"dataframe\">\n",
              "  <thead>\n",
              "    <tr style=\"text-align: right;\">\n",
              "      <th></th>\n",
              "      <th>Order_Demand_abs</th>\n",
              "    </tr>\n",
              "    <tr>\n",
              "      <th>Warehouse</th>\n",
              "      <th></th>\n",
              "    </tr>\n",
              "  </thead>\n",
              "  <tbody>\n",
              "    <tr>\n",
              "      <th>Whse_J</th>\n",
              "      <td>3363200396</td>\n",
              "    </tr>\n",
              "    <tr>\n",
              "      <th>Whse_S</th>\n",
              "      <td>1038024700</td>\n",
              "    </tr>\n",
              "    <tr>\n",
              "      <th>Whse_C</th>\n",
              "      <td>585071404</td>\n",
              "    </tr>\n",
              "    <tr>\n",
              "      <th>Whse_A</th>\n",
              "      <td>147877431</td>\n",
              "    </tr>\n",
              "  </tbody>\n",
              "</table>\n",
              "</div>\n",
              "      <button class=\"colab-df-convert\" onclick=\"convertToInteractive('df-e4a39801-5ead-4440-85d8-dae1c5fab374')\"\n",
              "              title=\"Convert this dataframe to an interactive table.\"\n",
              "              style=\"display:none;\">\n",
              "        \n",
              "  <svg xmlns=\"http://www.w3.org/2000/svg\" height=\"24px\"viewBox=\"0 0 24 24\"\n",
              "       width=\"24px\">\n",
              "    <path d=\"M0 0h24v24H0V0z\" fill=\"none\"/>\n",
              "    <path d=\"M18.56 5.44l.94 2.06.94-2.06 2.06-.94-2.06-.94-.94-2.06-.94 2.06-2.06.94zm-11 1L8.5 8.5l.94-2.06 2.06-.94-2.06-.94L8.5 2.5l-.94 2.06-2.06.94zm10 10l.94 2.06.94-2.06 2.06-.94-2.06-.94-.94-2.06-.94 2.06-2.06.94z\"/><path d=\"M17.41 7.96l-1.37-1.37c-.4-.4-.92-.59-1.43-.59-.52 0-1.04.2-1.43.59L10.3 9.45l-7.72 7.72c-.78.78-.78 2.05 0 2.83L4 21.41c.39.39.9.59 1.41.59.51 0 1.02-.2 1.41-.59l7.78-7.78 2.81-2.81c.8-.78.8-2.07 0-2.86zM5.41 20L4 18.59l7.72-7.72 1.47 1.35L5.41 20z\"/>\n",
              "  </svg>\n",
              "      </button>\n",
              "      \n",
              "  <style>\n",
              "    .colab-df-container {\n",
              "      display:flex;\n",
              "      flex-wrap:wrap;\n",
              "      gap: 12px;\n",
              "    }\n",
              "\n",
              "    .colab-df-convert {\n",
              "      background-color: #E8F0FE;\n",
              "      border: none;\n",
              "      border-radius: 50%;\n",
              "      cursor: pointer;\n",
              "      display: none;\n",
              "      fill: #1967D2;\n",
              "      height: 32px;\n",
              "      padding: 0 0 0 0;\n",
              "      width: 32px;\n",
              "    }\n",
              "\n",
              "    .colab-df-convert:hover {\n",
              "      background-color: #E2EBFA;\n",
              "      box-shadow: 0px 1px 2px rgba(60, 64, 67, 0.3), 0px 1px 3px 1px rgba(60, 64, 67, 0.15);\n",
              "      fill: #174EA6;\n",
              "    }\n",
              "\n",
              "    [theme=dark] .colab-df-convert {\n",
              "      background-color: #3B4455;\n",
              "      fill: #D2E3FC;\n",
              "    }\n",
              "\n",
              "    [theme=dark] .colab-df-convert:hover {\n",
              "      background-color: #434B5C;\n",
              "      box-shadow: 0px 1px 3px 1px rgba(0, 0, 0, 0.15);\n",
              "      filter: drop-shadow(0px 1px 2px rgba(0, 0, 0, 0.3));\n",
              "      fill: #FFFFFF;\n",
              "    }\n",
              "  </style>\n",
              "\n",
              "      <script>\n",
              "        const buttonEl =\n",
              "          document.querySelector('#df-e4a39801-5ead-4440-85d8-dae1c5fab374 button.colab-df-convert');\n",
              "        buttonEl.style.display =\n",
              "          google.colab.kernel.accessAllowed ? 'block' : 'none';\n",
              "\n",
              "        async function convertToInteractive(key) {\n",
              "          const element = document.querySelector('#df-e4a39801-5ead-4440-85d8-dae1c5fab374');\n",
              "          const dataTable =\n",
              "            await google.colab.kernel.invokeFunction('convertToInteractive',\n",
              "                                                     [key], {});\n",
              "          if (!dataTable) return;\n",
              "\n",
              "          const docLinkHtml = 'Like what you see? Visit the ' +\n",
              "            '<a target=\"_blank\" href=https://colab.research.google.com/notebooks/data_table.ipynb>data table notebook</a>'\n",
              "            + ' to learn more about interactive tables.';\n",
              "          element.innerHTML = '';\n",
              "          dataTable['output_type'] = 'display_data';\n",
              "          await google.colab.output.renderOutput(dataTable, element);\n",
              "          const docLink = document.createElement('div');\n",
              "          docLink.innerHTML = docLinkHtml;\n",
              "          element.appendChild(docLink);\n",
              "        }\n",
              "      </script>\n",
              "    </div>\n",
              "  </div>\n",
              "  "
            ]
          },
          "metadata": {},
          "execution_count": 227
        }
      ]
    },
    {
      "cell_type": "markdown",
      "source": [
        "#### Frequency of each product category"
      ],
      "metadata": {
        "id": "z2x9Z9ycL_qu"
      }
    },
    {
      "cell_type": "code",
      "source": [
        "plt.figure(figsize = (14, 5))\n",
        "df_cpy.Product_Category.value_counts().sort_values().plot(kind='bar',color = \"purple\")"
      ],
      "metadata": {
        "id": "yMLdr4bz-8-U",
        "outputId": "72ac189f-2d06-4e8d-83e7-b79f5ad97ffc",
        "colab": {
          "base_uri": "https://localhost:8080/",
          "height": 396
        }
      },
      "execution_count": 241,
      "outputs": [
        {
          "output_type": "execute_result",
          "data": {
            "text/plain": [
              "<matplotlib.axes._subplots.AxesSubplot at 0x7fb5ba869c50>"
            ]
          },
          "metadata": {},
          "execution_count": 241
        },
        {
          "output_type": "display_data",
          "data": {
            "text/plain": [
              "<Figure size 1008x360 with 1 Axes>"
            ],
            "image/png": "[encoded data removed]"
          },
          "metadata": {
            "needs_background": "light"
          }
        }
      ]
    },
    {
      "cell_type": "markdown",
      "source": [
        "#### ▶  Warehouse w.r.t Product Category"
      ],
      "metadata": {
        "id": "zDDRFHKbMhBj"
      }
    },
    {
      "cell_type": "code",
      "source": [
        "# Amount of orders w.r.t Product Category\n",
        "prod_subset = df_cpy[[\"Product_Category\",\"Order_Demand_abs\"]]\n",
        "prod_subset.groupby('Product_Category').sum().sort_values('Order_Demand_abs', ascending = False)"
      ],
      "metadata": {
        "id": "GOvKo9fJMtmc",
        "outputId": "61643cc1-56d8-4e56-a601-009751e99a0f",
        "colab": {
          "base_uri": "https://localhost:8080/",
          "height": 656
        }
      },
      "execution_count": 243,
      "outputs": [
        {
          "output_type": "execute_result",
          "data": {
            "text/plain": [
              "                  Order_Demand_abs\n",
              "Product_Category                  \n",
              "Category_019            4240159257\n",
              "Category_006             405571330\n",
              "Category_005             199674520\n",
              "Category_007             128691531\n",
              "Category_028              49055354\n",
              "Category_033              42610000\n",
              "Category_030              40966555\n",
              "Category_021               4480570\n",
              "Category_032               4473048\n",
              "Category_009               3782141\n",
              "Category_023               3337724\n",
              "Category_011               2892842\n",
              "Category_020               2393813\n",
              "Category_001               1757473\n",
              "Category_024               1057317\n",
              "Category_015                834505\n",
              "Category_022                606051\n",
              "Category_025                486000\n",
              "Category_003                392950\n",
              "Category_013                309618\n",
              "Category_026                281996\n",
              "Category_004                 99046\n",
              "Category_012                 70006\n",
              "Category_017                 49457\n",
              "Category_018                 46023\n",
              "Category_029                 23979\n",
              "Category_010                 22554\n",
              "Category_008                 17568\n",
              "Category_016                 16850\n",
              "Category_031                 13022\n",
              "Category_002                   628\n",
              "Category_027                   103\n",
              "Category_014                   100"
            ],
            "text/html": [
              "\n",
              "  <div id=\"df-922146d7-bea4-42c2-b4bd-0257e12f17ab\">\n",
              "    <div class=\"colab-df-container\">\n",
              "      <div>\n",
              "<style scoped>\n",
              "    .dataframe tbody tr th:only-of-type {\n",
              "        vertical-align: middle;\n",
              "    }\n",
              "\n",
              "    .dataframe tbody tr th {\n",
              "        vertical-align: top;\n",
              "    }\n",
              "\n",
              "    .dataframe thead th {\n",
              "        text-align: right;\n",
              "    }\n",
              "</style>\n",
              "<table border=\"1\" class=\"dataframe\">\n",
              "  <thead>\n",
              "    <tr style=\"text-align: right;\">\n",
              "      <th></th>\n",
              "      <th>Order_Demand_abs</th>\n",
              "    </tr>\n",
              "    <tr>\n",
              "      <th>Product_Category</th>\n",
              "      <th></th>\n",
              "    </tr>\n",
              "  </thead>\n",
              "  <tbody>\n",
              "    <tr>\n",
              "      <th>Category_019</th>\n",
              "      <td>4240159257</td>\n",
              "    </tr>\n",
              "    <tr>\n",
              "      <th>Category_006</th>\n",
              "      <td>405571330</td>\n",
              "    </tr>\n",
              "    <tr>\n",
              "      <th>Category_005</th>\n",
              "      <td>199674520</td>\n",
              "    </tr>\n",
              "    <tr>\n",
              "      <th>Category_007</th>\n",
              "      <td>128691531</td>\n",
              "    </tr>\n",
              "    <tr>\n",
              "      <th>Category_028</th>\n",
              "      <td>49055354</td>\n",
              "    </tr>\n",
              "    <tr>\n",
              "      <th>Category_033</th>\n",
              "      <td>42610000</td>\n",
              "    </tr>\n",
              "    <tr>\n",
              "      <th>Category_030</th>\n",
              "      <td>40966555</td>\n",
              "    </tr>\n",
              "    <tr>\n",
              "      <th>Category_021</th>\n",
              "      <td>4480570</td>\n",
              "    </tr>\n",
              "    <tr>\n",
              "      <th>Category_032</th>\n",
              "      <td>4473048</td>\n",
              "    </tr>\n",
              "    <tr>\n",
              "      <th>Category_009</th>\n",
              "      <td>3782141</td>\n",
              "    </tr>\n",
              "    <tr>\n",
              "      <th>Category_023</th>\n",
              "      <td>3337724</td>\n",
              "    </tr>\n",
              "    <tr>\n",
              "      <th>Category_011</th>\n",
              "      <td>2892842</td>\n",
              "    </tr>\n",
              "    <tr>\n",
              "      <th>Category_020</th>\n",
              "      <td>2393813</td>\n",
              "    </tr>\n",
              "    <tr>\n",
              "      <th>Category_001</th>\n",
              "      <td>1757473</td>\n",
              "    </tr>\n",
              "    <tr>\n",
              "      <th>Category_024</th>\n",
              "      <td>1057317</td>\n",
              "    </tr>\n",
              "    <tr>\n",
              "      <th>Category_015</th>\n",
              "      <td>834505</td>\n",
              "    </tr>\n",
              "    <tr>\n",
              "      <th>Category_022</th>\n",
              "      <td>606051</td>\n",
              "    </tr>\n",
              "    <tr>\n",
              "      <th>Category_025</th>\n",
              "      <td>486000</td>\n",
              "    </tr>\n",
              "    <tr>\n",
              "      <th>Category_003</th>\n",
              "      <td>392950</td>\n",
              "    </tr>\n",
              "    <tr>\n",
              "      <th>Category_013</th>\n",
              "      <td>309618</td>\n",
              "    </tr>\n",
              "    <tr>\n",
              "      <th>Category_026</th>\n",
              "      <td>281996</td>\n",
              "    </tr>\n",
              "    <tr>\n",
              "      <th>Category_004</th>\n",
              "      <td>99046</td>\n",
              "    </tr>\n",
              "    <tr>\n",
              "      <th>Category_012</th>\n",
              "      <td>70006</td>\n",
              "    </tr>\n",
              "    <tr>\n",
              "      <th>Category_017</th>\n",
              "      <td>49457</td>\n",
              "    </tr>\n",
              "    <tr>\n",
              "      <th>Category_018</th>\n",
              "      <td>46023</td>\n",
              "    </tr>\n",
              "    <tr>\n",
              "      <th>Category_029</th>\n",
              "      <td>23979</td>\n",
              "    </tr>\n",
              "    <tr>\n",
              "      <th>Category_010</th>\n",
              "      <td>22554</td>\n",
              "    </tr>\n",
              "    <tr>\n",
              "      <th>Category_008</th>\n",
              "      <td>17568</td>\n",
              "    </tr>\n",
              "    <tr>\n",
              "      <th>Category_016</th>\n",
              "      <td>16850</td>\n",
              "    </tr>\n",
              "    <tr>\n",
              "      <th>Category_031</th>\n",
              "      <td>13022</td>\n",
              "    </tr>\n",
              "    <tr>\n",
              "      <th>Category_002</th>\n",
              "      <td>628</td>\n",
              "    </tr>\n",
              "    <tr>\n",
              "      <th>Category_027</th>\n",
              "      <td>103</td>\n",
              "    </tr>\n",
              "    <tr>\n",
              "      <th>Category_014</th>\n",
              "      <td>100</td>\n",
              "    </tr>\n",
              "  </tbody>\n",
              "</table>\n",
              "</div>\n",
              "      <button class=\"colab-df-convert\" onclick=\"convertToInteractive('df-922146d7-bea4-42c2-b4bd-0257e12f17ab')\"\n",
              "              title=\"Convert this dataframe to an interactive table.\"\n",
              "              style=\"display:none;\">\n",
              "        \n",
              "  <svg xmlns=\"http://www.w3.org/2000/svg\" height=\"24px\"viewBox=\"0 0 24 24\"\n",
              "       width=\"24px\">\n",
              "    <path d=\"M0 0h24v24H0V0z\" fill=\"none\"/>\n",
              "    <path d=\"M18.56 5.44l.94 2.06.94-2.06 2.06-.94-2.06-.94-.94-2.06-.94 2.06-2.06.94zm-11 1L8.5 8.5l.94-2.06 2.06-.94-2.06-.94L8.5 2.5l-.94 2.06-2.06.94zm10 10l.94 2.06.94-2.06 2.06-.94-2.06-.94-.94-2.06-.94 2.06-2.06.94z\"/><path d=\"M17.41 7.96l-1.37-1.37c-.4-.4-.92-.59-1.43-.59-.52 0-1.04.2-1.43.59L10.3 9.45l-7.72 7.72c-.78.78-.78 2.05 0 2.83L4 21.41c.39.39.9.59 1.41.59.51 0 1.02-.2 1.41-.59l7.78-7.78 2.81-2.81c.8-.78.8-2.07 0-2.86zM5.41 20L4 18.59l7.72-7.72 1.47 1.35L5.41 20z\"/>\n",
              "  </svg>\n",
              "      </button>\n",
              "      \n",
              "  <style>\n",
              "    .colab-df-container {\n",
              "      display:flex;\n",
              "      flex-wrap:wrap;\n",
              "      gap: 12px;\n",
              "    }\n",
              "\n",
              "    .colab-df-convert {\n",
              "      background-color: #E8F0FE;\n",
              "      border: none;\n",
              "      border-radius: 50%;\n",
              "      cursor: pointer;\n",
              "      display: none;\n",
              "      fill: #1967D2;\n",
              "      height: 32px;\n",
              "      padding: 0 0 0 0;\n",
              "      width: 32px;\n",
              "    }\n",
              "\n",
              "    .colab-df-convert:hover {\n",
              "      background-color: #E2EBFA;\n",
              "      box-shadow: 0px 1px 2px rgba(60, 64, 67, 0.3), 0px 1px 3px 1px rgba(60, 64, 67, 0.15);\n",
              "      fill: #174EA6;\n",
              "    }\n",
              "\n",
              "    [theme=dark] .colab-df-convert {\n",
              "      background-color: #3B4455;\n",
              "      fill: #D2E3FC;\n",
              "    }\n",
              "\n",
              "    [theme=dark] .colab-df-convert:hover {\n",
              "      background-color: #434B5C;\n",
              "      box-shadow: 0px 1px 3px 1px rgba(0, 0, 0, 0.15);\n",
              "      filter: drop-shadow(0px 1px 2px rgba(0, 0, 0, 0.3));\n",
              "      fill: #FFFFFF;\n",
              "    }\n",
              "  </style>\n",
              "\n",
              "      <script>\n",
              "        const buttonEl =\n",
              "          document.querySelector('#df-922146d7-bea4-42c2-b4bd-0257e12f17ab button.colab-df-convert');\n",
              "        buttonEl.style.display =\n",
              "          google.colab.kernel.accessAllowed ? 'block' : 'none';\n",
              "\n",
              "        async function convertToInteractive(key) {\n",
              "          const element = document.querySelector('#df-922146d7-bea4-42c2-b4bd-0257e12f17ab');\n",
              "          const dataTable =\n",
              "            await google.colab.kernel.invokeFunction('convertToInteractive',\n",
              "                                                     [key], {});\n",
              "          if (!dataTable) return;\n",
              "\n",
              "          const docLinkHtml = 'Like what you see? Visit the ' +\n",
              "            '<a target=\"_blank\" href=https://colab.research.google.com/notebooks/data_table.ipynb>data table notebook</a>'\n",
              "            + ' to learn more about interactive tables.';\n",
              "          element.innerHTML = '';\n",
              "          dataTable['output_type'] = 'display_data';\n",
              "          await google.colab.output.renderOutput(dataTable, element);\n",
              "          const docLink = document.createElement('div');\n",
              "          docLink.innerHTML = docLinkHtml;\n",
              "          element.appendChild(docLink);\n",
              "        }\n",
              "      </script>\n",
              "    </div>\n",
              "  </div>\n",
              "  "
            ]
          },
          "metadata": {},
          "execution_count": 243
        }
      ]
    },
    {
      "cell_type": "code",
      "source": [
        "print( \" Top 5 Product Categories contributing to Demand Orders are :- \\n\\n \", pd.DataFrame(prod_subset.groupby('Product_Category').sum().sort_values('Order_Demand_abs', ascending = False)).head(5))"
      ],
      "metadata": {
        "id": "XvaN4S4xO6nP",
        "outputId": "ab1eda9a-f96b-4989-c4f0-f1ebcd5fe606",
        "colab": {
          "base_uri": "https://localhost:8080/"
        }
      },
      "execution_count": 254,
      "outputs": [
        {
          "output_type": "stream",
          "name": "stdout",
          "text": [
            " Top 5 Product Categories contributing to Demand Orders are :- \n",
            "\n",
            "                    Order_Demand_abs\n",
            "Product_Category                  \n",
            "Category_019            4240159257\n",
            "Category_006             405571330\n",
            "Category_005             199674520\n",
            "Category_007             128691531\n",
            "Category_028              49055354\n"
          ]
        }
      ]
    },
    {
      "cell_type": "markdown",
      "metadata": {
        "id": "KN8C12P_6koe"
      },
      "source": [
        "## Forecast model\n",
        "\n",
        "### Theory\n",
        "* Describe the basic theory behind the solution you have decided to apply\n",
        "\n",
        "### Implementation\n",
        "* What parameters have you consider to tune and why are those important for best-fit?"
      ]
    },
    {
      "cell_type": "code",
      "source": [
        ""
      ],
      "metadata": {
        "id": "D-VYCTQ2Ms6F"
      },
      "execution_count": null,
      "outputs": []
    }
  ],
  "metadata": {
    "kernelspec": {
      "display_name": "Python 3",
      "language": "python",
      "name": "python3"
    },
    "language_info": {
      "codemirror_mode": {
        "name": "ipython",
        "version": 3
      },
      "file_extension": ".py",
      "mimetype": "text/x-python",
      "name": "python",
      "nbconvert_exporter": "python",
      "pygments_lexer": "ipython3",
      "version": "3.8.6"
    },
    "colab": {
      "provenance": []
    }
  },
  "nbformat": 4,
  "nbformat_minor": 0
}