{
  "cells": [
    {
      "cell_type": "markdown",
      "metadata": {
        "id": "7cVZTsgM6koY"
      },
      "source": [
        "# Demand Forecast\n",
        "\n",
        "The **goal** of this exercise is to create a demand forecast model for different products (or clusters of products).\n",
        "\n",
        "The **evaluation** of the assignment will follow:\n",
        "\n",
        "* Design process and thinking as a data analyst.\n",
        "* Validation of knowledge on the different tools and steps throughout the process.\n",
        "* Storytelling and visualisation of the insights.\n",
        "\n",
        "\n",
        "Exercise **workflow**:\n",
        "\n",
        "* Import dependencies & data (`../data/Historical\\ Product\\ Demand.csv`).\n",
        "* Explore the dataset to assess its quality (nulls, skew, data types).\n",
        "* Explore the dataset to obtain insights related to the production (e.g., unvariate / bivariate analysis).\n",
        "* Explore the dataset as a time-series (min/max dates, seasonality, trends etc.).\n",
        "* Implement / apply a forecast model:\n",
        "    * Theory\n",
        "    * Parameters tuning\n",
        "    * Build/fit & Validation\n",
        "    * Evaluate performance (e.g., forecast accuracy)\n",
        "    \n",
        "Notes:\n",
        "\n",
        "Feel free to choose how to present the results throughout the exercise, what libraries (e.g., seaborn, bokeh, etc.) and tools (e.g., PowerBI or Tableau).\n",
        "    "
      ]
    },
    {
      "cell_type": "markdown",
      "metadata": {
        "id": "vZnZ9nOk6koc"
      },
      "source": [
        "## Preamble"
      ]
    },
    {
      "cell_type": "code",
      "execution_count": 160,
      "metadata": {
        "id": "os7xHJTS6koc"
      },
      "outputs": [],
      "source": [
        "import pandas as pd\n",
        "import numpy as np\n",
        "import seaborn as sns\n",
        "\n",
        "import matplotlib.pyplot as plt\n",
        "%matplotlib inline\n",
        "\n",
        "import warnings\n",
        "warnings.filterwarnings(\"ignore\")\n",
        "from mlxtend.preprocessing import minmax_scaling\n",
        "from sklearn.preprocessing import MinMaxScaler\n",
        "\n",
        "\n",
        "# not mandatory, but might come handy\n",
        "from scipy import stats\n",
        "import statsmodels.api as sm\n",
        "import datetime\n",
        "\n",
        "import random\n",
        "random.seed(10)"
      ]
    },
    {
      "cell_type": "markdown",
      "metadata": {
        "id": "aLc58BVW6kod"
      },
      "source": [
        "## Data exploration"
      ]
    },
    {
      "cell_type": "markdown",
      "metadata": {
        "id": "dw6oEhtK6koe"
      },
      "source": [
        "### Data quality assessment\n",
        "\n",
        "* Explore the dataset to assess its quality (nulls, skew, data types)\n",
        "\n",
        "### Production insights\n",
        "* What products / categories are driving the demand?\n",
        "* What warehouses are driving the production?\n",
        "\n",
        "### Time-series insights\n",
        "* Are there missing dates?\n",
        "* Are all dates valid?\n",
        "* What is the seasonability decomposition?\n"
      ]
    },
    {
      "cell_type": "code",
      "source": [
        "df = pd.read_csv(\"Historical Product Demand.csv\")\n",
        "print(\" Data Sample : \\n\", df.head(3),\"\\n\" )\n",
        "print( \" Data Shape : \", df.shape)\n",
        "\n",
        "df_cpy = df.copy()"
      ],
      "metadata": {
        "id": "53htAn-VAhBm",
        "outputId": "9082a5af-ac10-4b1e-dccc-36799e29e475",
        "colab": {
          "base_uri": "https://localhost:8080/"
        }
      },
      "execution_count": 161,
      "outputs": [
        {
          "output_type": "stream",
          "name": "stdout",
          "text": [
            " Data Sample : \n",
            "    Product_Code Warehouse Product_Category       Date Order_Demand\n",
            "0  Product_0993    Whse_J     Category_028  2012/7/27         100 \n",
            "1  Product_0979    Whse_J     Category_028  2012/1/19         500 \n",
            "2  Product_0979    Whse_J     Category_028   2012/2/3         500  \n",
            "\n",
            " Data Shape :  (1048575, 5)\n"
          ]
        }
      ]
    },
    {
      "cell_type": "markdown",
      "source": [
        "## **Data Quality Assessment** "
      ],
      "metadata": {
        "id": "P8f6wzLpCqyf"
      }
    },
    {
      "cell_type": "code",
      "source": [
        "#Check the data types.\n",
        "df_cpy.dtypes"
      ],
      "metadata": {
        "id": "dM1MGygQEYK2",
        "outputId": "072ef09e-179a-4901-cfd2-459c26654686",
        "colab": {
          "base_uri": "https://localhost:8080/"
        }
      },
      "execution_count": 162,
      "outputs": [
        {
          "output_type": "execute_result",
          "data": {
            "text/plain": [
              "Product_Code        object\n",
              "Warehouse           object\n",
              "Product_Category    object\n",
              "Date                object\n",
              "Order_Demand        object\n",
              "dtype: object"
            ]
          },
          "metadata": {},
          "execution_count": 162
        }
      ]
    },
    {
      "cell_type": "markdown",
      "source": [
        "Change Order_Demand from Object to Numeric data type"
      ],
      "metadata": {
        "id": "q-QYdwM6LUk8"
      }
    },
    {
      "cell_type": "code",
      "source": [
        "## Change datatype of target variable to numeric\n",
        "df_cpy['Order_Demand_abs'] = df_cpy['Order_Demand']\n",
        "\n",
        "#Change the data type\n",
        "#df_cpy['Order_Demand_abs'] = pd.to_numeric(df_cpy['Order_Demand'])\n",
        "\n",
        "# while changing data type we saw there was an issue with value present in 112289 location\n",
        "# let's check what it is\n",
        "df_cpy['Order_Demand_abs'].iloc[112290]\n"
      ],
      "metadata": {
        "id": "zwzy4ak7Ggp1",
        "outputId": "4751d433-2149-4aef-e110-961bf7d559c9",
        "colab": {
          "base_uri": "https://localhost:8080/",
          "height": 36
        }
      },
      "execution_count": 163,
      "outputs": [
        {
          "output_type": "execute_result",
          "data": {
            "text/plain": [
              "'(1)'"
            ],
            "application/vnd.google.colaboratory.intrinsic+json": {
              "type": "string"
            }
          },
          "metadata": {},
          "execution_count": 163
        }
      ]
    },
    {
      "cell_type": "code",
      "source": [
        "df_cpy['Order_Demand_abs'] = df_cpy['Order_Demand_abs'].str.replace(\"(\",\"\")\n",
        "df_cpy['Order_Demand_abs'] = df_cpy['Order_Demand_abs'].str.replace(\")\",\"\")\n",
        "df_cpy['Order_Demand_abs'].iloc[112290]"
      ],
      "metadata": {
        "id": "j4STyoc0pxnZ",
        "outputId": "38a32ca7-bc0b-457b-bc04-832273cbeebd",
        "colab": {
          "base_uri": "https://localhost:8080/",
          "height": 36
        }
      },
      "execution_count": 164,
      "outputs": [
        {
          "output_type": "execute_result",
          "data": {
            "text/plain": [
              "'1'"
            ],
            "application/vnd.google.colaboratory.intrinsic+json": {
              "type": "string"
            }
          },
          "metadata": {},
          "execution_count": 164
        }
      ]
    },
    {
      "cell_type": "markdown",
      "source": [
        "Let's change the datatype now"
      ],
      "metadata": {
        "id": "8wBDVo8ZqShq"
      }
    },
    {
      "cell_type": "code",
      "source": [
        "df_cpy['Order_Demand_abs'] = pd.to_numeric(df_cpy['Order_Demand_abs'])\n",
        "df_cpy['Order_Demand_abs'].dtype"
      ],
      "metadata": {
        "id": "zf7j25HNqYI_",
        "outputId": "36a98901-d3db-4d8d-cf12-d814617cc6b4",
        "colab": {
          "base_uri": "https://localhost:8080/"
        }
      },
      "execution_count": 165,
      "outputs": [
        {
          "output_type": "execute_result",
          "data": {
            "text/plain": [
              "dtype('int64')"
            ]
          },
          "metadata": {},
          "execution_count": 165
        }
      ]
    },
    {
      "cell_type": "code",
      "source": [
        "print( \" Data type of Ordered demand :\" , df_cpy.Order_Demand_abs.dtype)\n",
        "print( \" Data type of Date :\" , df_cpy.Date.dtype)"
      ],
      "metadata": {
        "id": "C_RkWT2Tq7aQ",
        "outputId": "c09483f4-e765-4f61-a0bf-fd244e05ae31",
        "colab": {
          "base_uri": "https://localhost:8080/"
        }
      },
      "execution_count": 166,
      "outputs": [
        {
          "output_type": "stream",
          "name": "stdout",
          "text": [
            " Data type of Ordered demand : int64\n",
            " Data type of Date : object\n"
          ]
        }
      ]
    },
    {
      "cell_type": "markdown",
      "source": [
        "Change Date from object type to date"
      ],
      "metadata": {
        "id": "y2Mf5zI0rvZF"
      }
    },
    {
      "cell_type": "markdown",
      "source": [
        "###### Date validation"
      ],
      "metadata": {
        "id": "10w6Ln3YKRkO"
      }
    },
    {
      "cell_type": "code",
      "source": [
        "try:\n",
        "    print(\"Pre check : \", df_cpy['Date'].dtypes)\n",
        "    df_cpy['Date'] = pd.to_datetime(df_cpy['Date'], format='%Y-%m-%d', errors='raise')\n",
        "    print(\"Post check : \", df_cpy['Date'].dtypes)\n",
        "except ValueError:\n",
        "  print(\"Date format is incorrect\")\n",
        "    "
      ],
      "metadata": {
        "colab": {
          "base_uri": "https://localhost:8080/"
        },
        "id": "CPiAoukiHbo-",
        "outputId": "3907f1c4-8a2c-4584-ae52-ed9af6589822"
      },
      "execution_count": 167,
      "outputs": [
        {
          "output_type": "stream",
          "name": "stdout",
          "text": [
            "Pre check :  object\n",
            "Post check :  datetime64[ns]\n"
          ]
        }
      ]
    },
    {
      "cell_type": "code",
      "source": [
        "df_cpy['Date'].tail(3)"
      ],
      "metadata": {
        "id": "kwzR03KwruiW",
        "outputId": "58cf076b-fae4-48db-fe95-53cfebb69632",
        "colab": {
          "base_uri": "https://localhost:8080/"
        }
      },
      "execution_count": 168,
      "outputs": [
        {
          "output_type": "execute_result",
          "data": {
            "text/plain": [
              "1048572   2016-04-28\n",
              "1048573   2016-10-07\n",
              "1048574   2016-06-27\n",
              "Name: Date, dtype: datetime64[ns]"
            ]
          },
          "metadata": {},
          "execution_count": 168
        }
      ]
    },
    {
      "cell_type": "code",
      "source": [
        "df_cpy['Order_Demand_abs'].describe()"
      ],
      "metadata": {
        "id": "IzONKKpV9_bv",
        "outputId": "3e8fb9ae-8c90-49fc-8ba9-ba906c624bb8",
        "colab": {
          "base_uri": "https://localhost:8080/"
        }
      },
      "execution_count": 169,
      "outputs": [
        {
          "output_type": "execute_result",
          "data": {
            "text/plain": [
              "count    1.048575e+06\n",
              "mean     4.906977e+03\n",
              "std      2.892678e+04\n",
              "min      0.000000e+00\n",
              "25%      2.000000e+01\n",
              "50%      3.000000e+02\n",
              "75%      2.000000e+03\n",
              "max      4.000000e+06\n",
              "Name: Order_Demand_abs, dtype: float64"
            ]
          },
          "metadata": {},
          "execution_count": 169
        }
      ]
    },
    {
      "cell_type": "code",
      "source": [
        "df_cpy['Order_Demand_abs'].skew()"
      ],
      "metadata": {
        "id": "_3cmbf2L0is1",
        "outputId": "d35e1433-33e0-44eb-8c8f-dc9227c2b62f",
        "colab": {
          "base_uri": "https://localhost:8080/"
        }
      },
      "execution_count": 170,
      "outputs": [
        {
          "output_type": "execute_result",
          "data": {
            "text/plain": [
              "31.580569538175606"
            ]
          },
          "metadata": {},
          "execution_count": 170
        }
      ]
    },
    {
      "cell_type": "markdown",
      "source": [
        "The data is highly skewed as the skew value is greater than 1"
      ],
      "metadata": {
        "id": "KFHWBGcUoRKR"
      }
    },
    {
      "cell_type": "code",
      "source": [
        "plt.figure(figsize = (10, 5))\n",
        "sns.boxplot(df_cpy['Order_Demand_abs'],color='#42f5ce').set(xlabel='Order Demand')"
      ],
      "metadata": {
        "id": "DiBjV9IF-rCE",
        "outputId": "27d3d3fd-7e85-4817-d866-404c7156f73b",
        "colab": {
          "base_uri": "https://localhost:8080/",
          "height": 351
        }
      },
      "execution_count": 172,
      "outputs": [
        {
          "output_type": "execute_result",
          "data": {
            "text/plain": [
              "[Text(0.5, 0, 'Order Demand')]"
            ]
          },
          "metadata": {},
          "execution_count": 172
        },
        {
          "output_type": "display_data",
          "data": {
            "text/plain": [
              "<Figure size 720x360 with 1 Axes>"
            ],
            "image/png": "[encoded data removed]"
          },
          "metadata": {
            "needs_background": "light"
          }
        }
      ]
    },
    {
      "cell_type": "code",
      "source": [
        "orders = df_cpy['Order_Demand_abs']\n",
        "\n",
        "pos_orders = orders[orders > 0]\n",
        "\n",
        "# Normalize the pledges using Box-Cox\n",
        "normalized_orders = stats.boxcox(pos_orders)[0]\n",
        "\n",
        "# plot both together to compare\n",
        "fig, ax=plt.subplots(1,2)\n",
        "sns.distplot(orders, ax=ax[0], color = \"#42f5ce\")\n",
        "ax[0].set_title(\"Original Data\")\n",
        "sns.distplot(normalized_orders, ax=ax[1], color = \"#42f5ce\")\n",
        "ax[1].set_title(\"Normalized data\")"
      ],
      "metadata": {
        "id": "OwWGnJbgGm31",
        "outputId": "a6536cff-3950-4114-8c79-9fc6b48ddd2c",
        "colab": {
          "base_uri": "https://localhost:8080/",
          "height": 313
        }
      },
      "execution_count": 173,
      "outputs": [
        {
          "output_type": "execute_result",
          "data": {
            "text/plain": [
              "Text(0.5, 1.0, 'Normalized data')"
            ]
          },
          "metadata": {},
          "execution_count": 173
        },
        {
          "output_type": "display_data",
          "data": {
            "text/plain": [
              "<Figure size 432x288 with 2 Axes>"
            ],
            "image/png": "[encoded data removed]"
          },
          "metadata": {
            "needs_background": "light"
          }
        }
      ]
    },
    {
      "cell_type": "code",
      "source": [
        "plt.figure(figsize = (10, 5))\n",
        "sns.boxplot(normalized_orders,color='#42f5ce').set(xlabel='Normalized Order Demand ')"
      ],
      "metadata": {
        "id": "plorvN9AHyWe",
        "outputId": "60dd4676-3db4-415f-92b4-3f420a1298fa",
        "colab": {
          "base_uri": "https://localhost:8080/",
          "height": 351
        }
      },
      "execution_count": 174,
      "outputs": [
        {
          "output_type": "execute_result",
          "data": {
            "text/plain": [
              "[Text(0.5, 0, 'Normalized Order Demand ')]"
            ]
          },
          "metadata": {},
          "execution_count": 174
        },
        {
          "output_type": "display_data",
          "data": {
            "text/plain": [
              "<Figure size 720x360 with 1 Axes>"
            ],
            "image/png": "[encoded data removed]"
          },
          "metadata": {
            "needs_background": "light"
          }
        }
      ]
    },
    {
      "cell_type": "markdown",
      "source": [
        "## **Production insights**  "
      ],
      "metadata": {
        "id": "MMtHS6l7JaJm"
      }
    },
    {
      "cell_type": "code",
      "source": [
        "df_cpy.columns"
      ],
      "metadata": {
        "id": "ClZlx1AbJpJZ",
        "outputId": "6409379b-b755-408a-e969-3f7858d072e5",
        "colab": {
          "base_uri": "https://localhost:8080/"
        }
      },
      "execution_count": 175,
      "outputs": [
        {
          "output_type": "execute_result",
          "data": {
            "text/plain": [
              "Index(['Product_Code', 'Warehouse', 'Product_Category', 'Date', 'Order_Demand',\n",
              "       'Order_Demand_abs'],\n",
              "      dtype='object')"
            ]
          },
          "metadata": {},
          "execution_count": 175
        }
      ]
    },
    {
      "cell_type": "markdown",
      "source": [
        "##### **What warehouses are driving the production?**"
      ],
      "metadata": {
        "id": "yTh5f29MJS_T"
      }
    },
    {
      "cell_type": "markdown",
      "source": [
        "##### Frequency of each warehouse"
      ],
      "metadata": {
        "id": "-N_keT54LL85"
      }
    },
    {
      "cell_type": "code",
      "source": [
        "plt.figure(figsize = (10, 5))\n",
        "df_cpy.Warehouse.value_counts().sort_values().plot(kind='barh',color = \"#42f5ce\")"
      ],
      "metadata": {
        "id": "GlC664InKa7e",
        "outputId": "a809ea89-8635-4edd-dce3-7cbea3b7da60",
        "colab": {
          "base_uri": "https://localhost:8080/",
          "height": 337
        }
      },
      "execution_count": 176,
      "outputs": [
        {
          "output_type": "execute_result",
          "data": {
            "text/plain": [
              "<matplotlib.axes._subplots.AxesSubplot at 0x7f58fd5dc510>"
            ]
          },
          "metadata": {},
          "execution_count": 176
        },
        {
          "output_type": "display_data",
          "data": {
            "text/plain": [
              "<Figure size 720x360 with 1 Axes>"
            ],
            "image/png": "[encoded data removed]"
          },
          "metadata": {
            "needs_background": "light"
          }
        }
      ]
    },
    {
      "cell_type": "markdown",
      "source": [
        "##### Warehouse w.r.t Order Demands\n",
        "\n"
      ],
      "metadata": {
        "id": "kmccRdfWLX5l"
      }
    },
    {
      "cell_type": "code",
      "source": [
        "# Amount of orders w.r.t Warehouses\n",
        "warehouse_subset = df_cpy[[\"Warehouse\",\"Order_Demand_abs\"]]\n",
        "warehouse_subset = warehouse_subset.groupby('Warehouse').sum().sort_values('Order_Demand_abs', ascending = False)"
      ],
      "metadata": {
        "id": "HNTWZ2fBAfCW"
      },
      "execution_count": 177,
      "outputs": []
    },
    {
      "cell_type": "code",
      "source": [
        "warehouse_trans = pd.DataFrame(warehouse_subset.reset_index())\n",
        "Order_percent = round(warehouse_trans.Order_Demand_abs*100 /warehouse_trans.Order_Demand_abs.sum())\n",
        "\n",
        "warehouse_order = pd.DataFrame({'Product Category':warehouse_trans.Warehouse,'Order demand (count)': warehouse_trans.Order_Demand_abs,'Order demand (%)': Order_percent})\n",
        "warehouse_order.sort_values(by=['Order demand (%)'], ascending=False)\n",
        "warehouse_order"
      ],
      "metadata": {
        "colab": {
          "base_uri": "https://localhost:8080/",
          "height": 175
        },
        "id": "2JlAgGHBIYGG",
        "outputId": "86fb26ea-197b-473e-be83-f295a4838898"
      },
      "execution_count": 178,
      "outputs": [
        {
          "output_type": "execute_result",
          "data": {
            "text/plain": [
              "  Product Category  Order demand (count)  Order demand (%)\n",
              "0           Whse_J            3363200396              65.0\n",
              "1           Whse_S            1038024700              20.0\n",
              "2           Whse_C             585071404              11.0\n",
              "3           Whse_A             159036821               3.0"
            ],
            "text/html": [
              "\n",
              "  <div id=\"df-13616cac-cf7c-455c-a813-fc48d12137e9\">\n",
              "    <div class=\"colab-df-container\">\n",
              "      <div>\n",
              "<style scoped>\n",
              "    .dataframe tbody tr th:only-of-type {\n",
              "        vertical-align: middle;\n",
              "    }\n",
              "\n",
              "    .dataframe tbody tr th {\n",
              "        vertical-align: top;\n",
              "    }\n",
              "\n",
              "    .dataframe thead th {\n",
              "        text-align: right;\n",
              "    }\n",
              "</style>\n",
              "<table border=\"1\" class=\"dataframe\">\n",
              "  <thead>\n",
              "    <tr style=\"text-align: right;\">\n",
              "      <th></th>\n",
              "      <th>Product Category</th>\n",
              "      <th>Order demand (count)</th>\n",
              "      <th>Order demand (%)</th>\n",
              "    </tr>\n",
              "  </thead>\n",
              "  <tbody>\n",
              "    <tr>\n",
              "      <th>0</th>\n",
              "      <td>Whse_J</td>\n",
              "      <td>3363200396</td>\n",
              "      <td>65.0</td>\n",
              "    </tr>\n",
              "    <tr>\n",
              "      <th>1</th>\n",
              "      <td>Whse_S</td>\n",
              "      <td>1038024700</td>\n",
              "      <td>20.0</td>\n",
              "    </tr>\n",
              "    <tr>\n",
              "      <th>2</th>\n",
              "      <td>Whse_C</td>\n",
              "      <td>585071404</td>\n",
              "      <td>11.0</td>\n",
              "    </tr>\n",
              "    <tr>\n",
              "      <th>3</th>\n",
              "      <td>Whse_A</td>\n",
              "      <td>159036821</td>\n",
              "      <td>3.0</td>\n",
              "    </tr>\n",
              "  </tbody>\n",
              "</table>\n",
              "</div>\n",
              "      <button class=\"colab-df-convert\" onclick=\"convertToInteractive('df-13616cac-cf7c-455c-a813-fc48d12137e9')\"\n",
              "              title=\"Convert this dataframe to an interactive table.\"\n",
              "              style=\"display:none;\">\n",
              "        \n",
              "  <svg xmlns=\"http://www.w3.org/2000/svg\" height=\"24px\"viewBox=\"0 0 24 24\"\n",
              "       width=\"24px\">\n",
              "    <path d=\"M0 0h24v24H0V0z\" fill=\"none\"/>\n",
              "    <path d=\"M18.56 5.44l.94 2.06.94-2.06 2.06-.94-2.06-.94-.94-2.06-.94 2.06-2.06.94zm-11 1L8.5 8.5l.94-2.06 2.06-.94-2.06-.94L8.5 2.5l-.94 2.06-2.06.94zm10 10l.94 2.06.94-2.06 2.06-.94-2.06-.94-.94-2.06-.94 2.06-2.06.94z\"/><path d=\"M17.41 7.96l-1.37-1.37c-.4-.4-.92-.59-1.43-.59-.52 0-1.04.2-1.43.59L10.3 9.45l-7.72 7.72c-.78.78-.78 2.05 0 2.83L4 21.41c.39.39.9.59 1.41.59.51 0 1.02-.2 1.41-.59l7.78-7.78 2.81-2.81c.8-.78.8-2.07 0-2.86zM5.41 20L4 18.59l7.72-7.72 1.47 1.35L5.41 20z\"/>\n",
              "  </svg>\n",
              "      </button>\n",
              "      \n",
              "  <style>\n",
              "    .colab-df-container {\n",
              "      display:flex;\n",
              "      flex-wrap:wrap;\n",
              "      gap: 12px;\n",
              "    }\n",
              "\n",
              "    .colab-df-convert {\n",
              "      background-color: #E8F0FE;\n",
              "      border: none;\n",
              "      border-radius: 50%;\n",
              "      cursor: pointer;\n",
              "      display: none;\n",
              "      fill: #1967D2;\n",
              "      height: 32px;\n",
              "      padding: 0 0 0 0;\n",
              "      width: 32px;\n",
              "    }\n",
              "\n",
              "    .colab-df-convert:hover {\n",
              "      background-color: #E2EBFA;\n",
              "      box-shadow: 0px 1px 2px rgba(60, 64, 67, 0.3), 0px 1px 3px 1px rgba(60, 64, 67, 0.15);\n",
              "      fill: #174EA6;\n",
              "    }\n",
              "\n",
              "    [theme=dark] .colab-df-convert {\n",
              "      background-color: #3B4455;\n",
              "      fill: #D2E3FC;\n",
              "    }\n",
              "\n",
              "    [theme=dark] .colab-df-convert:hover {\n",
              "      background-color: #434B5C;\n",
              "      box-shadow: 0px 1px 3px 1px rgba(0, 0, 0, 0.15);\n",
              "      filter: drop-shadow(0px 1px 2px rgba(0, 0, 0, 0.3));\n",
              "      fill: #FFFFFF;\n",
              "    }\n",
              "  </style>\n",
              "\n",
              "      <script>\n",
              "        const buttonEl =\n",
              "          document.querySelector('#df-13616cac-cf7c-455c-a813-fc48d12137e9 button.colab-df-convert');\n",
              "        buttonEl.style.display =\n",
              "          google.colab.kernel.accessAllowed ? 'block' : 'none';\n",
              "\n",
              "        async function convertToInteractive(key) {\n",
              "          const element = document.querySelector('#df-13616cac-cf7c-455c-a813-fc48d12137e9');\n",
              "          const dataTable =\n",
              "            await google.colab.kernel.invokeFunction('convertToInteractive',\n",
              "                                                     [key], {});\n",
              "          if (!dataTable) return;\n",
              "\n",
              "          const docLinkHtml = 'Like what you see? Visit the ' +\n",
              "            '<a target=\"_blank\" href=https://colab.research.google.com/notebooks/data_table.ipynb>data table notebook</a>'\n",
              "            + ' to learn more about interactive tables.';\n",
              "          element.innerHTML = '';\n",
              "          dataTable['output_type'] = 'display_data';\n",
              "          await google.colab.output.renderOutput(dataTable, element);\n",
              "          const docLink = document.createElement('div');\n",
              "          docLink.innerHTML = docLinkHtml;\n",
              "          element.appendChild(docLink);\n",
              "        }\n",
              "      </script>\n",
              "    </div>\n",
              "  </div>\n",
              "  "
            ]
          },
          "metadata": {},
          "execution_count": 178
        }
      ]
    },
    {
      "cell_type": "code",
      "source": [
        "print( \"Warehouse that contributes the most to Order demand is : \", warehouse_order.iloc[0,0] )\n",
        "print( \"Top Warehouse in order demand percentage : \", warehouse_order.iloc[0,2], \"%\" )"
      ],
      "metadata": {
        "colab": {
          "base_uri": "https://localhost:8080/"
        },
        "id": "9hsQ2492Iuae",
        "outputId": "1a08391c-4ae6-4ef1-8b4e-165f01328357"
      },
      "execution_count": 179,
      "outputs": [
        {
          "output_type": "stream",
          "name": "stdout",
          "text": [
            "Warehouse that contributes the most to Order demand is :  Whse_J\n",
            "Top Warehouse in order demand percentage :  65.0 %\n"
          ]
        }
      ]
    },
    {
      "cell_type": "markdown",
      "source": [
        "##### **What products / categories are driving the demand?**\n",
        "\n"
      ],
      "metadata": {
        "id": "LgKe0TYgJKKm"
      }
    },
    {
      "cell_type": "markdown",
      "source": [
        "##### Frequency of each product category"
      ],
      "metadata": {
        "id": "z2x9Z9ycL_qu"
      }
    },
    {
      "cell_type": "code",
      "source": [
        "plt.figure(figsize = (14, 5))\n",
        "df_cpy.Product_Category.value_counts().sort_values().plot(kind='bar',color = \"#42f5ce\")"
      ],
      "metadata": {
        "id": "yMLdr4bz-8-U",
        "outputId": "cf71ffe3-0b71-4e44-d5e5-e49878df1aaf",
        "colab": {
          "base_uri": "https://localhost:8080/",
          "height": 397
        }
      },
      "execution_count": 180,
      "outputs": [
        {
          "output_type": "execute_result",
          "data": {
            "text/plain": [
              "<matplotlib.axes._subplots.AxesSubplot at 0x7f58fd558550>"
            ]
          },
          "metadata": {},
          "execution_count": 180
        },
        {
          "output_type": "display_data",
          "data": {
            "text/plain": [
              "<Figure size 1008x360 with 1 Axes>"
            ],
            "image/png": "[encoded data removed]"
          },
          "metadata": {
            "needs_background": "light"
          }
        }
      ]
    },
    {
      "cell_type": "markdown",
      "source": [
        "##### Warehouse w.r.t Product Category"
      ],
      "metadata": {
        "id": "zDDRFHKbMhBj"
      }
    },
    {
      "cell_type": "code",
      "source": [
        "# Amount of orders w.r.t Product Category\n",
        "prod_subset = df_cpy[[\"Product_Category\",\"Order_Demand_abs\"]]\n",
        "prod_subset = prod_subset.groupby('Product_Category').sum().sort_values('Order_Demand_abs', ascending = False)\n",
        "prod_trans = pd.DataFrame(prod_subset.reset_index())\n",
        "Order_percent = round(prod_trans.Order_Demand_abs*100 /prod_trans.Order_Demand_abs.sum())\n",
        "prod_order = pd.DataFrame({'Product Category':prod_trans.Product_Category,'Order demand (count)': prod_trans.Order_Demand_abs,'Order demand (%)': Order_percent})\n",
        "prod_order.sort_values(by=['Order demand (%)'], ascending=False)\n",
        "prod_order\n"
      ],
      "metadata": {
        "id": "GOvKo9fJMtmc",
        "outputId": "70bdcca4-eac0-4274-98c1-21c3553274dd",
        "colab": {
          "base_uri": "https://localhost:8080/",
          "height": 1000
        }
      },
      "execution_count": 181,
      "outputs": [
        {
          "output_type": "execute_result",
          "data": {
            "text/plain": [
              "   Product Category  Order demand (count)  Order demand (%)\n",
              "0      Category_019            4251207605              83.0\n",
              "1      Category_006             405579330               8.0\n",
              "2      Category_005             199681320               4.0\n",
              "3      Category_007             128691531               3.0\n",
              "4      Category_028              49150112               1.0\n",
              "5      Category_033              42610000               1.0\n",
              "6      Category_030              40966555               1.0\n",
              "7      Category_021               4480660               0.0\n",
              "8      Category_032               4473048               0.0\n",
              "9      Category_009               3782141               0.0\n",
              "10     Category_023               3337724               0.0\n",
              "11     Category_011               2892842               0.0\n",
              "12     Category_020               2393813               0.0\n",
              "13     Category_001               1757473               0.0\n",
              "14     Category_024               1057317               0.0\n",
              "15     Category_015                834505               0.0\n",
              "16     Category_022                606051               0.0\n",
              "17     Category_025                486000               0.0\n",
              "18     Category_003                392950               0.0\n",
              "19     Category_013                309618               0.0\n",
              "20     Category_026                283120               0.0\n",
              "21     Category_004                 99046               0.0\n",
              "22     Category_012                 70006               0.0\n",
              "23     Category_017                 49457               0.0\n",
              "24     Category_018                 46023               0.0\n",
              "25     Category_029                 23979               0.0\n",
              "26     Category_010                 22554               0.0\n",
              "27     Category_008                 17568               0.0\n",
              "28     Category_016                 16850               0.0\n",
              "29     Category_031                 13292               0.0\n",
              "30     Category_002                   628               0.0\n",
              "31     Category_027                   103               0.0\n",
              "32     Category_014                   100               0.0"
            ],
            "text/html": [
              "\n",
              "  <div id=\"df-7fa5c3a4-d74a-4803-a8e9-91d5b04aeeef\">\n",
              "    <div class=\"colab-df-container\">\n",
              "      <div>\n",
              "<style scoped>\n",
              "    .dataframe tbody tr th:only-of-type {\n",
              "        vertical-align: middle;\n",
              "    }\n",
              "\n",
              "    .dataframe tbody tr th {\n",
              "        vertical-align: top;\n",
              "    }\n",
              "\n",
              "    .dataframe thead th {\n",
              "        text-align: right;\n",
              "    }\n",
              "</style>\n",
              "<table border=\"1\" class=\"dataframe\">\n",
              "  <thead>\n",
              "    <tr style=\"text-align: right;\">\n",
              "      <th></th>\n",
              "      <th>Product Category</th>\n",
              "      <th>Order demand (count)</th>\n",
              "      <th>Order demand (%)</th>\n",
              "    </tr>\n",
              "  </thead>\n",
              "  <tbody>\n",
              "    <tr>\n",
              "      <th>0</th>\n",
              "      <td>Category_019</td>\n",
              "      <td>4251207605</td>\n",
              "      <td>83.0</td>\n",
              "    </tr>\n",
              "    <tr>\n",
              "      <th>1</th>\n",
              "      <td>Category_006</td>\n",
              "      <td>405579330</td>\n",
              "      <td>8.0</td>\n",
              "    </tr>\n",
              "    <tr>\n",
              "      <th>2</th>\n",
              "      <td>Category_005</td>\n",
              "      <td>199681320</td>\n",
              "      <td>4.0</td>\n",
              "    </tr>\n",
              "    <tr>\n",
              "      <th>3</th>\n",
              "      <td>Category_007</td>\n",
              "      <td>128691531</td>\n",
              "      <td>3.0</td>\n",
              "    </tr>\n",
              "    <tr>\n",
              "      <th>4</th>\n",
              "      <td>Category_028</td>\n",
              "      <td>49150112</td>\n",
              "      <td>1.0</td>\n",
              "    </tr>\n",
              "    <tr>\n",
              "      <th>5</th>\n",
              "      <td>Category_033</td>\n",
              "      <td>42610000</td>\n",
              "      <td>1.0</td>\n",
              "    </tr>\n",
              "    <tr>\n",
              "      <th>6</th>\n",
              "      <td>Category_030</td>\n",
              "      <td>40966555</td>\n",
              "      <td>1.0</td>\n",
              "    </tr>\n",
              "    <tr>\n",
              "      <th>7</th>\n",
              "      <td>Category_021</td>\n",
              "      <td>4480660</td>\n",
              "      <td>0.0</td>\n",
              "    </tr>\n",
              "    <tr>\n",
              "      <th>8</th>\n",
              "      <td>Category_032</td>\n",
              "      <td>4473048</td>\n",
              "      <td>0.0</td>\n",
              "    </tr>\n",
              "    <tr>\n",
              "      <th>9</th>\n",
              "      <td>Category_009</td>\n",
              "      <td>3782141</td>\n",
              "      <td>0.0</td>\n",
              "    </tr>\n",
              "    <tr>\n",
              "      <th>10</th>\n",
              "      <td>Category_023</td>\n",
              "      <td>3337724</td>\n",
              "      <td>0.0</td>\n",
              "    </tr>\n",
              "    <tr>\n",
              "      <th>11</th>\n",
              "      <td>Category_011</td>\n",
              "      <td>2892842</td>\n",
              "      <td>0.0</td>\n",
              "    </tr>\n",
              "    <tr>\n",
              "      <th>12</th>\n",
              "      <td>Category_020</td>\n",
              "      <td>2393813</td>\n",
              "      <td>0.0</td>\n",
              "    </tr>\n",
              "    <tr>\n",
              "      <th>13</th>\n",
              "      <td>Category_001</td>\n",
              "      <td>1757473</td>\n",
              "      <td>0.0</td>\n",
              "    </tr>\n",
              "    <tr>\n",
              "      <th>14</th>\n",
              "      <td>Category_024</td>\n",
              "      <td>1057317</td>\n",
              "      <td>0.0</td>\n",
              "    </tr>\n",
              "    <tr>\n",
              "      <th>15</th>\n",
              "      <td>Category_015</td>\n",
              "      <td>834505</td>\n",
              "      <td>0.0</td>\n",
              "    </tr>\n",
              "    <tr>\n",
              "      <th>16</th>\n",
              "      <td>Category_022</td>\n",
              "      <td>606051</td>\n",
              "      <td>0.0</td>\n",
              "    </tr>\n",
              "    <tr>\n",
              "      <th>17</th>\n",
              "      <td>Category_025</td>\n",
              "      <td>486000</td>\n",
              "      <td>0.0</td>\n",
              "    </tr>\n",
              "    <tr>\n",
              "      <th>18</th>\n",
              "      <td>Category_003</td>\n",
              "      <td>392950</td>\n",
              "      <td>0.0</td>\n",
              "    </tr>\n",
              "    <tr>\n",
              "      <th>19</th>\n",
              "      <td>Category_013</td>\n",
              "      <td>309618</td>\n",
              "      <td>0.0</td>\n",
              "    </tr>\n",
              "    <tr>\n",
              "      <th>20</th>\n",
              "      <td>Category_026</td>\n",
              "      <td>283120</td>\n",
              "      <td>0.0</td>\n",
              "    </tr>\n",
              "    <tr>\n",
              "      <th>21</th>\n",
              "      <td>Category_004</td>\n",
              "      <td>99046</td>\n",
              "      <td>0.0</td>\n",
              "    </tr>\n",
              "    <tr>\n",
              "      <th>22</th>\n",
              "      <td>Category_012</td>\n",
              "      <td>70006</td>\n",
              "      <td>0.0</td>\n",
              "    </tr>\n",
              "    <tr>\n",
              "      <th>23</th>\n",
              "      <td>Category_017</td>\n",
              "      <td>49457</td>\n",
              "      <td>0.0</td>\n",
              "    </tr>\n",
              "    <tr>\n",
              "      <th>24</th>\n",
              "      <td>Category_018</td>\n",
              "      <td>46023</td>\n",
              "      <td>0.0</td>\n",
              "    </tr>\n",
              "    <tr>\n",
              "      <th>25</th>\n",
              "      <td>Category_029</td>\n",
              "      <td>23979</td>\n",
              "      <td>0.0</td>\n",
              "    </tr>\n",
              "    <tr>\n",
              "      <th>26</th>\n",
              "      <td>Category_010</td>\n",
              "      <td>22554</td>\n",
              "      <td>0.0</td>\n",
              "    </tr>\n",
              "    <tr>\n",
              "      <th>27</th>\n",
              "      <td>Category_008</td>\n",
              "      <td>17568</td>\n",
              "      <td>0.0</td>\n",
              "    </tr>\n",
              "    <tr>\n",
              "      <th>28</th>\n",
              "      <td>Category_016</td>\n",
              "      <td>16850</td>\n",
              "      <td>0.0</td>\n",
              "    </tr>\n",
              "    <tr>\n",
              "      <th>29</th>\n",
              "      <td>Category_031</td>\n",
              "      <td>13292</td>\n",
              "      <td>0.0</td>\n",
              "    </tr>\n",
              "    <tr>\n",
              "      <th>30</th>\n",
              "      <td>Category_002</td>\n",
              "      <td>628</td>\n",
              "      <td>0.0</td>\n",
              "    </tr>\n",
              "    <tr>\n",
              "      <th>31</th>\n",
              "      <td>Category_027</td>\n",
              "      <td>103</td>\n",
              "      <td>0.0</td>\n",
              "    </tr>\n",
              "    <tr>\n",
              "      <th>32</th>\n",
              "      <td>Category_014</td>\n",
              "      <td>100</td>\n",
              "      <td>0.0</td>\n",
              "    </tr>\n",
              "  </tbody>\n",
              "</table>\n",
              "</div>\n",
              "      <button class=\"colab-df-convert\" onclick=\"convertToInteractive('df-7fa5c3a4-d74a-4803-a8e9-91d5b04aeeef')\"\n",
              "              title=\"Convert this dataframe to an interactive table.\"\n",
              "              style=\"display:none;\">\n",
              "        \n",
              "  <svg xmlns=\"http://www.w3.org/2000/svg\" height=\"24px\"viewBox=\"0 0 24 24\"\n",
              "       width=\"24px\">\n",
              "    <path d=\"M0 0h24v24H0V0z\" fill=\"none\"/>\n",
              "    <path d=\"M18.56 5.44l.94 2.06.94-2.06 2.06-.94-2.06-.94-.94-2.06-.94 2.06-2.06.94zm-11 1L8.5 8.5l.94-2.06 2.06-.94-2.06-.94L8.5 2.5l-.94 2.06-2.06.94zm10 10l.94 2.06.94-2.06 2.06-.94-2.06-.94-.94-2.06-.94 2.06-2.06.94z\"/><path d=\"M17.41 7.96l-1.37-1.37c-.4-.4-.92-.59-1.43-.59-.52 0-1.04.2-1.43.59L10.3 9.45l-7.72 7.72c-.78.78-.78 2.05 0 2.83L4 21.41c.39.39.9.59 1.41.59.51 0 1.02-.2 1.41-.59l7.78-7.78 2.81-2.81c.8-.78.8-2.07 0-2.86zM5.41 20L4 18.59l7.72-7.72 1.47 1.35L5.41 20z\"/>\n",
              "  </svg>\n",
              "      </button>\n",
              "      \n",
              "  <style>\n",
              "    .colab-df-container {\n",
              "      display:flex;\n",
              "      flex-wrap:wrap;\n",
              "      gap: 12px;\n",
              "    }\n",
              "\n",
              "    .colab-df-convert {\n",
              "      background-color: #E8F0FE;\n",
              "      border: none;\n",
              "      border-radius: 50%;\n",
              "      cursor: pointer;\n",
              "      display: none;\n",
              "      fill: #1967D2;\n",
              "      height: 32px;\n",
              "      padding: 0 0 0 0;\n",
              "      width: 32px;\n",
              "    }\n",
              "\n",
              "    .colab-df-convert:hover {\n",
              "      background-color: #E2EBFA;\n",
              "      box-shadow: 0px 1px 2px rgba(60, 64, 67, 0.3), 0px 1px 3px 1px rgba(60, 64, 67, 0.15);\n",
              "      fill: #174EA6;\n",
              "    }\n",
              "\n",
              "    [theme=dark] .colab-df-convert {\n",
              "      background-color: #3B4455;\n",
              "      fill: #D2E3FC;\n",
              "    }\n",
              "\n",
              "    [theme=dark] .colab-df-convert:hover {\n",
              "      background-color: #434B5C;\n",
              "      box-shadow: 0px 1px 3px 1px rgba(0, 0, 0, 0.15);\n",
              "      filter: drop-shadow(0px 1px 2px rgba(0, 0, 0, 0.3));\n",
              "      fill: #FFFFFF;\n",
              "    }\n",
              "  </style>\n",
              "\n",
              "      <script>\n",
              "        const buttonEl =\n",
              "          document.querySelector('#df-7fa5c3a4-d74a-4803-a8e9-91d5b04aeeef button.colab-df-convert');\n",
              "        buttonEl.style.display =\n",
              "          google.colab.kernel.accessAllowed ? 'block' : 'none';\n",
              "\n",
              "        async function convertToInteractive(key) {\n",
              "          const element = document.querySelector('#df-7fa5c3a4-d74a-4803-a8e9-91d5b04aeeef');\n",
              "          const dataTable =\n",
              "            await google.colab.kernel.invokeFunction('convertToInteractive',\n",
              "                                                     [key], {});\n",
              "          if (!dataTable) return;\n",
              "\n",
              "          const docLinkHtml = 'Like what you see? Visit the ' +\n",
              "            '<a target=\"_blank\" href=https://colab.research.google.com/notebooks/data_table.ipynb>data table notebook</a>'\n",
              "            + ' to learn more about interactive tables.';\n",
              "          element.innerHTML = '';\n",
              "          dataTable['output_type'] = 'display_data';\n",
              "          await google.colab.output.renderOutput(dataTable, element);\n",
              "          const docLink = document.createElement('div');\n",
              "          docLink.innerHTML = docLinkHtml;\n",
              "          element.appendChild(docLink);\n",
              "        }\n",
              "      </script>\n",
              "    </div>\n",
              "  </div>\n",
              "  "
            ]
          },
          "metadata": {},
          "execution_count": 181
        }
      ]
    },
    {
      "cell_type": "code",
      "source": [
        "print( \"Category that contributes the most to Order demand is : \", prod_order.iloc[0,0] )\n",
        "print( \"Top category in order demand percentage : \", prod_order.iloc[0,2], \"%\" )"
      ],
      "metadata": {
        "colab": {
          "base_uri": "https://localhost:8080/"
        },
        "id": "XIQggFCOGddR",
        "outputId": "a38ff244-d907-408f-8b38-ad248ba37eb6"
      },
      "execution_count": 182,
      "outputs": [
        {
          "output_type": "stream",
          "name": "stdout",
          "text": [
            "Category that contributes the most to Order demand is :  Category_019\n",
            "Top category in order demand percentage :  83.0 %\n"
          ]
        }
      ]
    },
    {
      "cell_type": "markdown",
      "source": [
        "## **Time-series insights**\n",
        "*   Are there missing dates?\n",
        "*   Are all dates valid?\n",
        "*   What is the seasonability decomposition?\n",
        "\n",
        "\n",
        "\n",
        "\n",
        "\n",
        "\n"
      ],
      "metadata": {
        "id": "Z3b4mRffJ3xY"
      }
    },
    {
      "cell_type": "code",
      "source": [
        "# Check missing values\n",
        "print(\"Number of columns : \", len(df_cpy.columns))\n",
        "print(\"Missing values by rows : \" ,df_cpy.isnull().any(axis=1).sum())\n",
        "print(\"Number of rows : \" ,len(df_cpy), \"\\n\")\n",
        "\n",
        "# Number of missing values for each column\n",
        "missing_percent = df_cpy.isnull().sum()*100 / len(df_cpy)\n",
        "miss_df = pd.DataFrame({'missing (count)': df_cpy.isnull().sum(),'missing (%)': missing_percent})\n",
        "miss_df.sort_values(by=['missing (%)'], ascending=False)\n",
        "\n"
      ],
      "metadata": {
        "id": "O0c8EEeaEeW6",
        "outputId": "0bb20e67-5254-4b53-d0b2-4c7903ed2494",
        "colab": {
          "base_uri": "https://localhost:8080/",
          "height": 307
        }
      },
      "execution_count": 183,
      "outputs": [
        {
          "output_type": "stream",
          "name": "stdout",
          "text": [
            "Number of columns :  6\n",
            "Missing values by rows :  11239\n",
            "Number of rows :  1048575 \n",
            "\n"
          ]
        },
        {
          "output_type": "execute_result",
          "data": {
            "text/plain": [
              "                  missing (count)  missing (%)\n",
              "Date                        11239     1.071836\n",
              "Product_Code                    0     0.000000\n",
              "Warehouse                       0     0.000000\n",
              "Product_Category                0     0.000000\n",
              "Order_Demand                    0     0.000000\n",
              "Order_Demand_abs                0     0.000000"
            ],
            "text/html": [
              "\n",
              "  <div id=\"df-6dc56810-2293-4e5e-9d37-f57310eae9f0\">\n",
              "    <div class=\"colab-df-container\">\n",
              "      <div>\n",
              "<style scoped>\n",
              "    .dataframe tbody tr th:only-of-type {\n",
              "        vertical-align: middle;\n",
              "    }\n",
              "\n",
              "    .dataframe tbody tr th {\n",
              "        vertical-align: top;\n",
              "    }\n",
              "\n",
              "    .dataframe thead th {\n",
              "        text-align: right;\n",
              "    }\n",
              "</style>\n",
              "<table border=\"1\" class=\"dataframe\">\n",
              "  <thead>\n",
              "    <tr style=\"text-align: right;\">\n",
              "      <th></th>\n",
              "      <th>missing (count)</th>\n",
              "      <th>missing (%)</th>\n",
              "    </tr>\n",
              "  </thead>\n",
              "  <tbody>\n",
              "    <tr>\n",
              "      <th>Date</th>\n",
              "      <td>11239</td>\n",
              "      <td>1.071836</td>\n",
              "    </tr>\n",
              "    <tr>\n",
              "      <th>Product_Code</th>\n",
              "      <td>0</td>\n",
              "      <td>0.000000</td>\n",
              "    </tr>\n",
              "    <tr>\n",
              "      <th>Warehouse</th>\n",
              "      <td>0</td>\n",
              "      <td>0.000000</td>\n",
              "    </tr>\n",
              "    <tr>\n",
              "      <th>Product_Category</th>\n",
              "      <td>0</td>\n",
              "      <td>0.000000</td>\n",
              "    </tr>\n",
              "    <tr>\n",
              "      <th>Order_Demand</th>\n",
              "      <td>0</td>\n",
              "      <td>0.000000</td>\n",
              "    </tr>\n",
              "    <tr>\n",
              "      <th>Order_Demand_abs</th>\n",
              "      <td>0</td>\n",
              "      <td>0.000000</td>\n",
              "    </tr>\n",
              "  </tbody>\n",
              "</table>\n",
              "</div>\n",
              "      <button class=\"colab-df-convert\" onclick=\"convertToInteractive('df-6dc56810-2293-4e5e-9d37-f57310eae9f0')\"\n",
              "              title=\"Convert this dataframe to an interactive table.\"\n",
              "              style=\"display:none;\">\n",
              "        \n",
              "  <svg xmlns=\"http://www.w3.org/2000/svg\" height=\"24px\"viewBox=\"0 0 24 24\"\n",
              "       width=\"24px\">\n",
              "    <path d=\"M0 0h24v24H0V0z\" fill=\"none\"/>\n",
              "    <path d=\"M18.56 5.44l.94 2.06.94-2.06 2.06-.94-2.06-.94-.94-2.06-.94 2.06-2.06.94zm-11 1L8.5 8.5l.94-2.06 2.06-.94-2.06-.94L8.5 2.5l-.94 2.06-2.06.94zm10 10l.94 2.06.94-2.06 2.06-.94-2.06-.94-.94-2.06-.94 2.06-2.06.94z\"/><path d=\"M17.41 7.96l-1.37-1.37c-.4-.4-.92-.59-1.43-.59-.52 0-1.04.2-1.43.59L10.3 9.45l-7.72 7.72c-.78.78-.78 2.05 0 2.83L4 21.41c.39.39.9.59 1.41.59.51 0 1.02-.2 1.41-.59l7.78-7.78 2.81-2.81c.8-.78.8-2.07 0-2.86zM5.41 20L4 18.59l7.72-7.72 1.47 1.35L5.41 20z\"/>\n",
              "  </svg>\n",
              "      </button>\n",
              "      \n",
              "  <style>\n",
              "    .colab-df-container {\n",
              "      display:flex;\n",
              "      flex-wrap:wrap;\n",
              "      gap: 12px;\n",
              "    }\n",
              "\n",
              "    .colab-df-convert {\n",
              "      background-color: #E8F0FE;\n",
              "      border: none;\n",
              "      border-radius: 50%;\n",
              "      cursor: pointer;\n",
              "      display: none;\n",
              "      fill: #1967D2;\n",
              "      height: 32px;\n",
              "      padding: 0 0 0 0;\n",
              "      width: 32px;\n",
              "    }\n",
              "\n",
              "    .colab-df-convert:hover {\n",
              "      background-color: #E2EBFA;\n",
              "      box-shadow: 0px 1px 2px rgba(60, 64, 67, 0.3), 0px 1px 3px 1px rgba(60, 64, 67, 0.15);\n",
              "      fill: #174EA6;\n",
              "    }\n",
              "\n",
              "    [theme=dark] .colab-df-convert {\n",
              "      background-color: #3B4455;\n",
              "      fill: #D2E3FC;\n",
              "    }\n",
              "\n",
              "    [theme=dark] .colab-df-convert:hover {\n",
              "      background-color: #434B5C;\n",
              "      box-shadow: 0px 1px 3px 1px rgba(0, 0, 0, 0.15);\n",
              "      filter: drop-shadow(0px 1px 2px rgba(0, 0, 0, 0.3));\n",
              "      fill: #FFFFFF;\n",
              "    }\n",
              "  </style>\n",
              "\n",
              "      <script>\n",
              "        const buttonEl =\n",
              "          document.querySelector('#df-6dc56810-2293-4e5e-9d37-f57310eae9f0 button.colab-df-convert');\n",
              "        buttonEl.style.display =\n",
              "          google.colab.kernel.accessAllowed ? 'block' : 'none';\n",
              "\n",
              "        async function convertToInteractive(key) {\n",
              "          const element = document.querySelector('#df-6dc56810-2293-4e5e-9d37-f57310eae9f0');\n",
              "          const dataTable =\n",
              "            await google.colab.kernel.invokeFunction('convertToInteractive',\n",
              "                                                     [key], {});\n",
              "          if (!dataTable) return;\n",
              "\n",
              "          const docLinkHtml = 'Like what you see? Visit the ' +\n",
              "            '<a target=\"_blank\" href=https://colab.research.google.com/notebooks/data_table.ipynb>data table notebook</a>'\n",
              "            + ' to learn more about interactive tables.';\n",
              "          element.innerHTML = '';\n",
              "          dataTable['output_type'] = 'display_data';\n",
              "          await google.colab.output.renderOutput(dataTable, element);\n",
              "          const docLink = document.createElement('div');\n",
              "          docLink.innerHTML = docLinkHtml;\n",
              "          element.appendChild(docLink);\n",
              "        }\n",
              "      </script>\n",
              "    </div>\n",
              "  </div>\n",
              "  "
            ]
          },
          "metadata": {},
          "execution_count": 183
        }
      ]
    },
    {
      "cell_type": "markdown",
      "source": [
        "Only 1.07 % data is missing which belongs to date column, we can drop these rows"
      ],
      "metadata": {
        "id": "eocvWNRAHUSY"
      }
    },
    {
      "cell_type": "code",
      "source": [
        "df_cpy.dropna(axis=0, inplace=True) #remove all rows with na's.\n",
        "df_cpy.head()\n",
        "\n",
        "# Number of missing values for each column\n",
        "missing_percent = df_cpy.isnull().sum()*100 / len(df_cpy)\n",
        "print(\" Missing percentage by each column  :- \\n\", missing_percent)"
      ],
      "metadata": {
        "id": "GKgfxFALHigZ",
        "outputId": "66ad7cca-8ab3-4ab1-8f03-b252aa1d13b1",
        "colab": {
          "base_uri": "https://localhost:8080/"
        }
      },
      "execution_count": 184,
      "outputs": [
        {
          "output_type": "stream",
          "name": "stdout",
          "text": [
            " Missing percentage by each column  :- \n",
            " Product_Code        0.0\n",
            "Warehouse           0.0\n",
            "Product_Category    0.0\n",
            "Date                0.0\n",
            "Order_Demand        0.0\n",
            "Order_Demand_abs    0.0\n",
            "dtype: float64\n"
          ]
        }
      ]
    },
    {
      "cell_type": "code",
      "source": [
        "### Extract month, year, quarter , weekday and day from date\n",
        "df_cpy['Day'] =  df_cpy['Date'].dt.day\n",
        "df_cpy['Month'] =  df_cpy['Date'].dt.month\n",
        "df_cpy['Month_name'] =  df_cpy['Date'].dt.strftime('%B')\n",
        "df_cpy['Year'] =  df_cpy['Date'].dt.year\n",
        "df_cpy[\"Quarter\"] = df_cpy['Date'].dt.quarter\n",
        "df_cpy[\"DayOfWeek\"] = df_cpy[\"Date\"].dt.weekday\n",
        "\n",
        "### Adding order to month names\n",
        "months = [\"January\", \"February\", \"March\", \"April\", \"May\", \"June\", \"July\", \"August\", \"September\", \"October\", \"November\", \"December\"]\n",
        "df_cpy['Month_name'] = pd.Categorical(df_cpy['Month_name'], categories= months , ordered=True)"
      ],
      "metadata": {
        "id": "nsj6DCh1sFim"
      },
      "execution_count": 185,
      "outputs": []
    },
    {
      "cell_type": "code",
      "source": [
        "print(\" Year range : \",df_cpy[\"Year\"].min(), \"-\",df_cpy[\"Year\"].max())"
      ],
      "metadata": {
        "colab": {
          "base_uri": "https://localhost:8080/"
        },
        "id": "yl4y_YUbY8XT",
        "outputId": "7d2cb890-9bca-4f71-b338-be1ba0bb1317"
      },
      "execution_count": 186,
      "outputs": [
        {
          "output_type": "stream",
          "name": "stdout",
          "text": [
            " Year range :  2011 - 2017\n"
          ]
        }
      ]
    },
    {
      "cell_type": "code",
      "source": [
        "plt.figure(figsize = (10, 5))\n",
        "sns.barplot(y=df_cpy['Order_Demand_abs'],x= df_cpy['Year'])"
      ],
      "metadata": {
        "colab": {
          "base_uri": "https://localhost:8080/",
          "height": 354
        },
        "id": "sFz9U_OSXKWU",
        "outputId": "87fae764-d87a-4630-ff69-75136a9ac3ed"
      },
      "execution_count": 187,
      "outputs": [
        {
          "output_type": "execute_result",
          "data": {
            "text/plain": [
              "<matplotlib.axes._subplots.AxesSubplot at 0x7f58fd55e790>"
            ]
          },
          "metadata": {},
          "execution_count": 187
        },
        {
          "output_type": "display_data",
          "data": {
            "text/plain": [
              "<Figure size 720x360 with 1 Axes>"
            ],
            "image/png": "[encoded data removed]"
          },
          "metadata": {
            "needs_background": "light"
          }
        }
      ]
    },
    {
      "cell_type": "code",
      "source": [
        "#Index the date\n",
        "date_sub = df_cpy.set_index('Date')\n",
        "#date_sub.index \n",
        "date_sub.head()"
      ],
      "metadata": {
        "colab": {
          "base_uri": "https://localhost:8080/",
          "height": 237
        },
        "id": "WsYBD18caJ_n",
        "outputId": "61c40426-a971-46b5-d365-97b143882e0f"
      },
      "execution_count": 188,
      "outputs": [
        {
          "output_type": "execute_result",
          "data": {
            "text/plain": [
              "            Product_Code Warehouse Product_Category Order_Demand  \\\n",
              "Date                                                               \n",
              "2012-07-27  Product_0993    Whse_J     Category_028         100    \n",
              "2012-01-19  Product_0979    Whse_J     Category_028         500    \n",
              "2012-02-03  Product_0979    Whse_J     Category_028         500    \n",
              "2012-02-09  Product_0979    Whse_J     Category_028         500    \n",
              "2012-03-02  Product_0979    Whse_J     Category_028         500    \n",
              "\n",
              "            Order_Demand_abs  Day  Month Month_name  Year  Quarter  DayOfWeek  \n",
              "Date                                                                           \n",
              "2012-07-27               100   27      7       July  2012        3          4  \n",
              "2012-01-19               500   19      1    January  2012        1          3  \n",
              "2012-02-03               500    3      2   February  2012        1          4  \n",
              "2012-02-09               500    9      2   February  2012        1          3  \n",
              "2012-03-02               500    2      3      March  2012        1          4  "
            ],
            "text/html": [
              "\n",
              "  <div id=\"df-585f24be-eb09-4ca0-90c5-99c9b37f2112\">\n",
              "    <div class=\"colab-df-container\">\n",
              "      <div>\n",
              "<style scoped>\n",
              "    .dataframe tbody tr th:only-of-type {\n",
              "        vertical-align: middle;\n",
              "    }\n",
              "\n",
              "    .dataframe tbody tr th {\n",
              "        vertical-align: top;\n",
              "    }\n",
              "\n",
              "    .dataframe thead th {\n",
              "        text-align: right;\n",
              "    }\n",
              "</style>\n",
              "<table border=\"1\" class=\"dataframe\">\n",
              "  <thead>\n",
              "    <tr style=\"text-align: right;\">\n",
              "      <th></th>\n",
              "      <th>Product_Code</th>\n",
              "      <th>Warehouse</th>\n",
              "      <th>Product_Category</th>\n",
              "      <th>Order_Demand</th>\n",
              "      <th>Order_Demand_abs</th>\n",
              "      <th>Day</th>\n",
              "      <th>Month</th>\n",
              "      <th>Month_name</th>\n",
              "      <th>Year</th>\n",
              "      <th>Quarter</th>\n",
              "      <th>DayOfWeek</th>\n",
              "    </tr>\n",
              "    <tr>\n",
              "      <th>Date</th>\n",
              "      <th></th>\n",
              "      <th></th>\n",
              "      <th></th>\n",
              "      <th></th>\n",
              "      <th></th>\n",
              "      <th></th>\n",
              "      <th></th>\n",
              "      <th></th>\n",
              "      <th></th>\n",
              "      <th></th>\n",
              "      <th></th>\n",
              "    </tr>\n",
              "  </thead>\n",
              "  <tbody>\n",
              "    <tr>\n",
              "      <th>2012-07-27</th>\n",
              "      <td>Product_0993</td>\n",
              "      <td>Whse_J</td>\n",
              "      <td>Category_028</td>\n",
              "      <td>100</td>\n",
              "      <td>100</td>\n",
              "      <td>27</td>\n",
              "      <td>7</td>\n",
              "      <td>July</td>\n",
              "      <td>2012</td>\n",
              "      <td>3</td>\n",
              "      <td>4</td>\n",
              "    </tr>\n",
              "    <tr>\n",
              "      <th>2012-01-19</th>\n",
              "      <td>Product_0979</td>\n",
              "      <td>Whse_J</td>\n",
              "      <td>Category_028</td>\n",
              "      <td>500</td>\n",
              "      <td>500</td>\n",
              "      <td>19</td>\n",
              "      <td>1</td>\n",
              "      <td>January</td>\n",
              "      <td>2012</td>\n",
              "      <td>1</td>\n",
              "      <td>3</td>\n",
              "    </tr>\n",
              "    <tr>\n",
              "      <th>2012-02-03</th>\n",
              "      <td>Product_0979</td>\n",
              "      <td>Whse_J</td>\n",
              "      <td>Category_028</td>\n",
              "      <td>500</td>\n",
              "      <td>500</td>\n",
              "      <td>3</td>\n",
              "      <td>2</td>\n",
              "      <td>February</td>\n",
              "      <td>2012</td>\n",
              "      <td>1</td>\n",
              "      <td>4</td>\n",
              "    </tr>\n",
              "    <tr>\n",
              "      <th>2012-02-09</th>\n",
              "      <td>Product_0979</td>\n",
              "      <td>Whse_J</td>\n",
              "      <td>Category_028</td>\n",
              "      <td>500</td>\n",
              "      <td>500</td>\n",
              "      <td>9</td>\n",
              "      <td>2</td>\n",
              "      <td>February</td>\n",
              "      <td>2012</td>\n",
              "      <td>1</td>\n",
              "      <td>3</td>\n",
              "    </tr>\n",
              "    <tr>\n",
              "      <th>2012-03-02</th>\n",
              "      <td>Product_0979</td>\n",
              "      <td>Whse_J</td>\n",
              "      <td>Category_028</td>\n",
              "      <td>500</td>\n",
              "      <td>500</td>\n",
              "      <td>2</td>\n",
              "      <td>3</td>\n",
              "      <td>March</td>\n",
              "      <td>2012</td>\n",
              "      <td>1</td>\n",
              "      <td>4</td>\n",
              "    </tr>\n",
              "  </tbody>\n",
              "</table>\n",
              "</div>\n",
              "      <button class=\"colab-df-convert\" onclick=\"convertToInteractive('df-585f24be-eb09-4ca0-90c5-99c9b37f2112')\"\n",
              "              title=\"Convert this dataframe to an interactive table.\"\n",
              "              style=\"display:none;\">\n",
              "        \n",
              "  <svg xmlns=\"http://www.w3.org/2000/svg\" height=\"24px\"viewBox=\"0 0 24 24\"\n",
              "       width=\"24px\">\n",
              "    <path d=\"M0 0h24v24H0V0z\" fill=\"none\"/>\n",
              "    <path d=\"M18.56 5.44l.94 2.06.94-2.06 2.06-.94-2.06-.94-.94-2.06-.94 2.06-2.06.94zm-11 1L8.5 8.5l.94-2.06 2.06-.94-2.06-.94L8.5 2.5l-.94 2.06-2.06.94zm10 10l.94 2.06.94-2.06 2.06-.94-2.06-.94-.94-2.06-.94 2.06-2.06.94z\"/><path d=\"M17.41 7.96l-1.37-1.37c-.4-.4-.92-.59-1.43-.59-.52 0-1.04.2-1.43.59L10.3 9.45l-7.72 7.72c-.78.78-.78 2.05 0 2.83L4 21.41c.39.39.9.59 1.41.59.51 0 1.02-.2 1.41-.59l7.78-7.78 2.81-2.81c.8-.78.8-2.07 0-2.86zM5.41 20L4 18.59l7.72-7.72 1.47 1.35L5.41 20z\"/>\n",
              "  </svg>\n",
              "      </button>\n",
              "      \n",
              "  <style>\n",
              "    .colab-df-container {\n",
              "      display:flex;\n",
              "      flex-wrap:wrap;\n",
              "      gap: 12px;\n",
              "    }\n",
              "\n",
              "    .colab-df-convert {\n",
              "      background-color: #E8F0FE;\n",
              "      border: none;\n",
              "      border-radius: 50%;\n",
              "      cursor: pointer;\n",
              "      display: none;\n",
              "      fill: #1967D2;\n",
              "      height: 32px;\n",
              "      padding: 0 0 0 0;\n",
              "      width: 32px;\n",
              "    }\n",
              "\n",
              "    .colab-df-convert:hover {\n",
              "      background-color: #E2EBFA;\n",
              "      box-shadow: 0px 1px 2px rgba(60, 64, 67, 0.3), 0px 1px 3px 1px rgba(60, 64, 67, 0.15);\n",
              "      fill: #174EA6;\n",
              "    }\n",
              "\n",
              "    [theme=dark] .colab-df-convert {\n",
              "      background-color: #3B4455;\n",
              "      fill: #D2E3FC;\n",
              "    }\n",
              "\n",
              "    [theme=dark] .colab-df-convert:hover {\n",
              "      background-color: #434B5C;\n",
              "      box-shadow: 0px 1px 3px 1px rgba(0, 0, 0, 0.15);\n",
              "      filter: drop-shadow(0px 1px 2px rgba(0, 0, 0, 0.3));\n",
              "      fill: #FFFFFF;\n",
              "    }\n",
              "  </style>\n",
              "\n",
              "      <script>\n",
              "        const buttonEl =\n",
              "          document.querySelector('#df-585f24be-eb09-4ca0-90c5-99c9b37f2112 button.colab-df-convert');\n",
              "        buttonEl.style.display =\n",
              "          google.colab.kernel.accessAllowed ? 'block' : 'none';\n",
              "\n",
              "        async function convertToInteractive(key) {\n",
              "          const element = document.querySelector('#df-585f24be-eb09-4ca0-90c5-99c9b37f2112');\n",
              "          const dataTable =\n",
              "            await google.colab.kernel.invokeFunction('convertToInteractive',\n",
              "                                                     [key], {});\n",
              "          if (!dataTable) return;\n",
              "\n",
              "          const docLinkHtml = 'Like what you see? Visit the ' +\n",
              "            '<a target=\"_blank\" href=https://colab.research.google.com/notebooks/data_table.ipynb>data table notebook</a>'\n",
              "            + ' to learn more about interactive tables.';\n",
              "          element.innerHTML = '';\n",
              "          dataTable['output_type'] = 'display_data';\n",
              "          await google.colab.output.renderOutput(dataTable, element);\n",
              "          const docLink = document.createElement('div');\n",
              "          docLink.innerHTML = docLinkHtml;\n",
              "          element.appendChild(docLink);\n",
              "        }\n",
              "      </script>\n",
              "    </div>\n",
              "  </div>\n",
              "  "
            ]
          },
          "metadata": {},
          "execution_count": 188
        }
      ]
    },
    {
      "cell_type": "code",
      "source": [
        "# Average demand orders\n",
        "# resample('MS') = first day of the month\n",
        "\n",
        "y = date_sub['Order_Demand_abs'].resample('MS').mean()\n",
        "y.plot(figsize=(15,5), color = \"#0fab89\")\n",
        "plt.show()"
      ],
      "metadata": {
        "colab": {
          "base_uri": "https://localhost:8080/",
          "height": 334
        },
        "id": "VNEKTxgkbzzn",
        "outputId": "14e6c158-1d78-4074-ac74-d5f6e9a18e02"
      },
      "execution_count": 189,
      "outputs": [
        {
          "output_type": "display_data",
          "data": {
            "text/plain": [
              "<Figure size 1080x360 with 1 Axes>"
            ],
            "image/png": "[encoded data removed]"
          },
          "metadata": {
            "needs_background": "light"
          }
        }
      ]
    },
    {
      "cell_type": "markdown",
      "source": [
        "*   In 2011 : Avg. orders for the month of June are the maximum.\n",
        "*   In 2011 : Avg. orders for the months February, March, April,july and august are zero and hence we don't see a line plotted for these months in the above graph ( Please refer table below for more clarity ).\n",
        "\n"
      ],
      "metadata": {
        "id": "M045XTZo8PE4"
      }
    },
    {
      "cell_type": "markdown",
      "source": [
        "#### Annual average order per month "
      ],
      "metadata": {
        "id": "FBuNGDRC7tii"
      }
    },
    {
      "cell_type": "code",
      "source": [
        "tbl = df_cpy.pivot_table(index='Year', columns=['Month_name'], values='Order_Demand_abs', aggfunc='mean')\n",
        "tbl"
      ],
      "metadata": {
        "colab": {
          "base_uri": "https://localhost:8080/",
          "height": 300
        },
        "id": "6D0kabxqzcxZ",
        "outputId": "f66754f7-d770-4796-e04b-500b3b962502"
      },
      "execution_count": 190,
      "outputs": [
        {
          "output_type": "execute_result",
          "data": {
            "text/plain": [
              "Month_name      January     February        March        April          May  \\\n",
              "Year                                                                          \n",
              "2011           2.000000          NaN          NaN          NaN   108.000000   \n",
              "2012        4760.537787  4797.869006  4647.560310  4503.559554  5069.122546   \n",
              "2013        5072.665044  4316.825808  4705.264126  4890.554312  4651.737153   \n",
              "2014        4862.820352  4539.828154  5019.437824  5000.381037  5040.974518   \n",
              "2015        5701.752480  4912.332855  5481.915961  5331.037323  5236.323722   \n",
              "2016        5416.990630  4591.757037  5398.906955  5222.581883  5542.872437   \n",
              "2017        5565.415094          NaN          NaN          NaN          NaN   \n",
              "\n",
              "Month_name          June         July       August    September      October  \\\n",
              "Year                                                                           \n",
              "2011        46000.000000          NaN          NaN  1682.000000     2.333333   \n",
              "2012         4938.896517  4914.299977  4547.855991  4018.979632  4477.001080   \n",
              "2013         4696.175751  4583.131098  4752.774310  4374.688905  3983.279638   \n",
              "2014         5216.523590  4983.481741  4319.314213  4724.780601  5003.498187   \n",
              "2015         5163.431108  5408.574424  5318.172116  5228.155740  4974.822097   \n",
              "2016         5150.018943  5773.218617  5248.273136  5053.258065  5188.114199   \n",
              "2017                 NaN          NaN          NaN          NaN          NaN   \n",
              "\n",
              "Month_name     November      December  \n",
              "Year                                   \n",
              "2011        2791.096774  13676.463211  \n",
              "2012        4456.745923   4771.958735  \n",
              "2013        5053.062201   4955.223244  \n",
              "2014        5122.536887   5550.122808  \n",
              "2015        4669.399596   5480.608467  \n",
              "2016        5199.225151   5353.679968  \n",
              "2017                NaN           NaN  "
            ],
            "text/html": [
              "\n",
              "  <div id=\"df-86c5c36e-3652-4b48-9358-de435412c7c2\">\n",
              "    <div class=\"colab-df-container\">\n",
              "      <div>\n",
              "<style scoped>\n",
              "    .dataframe tbody tr th:only-of-type {\n",
              "        vertical-align: middle;\n",
              "    }\n",
              "\n",
              "    .dataframe tbody tr th {\n",
              "        vertical-align: top;\n",
              "    }\n",
              "\n",
              "    .dataframe thead th {\n",
              "        text-align: right;\n",
              "    }\n",
              "</style>\n",
              "<table border=\"1\" class=\"dataframe\">\n",
              "  <thead>\n",
              "    <tr style=\"text-align: right;\">\n",
              "      <th>Month_name</th>\n",
              "      <th>January</th>\n",
              "      <th>February</th>\n",
              "      <th>March</th>\n",
              "      <th>April</th>\n",
              "      <th>May</th>\n",
              "      <th>June</th>\n",
              "      <th>July</th>\n",
              "      <th>August</th>\n",
              "      <th>September</th>\n",
              "      <th>October</th>\n",
              "      <th>November</th>\n",
              "      <th>December</th>\n",
              "    </tr>\n",
              "    <tr>\n",
              "      <th>Year</th>\n",
              "      <th></th>\n",
              "      <th></th>\n",
              "      <th></th>\n",
              "      <th></th>\n",
              "      <th></th>\n",
              "      <th></th>\n",
              "      <th></th>\n",
              "      <th></th>\n",
              "      <th></th>\n",
              "      <th></th>\n",
              "      <th></th>\n",
              "      <th></th>\n",
              "    </tr>\n",
              "  </thead>\n",
              "  <tbody>\n",
              "    <tr>\n",
              "      <th>2011</th>\n",
              "      <td>2.000000</td>\n",
              "      <td>NaN</td>\n",
              "      <td>NaN</td>\n",
              "      <td>NaN</td>\n",
              "      <td>108.000000</td>\n",
              "      <td>46000.000000</td>\n",
              "      <td>NaN</td>\n",
              "      <td>NaN</td>\n",
              "      <td>1682.000000</td>\n",
              "      <td>2.333333</td>\n",
              "      <td>2791.096774</td>\n",
              "      <td>13676.463211</td>\n",
              "    </tr>\n",
              "    <tr>\n",
              "      <th>2012</th>\n",
              "      <td>4760.537787</td>\n",
              "      <td>4797.869006</td>\n",
              "      <td>4647.560310</td>\n",
              "      <td>4503.559554</td>\n",
              "      <td>5069.122546</td>\n",
              "      <td>4938.896517</td>\n",
              "      <td>4914.299977</td>\n",
              "      <td>4547.855991</td>\n",
              "      <td>4018.979632</td>\n",
              "      <td>4477.001080</td>\n",
              "      <td>4456.745923</td>\n",
              "      <td>4771.958735</td>\n",
              "    </tr>\n",
              "    <tr>\n",
              "      <th>2013</th>\n",
              "      <td>5072.665044</td>\n",
              "      <td>4316.825808</td>\n",
              "      <td>4705.264126</td>\n",
              "      <td>4890.554312</td>\n",
              "      <td>4651.737153</td>\n",
              "      <td>4696.175751</td>\n",
              "      <td>4583.131098</td>\n",
              "      <td>4752.774310</td>\n",
              "      <td>4374.688905</td>\n",
              "      <td>3983.279638</td>\n",
              "      <td>5053.062201</td>\n",
              "      <td>4955.223244</td>\n",
              "    </tr>\n",
              "    <tr>\n",
              "      <th>2014</th>\n",
              "      <td>4862.820352</td>\n",
              "      <td>4539.828154</td>\n",
              "      <td>5019.437824</td>\n",
              "      <td>5000.381037</td>\n",
              "      <td>5040.974518</td>\n",
              "      <td>5216.523590</td>\n",
              "      <td>4983.481741</td>\n",
              "      <td>4319.314213</td>\n",
              "      <td>4724.780601</td>\n",
              "      <td>5003.498187</td>\n",
              "      <td>5122.536887</td>\n",
              "      <td>5550.122808</td>\n",
              "    </tr>\n",
              "    <tr>\n",
              "      <th>2015</th>\n",
              "      <td>5701.752480</td>\n",
              "      <td>4912.332855</td>\n",
              "      <td>5481.915961</td>\n",
              "      <td>5331.037323</td>\n",
              "      <td>5236.323722</td>\n",
              "      <td>5163.431108</td>\n",
              "      <td>5408.574424</td>\n",
              "      <td>5318.172116</td>\n",
              "      <td>5228.155740</td>\n",
              "      <td>4974.822097</td>\n",
              "      <td>4669.399596</td>\n",
              "      <td>5480.608467</td>\n",
              "    </tr>\n",
              "    <tr>\n",
              "      <th>2016</th>\n",
              "      <td>5416.990630</td>\n",
              "      <td>4591.757037</td>\n",
              "      <td>5398.906955</td>\n",
              "      <td>5222.581883</td>\n",
              "      <td>5542.872437</td>\n",
              "      <td>5150.018943</td>\n",
              "      <td>5773.218617</td>\n",
              "      <td>5248.273136</td>\n",
              "      <td>5053.258065</td>\n",
              "      <td>5188.114199</td>\n",
              "      <td>5199.225151</td>\n",
              "      <td>5353.679968</td>\n",
              "    </tr>\n",
              "    <tr>\n",
              "      <th>2017</th>\n",
              "      <td>5565.415094</td>\n",
              "      <td>NaN</td>\n",
              "      <td>NaN</td>\n",
              "      <td>NaN</td>\n",
              "      <td>NaN</td>\n",
              "      <td>NaN</td>\n",
              "      <td>NaN</td>\n",
              "      <td>NaN</td>\n",
              "      <td>NaN</td>\n",
              "      <td>NaN</td>\n",
              "      <td>NaN</td>\n",
              "      <td>NaN</td>\n",
              "    </tr>\n",
              "  </tbody>\n",
              "</table>\n",
              "</div>\n",
              "      <button class=\"colab-df-convert\" onclick=\"convertToInteractive('df-86c5c36e-3652-4b48-9358-de435412c7c2')\"\n",
              "              title=\"Convert this dataframe to an interactive table.\"\n",
              "              style=\"display:none;\">\n",
              "        \n",
              "  <svg xmlns=\"http://www.w3.org/2000/svg\" height=\"24px\"viewBox=\"0 0 24 24\"\n",
              "       width=\"24px\">\n",
              "    <path d=\"M0 0h24v24H0V0z\" fill=\"none\"/>\n",
              "    <path d=\"M18.56 5.44l.94 2.06.94-2.06 2.06-.94-2.06-.94-.94-2.06-.94 2.06-2.06.94zm-11 1L8.5 8.5l.94-2.06 2.06-.94-2.06-.94L8.5 2.5l-.94 2.06-2.06.94zm10 10l.94 2.06.94-2.06 2.06-.94-2.06-.94-.94-2.06-.94 2.06-2.06.94z\"/><path d=\"M17.41 7.96l-1.37-1.37c-.4-.4-.92-.59-1.43-.59-.52 0-1.04.2-1.43.59L10.3 9.45l-7.72 7.72c-.78.78-.78 2.05 0 2.83L4 21.41c.39.39.9.59 1.41.59.51 0 1.02-.2 1.41-.59l7.78-7.78 2.81-2.81c.8-.78.8-2.07 0-2.86zM5.41 20L4 18.59l7.72-7.72 1.47 1.35L5.41 20z\"/>\n",
              "  </svg>\n",
              "      </button>\n",
              "      \n",
              "  <style>\n",
              "    .colab-df-container {\n",
              "      display:flex;\n",
              "      flex-wrap:wrap;\n",
              "      gap: 12px;\n",
              "    }\n",
              "\n",
              "    .colab-df-convert {\n",
              "      background-color: #E8F0FE;\n",
              "      border: none;\n",
              "      border-radius: 50%;\n",
              "      cursor: pointer;\n",
              "      display: none;\n",
              "      fill: #1967D2;\n",
              "      height: 32px;\n",
              "      padding: 0 0 0 0;\n",
              "      width: 32px;\n",
              "    }\n",
              "\n",
              "    .colab-df-convert:hover {\n",
              "      background-color: #E2EBFA;\n",
              "      box-shadow: 0px 1px 2px rgba(60, 64, 67, 0.3), 0px 1px 3px 1px rgba(60, 64, 67, 0.15);\n",
              "      fill: #174EA6;\n",
              "    }\n",
              "\n",
              "    [theme=dark] .colab-df-convert {\n",
              "      background-color: #3B4455;\n",
              "      fill: #D2E3FC;\n",
              "    }\n",
              "\n",
              "    [theme=dark] .colab-df-convert:hover {\n",
              "      background-color: #434B5C;\n",
              "      box-shadow: 0px 1px 3px 1px rgba(0, 0, 0, 0.15);\n",
              "      filter: drop-shadow(0px 1px 2px rgba(0, 0, 0, 0.3));\n",
              "      fill: #FFFFFF;\n",
              "    }\n",
              "  </style>\n",
              "\n",
              "      <script>\n",
              "        const buttonEl =\n",
              "          document.querySelector('#df-86c5c36e-3652-4b48-9358-de435412c7c2 button.colab-df-convert');\n",
              "        buttonEl.style.display =\n",
              "          google.colab.kernel.accessAllowed ? 'block' : 'none';\n",
              "\n",
              "        async function convertToInteractive(key) {\n",
              "          const element = document.querySelector('#df-86c5c36e-3652-4b48-9358-de435412c7c2');\n",
              "          const dataTable =\n",
              "            await google.colab.kernel.invokeFunction('convertToInteractive',\n",
              "                                                     [key], {});\n",
              "          if (!dataTable) return;\n",
              "\n",
              "          const docLinkHtml = 'Like what you see? Visit the ' +\n",
              "            '<a target=\"_blank\" href=https://colab.research.google.com/notebooks/data_table.ipynb>data table notebook</a>'\n",
              "            + ' to learn more about interactive tables.';\n",
              "          element.innerHTML = '';\n",
              "          dataTable['output_type'] = 'display_data';\n",
              "          await google.colab.output.renderOutput(dataTable, element);\n",
              "          const docLink = document.createElement('div');\n",
              "          docLink.innerHTML = docLinkHtml;\n",
              "          element.appendChild(docLink);\n",
              "        }\n",
              "      </script>\n",
              "    </div>\n",
              "  </div>\n",
              "  "
            ]
          },
          "metadata": {},
          "execution_count": 190
        }
      ]
    },
    {
      "cell_type": "code",
      "source": [
        "plt.figure(figsize = (14, 5))\n",
        "date_sub.groupby('Day')['Order_Demand_abs'].mean().plot.bar(color= \"#42f5ce\")"
      ],
      "metadata": {
        "colab": {
          "base_uri": "https://localhost:8080/",
          "height": 353
        },
        "id": "uDF0yVcBe5wM",
        "outputId": "452c381e-ef47-40c1-ac7b-16ed97c2b885"
      },
      "execution_count": 191,
      "outputs": [
        {
          "output_type": "execute_result",
          "data": {
            "text/plain": [
              "<matplotlib.axes._subplots.AxesSubplot at 0x7f58fddff750>"
            ]
          },
          "metadata": {},
          "execution_count": 191
        },
        {
          "output_type": "display_data",
          "data": {
            "text/plain": [
              "<Figure size 1008x360 with 1 Axes>"
            ],
            "image/png": "[encoded data removed]"
          },
          "metadata": {
            "needs_background": "light"
          }
        }
      ]
    },
    {
      "cell_type": "code",
      "source": [
        "plt.figure(figsize = (14, 5))\n",
        "\n",
        "# plot\n",
        "date_sub.groupby(\"Month_name\")['Order_Demand_abs'].mean().plot.bar(color=\"#42f5ce\")"
      ],
      "metadata": {
        "colab": {
          "base_uri": "https://localhost:8080/",
          "height": 396
        },
        "id": "wdBvpAz9fNtH",
        "outputId": "65f7b78b-6f42-4e60-ed75-0249bc4893fb"
      },
      "execution_count": 192,
      "outputs": [
        {
          "output_type": "execute_result",
          "data": {
            "text/plain": [
              "<matplotlib.axes._subplots.AxesSubplot at 0x7f58fd897f50>"
            ]
          },
          "metadata": {},
          "execution_count": 192
        },
        {
          "output_type": "display_data",
          "data": {
            "text/plain": [
              "<Figure size 1008x360 with 1 Axes>"
            ],
            "image/png": "[encoded data removed]"
          },
          "metadata": {
            "needs_background": "light"
          }
        }
      ]
    },
    {
      "cell_type": "code",
      "source": [
        "date_sub[\"IsWeekend\"] = date_sub[\"DayOfWeek\"] >= 5\n",
        "plt.figure(figsize = (14, 5))\n",
        "date_sub.groupby(\"IsWeekend\")['Order_Demand_abs'].mean().plot.barh(color = \"#42f5ce\")"
      ],
      "metadata": {
        "colab": {
          "base_uri": "https://localhost:8080/",
          "height": 337
        },
        "id": "yrd9Yccij9Ty",
        "outputId": "1fc596a6-ec75-49bf-f492-ec6ec50171f6"
      },
      "execution_count": 193,
      "outputs": [
        {
          "output_type": "execute_result",
          "data": {
            "text/plain": [
              "<matplotlib.axes._subplots.AxesSubplot at 0x7f5904458ed0>"
            ]
          },
          "metadata": {},
          "execution_count": 193
        },
        {
          "output_type": "display_data",
          "data": {
            "text/plain": [
              "<Figure size 1008x360 with 1 Axes>"
            ],
            "image/png": "[encoded data removed]"
          },
          "metadata": {
            "needs_background": "light"
          }
        }
      ]
    },
    {
      "cell_type": "markdown",
      "source": [
        "Most orders are demanded during **Weekend**"
      ],
      "metadata": {
        "id": "-F-GAUorkTFB"
      }
    },
    {
      "cell_type": "markdown",
      "source": [
        "#### Dicky fuller test to evaluate staionarity\n",
        "\n",
        "\n",
        "*   Null Hypothesis (H0): If failed to be rejected, it suggests the time series is non-stationary. It has some time dependent structure.\n",
        "*   Alternate Hypothesis (H1): The null hypothesis is rejected; it suggests the time series is stationary. It does not have time-dependent structure.\n",
        "\n",
        "*We interpret this result using the p-value from the test. A p-value below a threshold (such as 5% or 1%) suggests we reject the null hypothesis (stationary), otherwise a p-value above the threshold suggests we fail to reject the null hypothesis (non-stationary).*\n",
        "\n",
        "*   p-value > 0.05: Fail to reject the null hypothesis (H0), the data is non-stationary.\n",
        "*   p-value <= 0.05: Reject the null hypothesis (H0), the data is stationary.\n"
      ],
      "metadata": {
        "id": "8-5AQVxYYRGe"
      }
    },
    {
      "cell_type": "code",
      "source": [
        "from statsmodels.tsa.stattools import adfuller\n",
        "y = y.ffill().bfill()\n",
        "X = y.values\n",
        "\n",
        "result = adfuller(X)\n",
        "print('ADF Statistic: %f' % result[0])\n",
        "print('p-value: %f' % result[1])\n",
        "print('Critical Values:')\n",
        "for key, value in result[4].items():\n",
        "\tprint('\\t%s: %.3f' % (key, value))"
      ],
      "metadata": {
        "colab": {
          "base_uri": "https://localhost:8080/"
        },
        "id": "KurY3pqhU-H5",
        "outputId": "86d7fbed-11c3-4cc9-ed17-512f14912dc3"
      },
      "execution_count": 194,
      "outputs": [
        {
          "output_type": "stream",
          "name": "stdout",
          "text": [
            "ADF Statistic: -4.328614\n",
            "p-value: 0.000396\n",
            "Critical Values:\n",
            "\t1%: -3.525\n",
            "\t5%: -2.903\n",
            "\t10%: -2.589\n"
          ]
        }
      ]
    },
    {
      "cell_type": "markdown",
      "source": [
        "Dicky fuller test prints the test statistic value of -4.37. The more negative this statistic, the more likely we are to reject the null hypothesis (we have a stationary dataset) and p-value is also less than 0.05 hence we can say that the data is stationary"
      ],
      "metadata": {
        "id": "4EXhCRZHWxs0"
      }
    },
    {
      "cell_type": "markdown",
      "source": [
        "#### Seasonability decomposition"
      ],
      "metadata": {
        "id": "hFGK3KhJ_yhx"
      }
    },
    {
      "cell_type": "code",
      "source": [
        "#Time Series Decomposition. \n",
        "from pylab import rcParams\n",
        "import statsmodels.api as sm\n",
        "\n",
        "rcParams['figure.figsize'] = 14, 7\n",
        "decomposition = sm.tsa.seasonal_decompose(y, model='additive')\n",
        "fig = decomposition.plot()\n",
        "plt.show()"
      ],
      "metadata": {
        "colab": {
          "base_uri": "https://localhost:8080/",
          "height": 513
        },
        "id": "1ona8B9g9gZY",
        "outputId": "6c7174a6-91e7-435a-fa38-0268adce0cb0"
      },
      "execution_count": 195,
      "outputs": [
        {
          "output_type": "display_data",
          "data": {
            "text/plain": [
              "<Figure size 1008x504 with 4 Axes>"
            ],
            "image/png": "[encoded data removed]"
          },
          "metadata": {
            "needs_background": "light"
          }
        }
      ]
    },
    {
      "cell_type": "markdown",
      "metadata": {
        "id": "KN8C12P_6koe"
      },
      "source": [
        "## Forecast model\n",
        "\n",
        "### Theory\n",
        "* Describe the basic theory behind the solution you have decided to apply\n",
        "\n",
        "### Implementation\n",
        "* What parameters have you consider to tune and why are those important for best-fit?"
      ]
    },
    {
      "cell_type": "markdown",
      "source": [
        "#### SARIMA\n",
        "\n",
        "An ARIMA model is characterized by 3 terms: p, d, q where,\n",
        "\n",
        "* p is the order of the AR term\n",
        "* q is the order of the MA term\n",
        "* d is the number of differences required to make the time series stationary\n",
        "* When dealing with seasonal data, we should use SARIMA ( Seasonal ARIMA) as 's'. ARIMA(p,d,q)(P,D,Q)s."
      ],
      "metadata": {
        "id": "L6LkWRpnJnkb"
      }
    },
    {
      "cell_type": "code",
      "source": [
        "# We use the  Gride search identify the optimal parameters for our model\n",
        "\n",
        "import itertools\n",
        "p = d = q = range(0, 2)\n",
        "pdq = list(itertools.product(p, d, q))\n",
        "seasonal_pdq = [(x[0], x[1], x[2], 12) for x in list(itertools.product(p, d, q))]\n",
        "\n",
        "\n",
        "for param in pdq:\n",
        "  for param_seasonal in seasonal_pdq:\n",
        "    try:\n",
        "      mod = sm.tsa.statespace.SARIMAX(y,order=param,seasonal_order=param_seasonal,enforce_stationarity=False,enforce_invertibility=False)\n",
        "      results = mod.fit()\n",
        "      print('SARIMA{}x{}12 - AIC:{}'.format(param, param_seasonal, results.aic))\n",
        "    except:\n",
        "      continue\n"
      ],
      "metadata": {
        "id": "D-VYCTQ2Ms6F",
        "colab": {
          "base_uri": "https://localhost:8080/"
        },
        "outputId": "b07d5d2e-f50a-45d1-f007-5a9b297ede90"
      },
      "execution_count": 196,
      "outputs": [
        {
          "output_type": "stream",
          "name": "stdout",
          "text": [
            "SARIMA(0, 0, 0)x(0, 0, 0, 12)12 - AIC:1540.742623111692\n",
            "SARIMA(0, 0, 0)x(0, 0, 1, 12)12 - AIC:1181.7578391219208\n",
            "SARIMA(0, 0, 0)x(0, 1, 0, 12)12 - AIC:1270.0726811050538\n",
            "SARIMA(0, 0, 0)x(0, 1, 1, 12)12 - AIC:718.0215219482488\n",
            "SARIMA(0, 0, 0)x(1, 0, 0, 12)12 - AIC:1191.484231482625\n",
            "SARIMA(0, 0, 0)x(1, 0, 1, 12)12 - AIC:1180.317752668866\n",
            "SARIMA(0, 0, 0)x(1, 1, 0, 12)12 - AIC:729.8499200684857\n",
            "SARIMA(0, 0, 0)x(1, 1, 1, 12)12 - AIC:716.2747936745272\n",
            "SARIMA(0, 0, 1)x(0, 0, 0, 12)12 - AIC:1489.3943535783512\n",
            "SARIMA(0, 0, 1)x(0, 0, 1, 12)12 - AIC:1226.4020735800334\n",
            "SARIMA(0, 0, 1)x(0, 1, 0, 12)12 - AIC:1231.6680886145596\n",
            "SARIMA(0, 0, 1)x(0, 1, 1, 12)12 - AIC:697.5126828699803\n",
            "SARIMA(0, 0, 1)x(1, 0, 0, 12)12 - AIC:1148.9307876679602\n",
            "SARIMA(0, 0, 1)x(1, 0, 1, 12)12 - AIC:1195.386195902275\n",
            "SARIMA(0, 0, 1)x(1, 1, 0, 12)12 - AIC:731.8389721292572\n",
            "SARIMA(0, 0, 1)x(1, 1, 1, 12)12 - AIC:702.4283016084395\n",
            "SARIMA(0, 1, 0)x(0, 0, 0, 12)12 - AIC:1475.5798234831407\n",
            "SARIMA(0, 1, 0)x(0, 0, 1, 12)12 - AIC:875.1382322596661\n",
            "SARIMA(0, 1, 0)x(0, 1, 0, 12)12 - AIC:1237.0325599269013\n",
            "SARIMA(0, 1, 0)x(0, 1, 1, 12)12 - AIC:714.7413950076797\n",
            "SARIMA(0, 1, 0)x(1, 0, 0, 12)12 - AIC:889.6367362805684\n",
            "SARIMA(0, 1, 0)x(1, 0, 1, 12)12 - AIC:876.1321498544908\n",
            "SARIMA(0, 1, 0)x(1, 1, 0, 12)12 - AIC:731.7332549591808\n",
            "SARIMA(0, 1, 0)x(1, 1, 1, 12)12 - AIC:716.7354548933895\n",
            "SARIMA(0, 1, 1)x(0, 0, 0, 12)12 - AIC:1457.8189632099266\n",
            "SARIMA(0, 1, 1)x(0, 0, 1, 12)12 - AIC:840.582943781085\n",
            "SARIMA(0, 1, 1)x(0, 1, 0, 12)12 - AIC:1219.073105581699\n",
            "SARIMA(0, 1, 1)x(0, 1, 1, 12)12 - AIC:690.5875034424739\n",
            "SARIMA(0, 1, 1)x(1, 0, 0, 12)12 - AIC:890.522431262981\n",
            "SARIMA(0, 1, 1)x(1, 0, 1, 12)12 - AIC:842.5741180878666\n",
            "SARIMA(0, 1, 1)x(1, 1, 0, 12)12 - AIC:727.115723459644\n",
            "SARIMA(0, 1, 1)x(1, 1, 1, 12)12 - AIC:726.1371878207392\n",
            "SARIMA(1, 0, 0)x(0, 0, 0, 12)12 - AIC:1487.1401802002065\n",
            "SARIMA(1, 0, 0)x(0, 0, 1, 12)12 - AIC:890.8909499742117\n",
            "SARIMA(1, 0, 0)x(0, 1, 0, 12)12 - AIC:1245.3570061828345\n",
            "SARIMA(1, 0, 0)x(0, 1, 1, 12)12 - AIC:730.1560702285228\n",
            "SARIMA(1, 0, 0)x(1, 0, 0, 12)12 - AIC:891.6356052901585\n",
            "SARIMA(1, 0, 0)x(1, 0, 1, 12)12 - AIC:1184.124406021649\n",
            "SARIMA(1, 0, 0)x(1, 1, 0, 12)12 - AIC:712.9850432575993\n",
            "SARIMA(1, 0, 0)x(1, 1, 1, 12)12 - AIC:916.322148236394\n",
            "SARIMA(1, 0, 1)x(0, 0, 0, 12)12 - AIC:1468.4632413850213\n",
            "SARIMA(1, 0, 1)x(0, 0, 1, 12)12 - AIC:853.6495215349086\n",
            "SARIMA(1, 0, 1)x(0, 1, 0, 12)12 - AIC:1226.0191500376336\n",
            "SARIMA(1, 0, 1)x(0, 1, 1, 12)12 - AIC:785.9742025152055\n",
            "SARIMA(1, 0, 1)x(1, 0, 0, 12)12 - AIC:874.6750419302423\n",
            "SARIMA(1, 0, 1)x(1, 0, 1, 12)12 - AIC:1036.1227700842473\n",
            "SARIMA(1, 0, 1)x(1, 1, 0, 12)12 - AIC:712.5416982365886\n",
            "SARIMA(1, 0, 1)x(1, 1, 1, 12)12 - AIC:745.1782524560987\n",
            "SARIMA(1, 1, 0)x(0, 0, 0, 12)12 - AIC:1477.5521027423435\n",
            "SARIMA(1, 1, 0)x(0, 0, 1, 12)12 - AIC:865.2067261953603\n",
            "SARIMA(1, 1, 0)x(0, 1, 0, 12)12 - AIC:1238.9800163086843\n",
            "SARIMA(1, 1, 0)x(0, 1, 1, 12)12 - AIC:709.8354013705602\n",
            "SARIMA(1, 1, 0)x(1, 0, 0, 12)12 - AIC:868.1702432147354\n",
            "SARIMA(1, 1, 0)x(1, 0, 1, 12)12 - AIC:865.4432630052236\n",
            "SARIMA(1, 1, 0)x(1, 1, 0, 12)12 - AIC:942.9188795753215\n",
            "SARIMA(1, 1, 0)x(1, 1, 1, 12)12 - AIC:711.2282414702092\n",
            "SARIMA(1, 1, 1)x(0, 0, 0, 12)12 - AIC:1461.1994035136447\n",
            "SARIMA(1, 1, 1)x(0, 0, 1, 12)12 - AIC:1090.1630265597594\n",
            "SARIMA(1, 1, 1)x(0, 1, 0, 12)12 - AIC:1202.3883247775489\n",
            "SARIMA(1, 1, 1)x(0, 1, 1, 12)12 - AIC:908.671605038839\n",
            "SARIMA(1, 1, 1)x(1, 0, 0, 12)12 - AIC:876.9115866163598\n",
            "SARIMA(1, 1, 1)x(1, 0, 1, 12)12 - AIC:1134.2385720441955\n",
            "SARIMA(1, 1, 1)x(1, 1, 0, 12)12 - AIC:748.9146764061841\n",
            "SARIMA(1, 1, 1)x(1, 1, 1, 12)12 - AIC:911.1655247057463\n"
          ]
        }
      ]
    },
    {
      "cell_type": "markdown",
      "source": [
        "AIC value 690.5875 is least with order (0, 1, 1) and Seasonal order (0, 1, 1, 12) \n"
      ],
      "metadata": {
        "id": "nBrMkVMKpz2J"
      }
    },
    {
      "cell_type": "markdown",
      "source": [
        "##### Fit the model"
      ],
      "metadata": {
        "id": "-2ktuMO4i1Mx"
      }
    },
    {
      "cell_type": "code",
      "source": [
        "from statsmodels.tsa.statespace.sarimax import SARIMAX\n",
        "mod = sm.tsa.statespace.SARIMAX(y,\n",
        "                                order=(0, 1, 1),\n",
        "                                seasonal_order=(0, 1, 1, 12),\n",
        "                                enforce_stationarity=False,\n",
        "                                enforce_invertibility=False)\n",
        "results = mod.fit()\n",
        "print(results.summary().tables[1])"
      ],
      "metadata": {
        "colab": {
          "base_uri": "https://localhost:8080/"
        },
        "id": "HRt46bX9i9jW",
        "outputId": "5bc2f8e5-afd3-4159-b3fc-96209f7f98f5"
      },
      "execution_count": 215,
      "outputs": [
        {
          "output_type": "stream",
          "name": "stdout",
          "text": [
            "==============================================================================\n",
            "                 coef    std err          z      P>|z|      [0.025      0.975]\n",
            "------------------------------------------------------------------------------\n",
            "ma.L1         -0.4381      0.058     -7.506      0.000      -0.553      -0.324\n",
            "ma.S.L12      -0.0003      0.008     -0.036      0.971      -0.016       0.016\n",
            "sigma2      1.702e+05   4.36e+04      3.906      0.000    8.48e+04    2.56e+05\n",
            "==============================================================================\n"
          ]
        }
      ]
    },
    {
      "cell_type": "markdown",
      "source": [
        "### Model diagnostics "
      ],
      "metadata": {
        "id": "kVFB-0IFBZbA"
      }
    },
    {
      "cell_type": "code",
      "source": [
        "results.plot_diagnostics(figsize=(16, 8))\n",
        "plt.show()"
      ],
      "metadata": {
        "colab": {
          "base_uri": "https://localhost:8080/",
          "height": 513
        },
        "id": "Syl7grqeBLq_",
        "outputId": "2c880660-236e-455f-dd9b-066c84dd40a2"
      },
      "execution_count": 216,
      "outputs": [
        {
          "output_type": "display_data",
          "data": {
            "text/plain": [
              "<Figure size 1152x576 with 4 Axes>"
            ],
            "image/png": "[encoded data removed]"
          },
          "metadata": {
            "needs_background": "light"
          }
        }
      ]
    },
    {
      "cell_type": "markdown",
      "source": [
        "Our model diagnostics suggests that the model residuals are near normally distributed.\n"
      ],
      "metadata": {
        "id": "LB6lktRvBUrO"
      }
    },
    {
      "cell_type": "markdown",
      "source": [
        "##### Validate model"
      ],
      "metadata": {
        "id": "HPvrwrDTjO35"
      }
    },
    {
      "cell_type": "code",
      "source": [
        "pred = results.get_prediction(start=pd.to_datetime('2014-05-01'), dynamic=False) #false is when using the entire history.\n",
        "#Confidence interval.\n",
        "pred_ci = pred.conf_int()\n",
        "\n",
        "#Plotting real and forecasted values.\n",
        "ax = y['2012':].plot(label='observed',color = \"#6a04d6\")\n",
        "pred.predicted_mean.plot(ax=ax, label='One-step ahead Forecast', alpha=.7, figsize=(16, 7),color = \"#d609c2\")\n",
        "ax.fill_between(pred_ci.index,\n",
        "                pred_ci.iloc[:, 0],\n",
        "                pred_ci.iloc[:, 1], color='#b5b5b3', alpha=.2)\n",
        "ax.set_xlabel('Date')\n",
        "ax.set_ylabel('Order_Demand')\n",
        "plt.legend()\n",
        "plt.show()"
      ],
      "metadata": {
        "colab": {
          "base_uri": "https://localhost:8080/",
          "height": 442
        },
        "id": "UQEmIcucjRo8",
        "outputId": "da40a020-0f99-4b04-e4f0-44cc53b9dff9"
      },
      "execution_count": 217,
      "outputs": [
        {
          "output_type": "display_data",
          "data": {
            "text/plain": [
              "<Figure size 1152x504 with 1 Axes>"
            ],
            "image/png": "[encoded data removed]"
          },
          "metadata": {
            "needs_background": "light"
          }
        }
      ]
    },
    {
      "cell_type": "markdown",
      "source": [
        "#### Forecast Accuracy"
      ],
      "metadata": {
        "id": "SzCED1mmjXpI"
      }
    },
    {
      "cell_type": "code",
      "source": [
        "#Getting the mean squared error (average error of forecasts).\n",
        "y_forecasted = pred.predicted_mean\n",
        "y_truth = y['2016-01-01':]\n",
        "mse = ((y_forecasted - y_truth) ** 2).mean()\n",
        "print('MSE {}'.format(round(mse, 2)))\n",
        "\n",
        "#Smaller the better."
      ],
      "metadata": {
        "colab": {
          "base_uri": "https://localhost:8080/"
        },
        "id": "wAmB6GAsjZbN",
        "outputId": "f56507db-628b-4fe6-d2fa-a55904893d02"
      },
      "execution_count": 218,
      "outputs": [
        {
          "output_type": "stream",
          "name": "stdout",
          "text": [
            "MSE 79557.51\n"
          ]
        }
      ]
    },
    {
      "cell_type": "code",
      "source": [
        "print('RMSE: {}'.format(round(np.sqrt(mse), 2)))"
      ],
      "metadata": {
        "colab": {
          "base_uri": "https://localhost:8080/"
        },
        "id": "ndJRbynKje2f",
        "outputId": "c123fedb-0ba4-4036-f170-5bedb0a94095"
      },
      "execution_count": 219,
      "outputs": [
        {
          "output_type": "stream",
          "name": "stdout",
          "text": [
            "RMSE: 282.06\n"
          ]
        }
      ]
    },
    {
      "cell_type": "code",
      "source": [
        "pred_uc = results.get_forecast(steps= 50)\n",
        "pred_ci = pred_uc.conf_int()\n",
        "ax = y.plot(label='observed', figsize=(14, 7),color = \"#6a04d6\")\n",
        "pred_uc.predicted_mean.plot(ax=ax, label='Forecast',color = \"#d609c2\")\n",
        "ax.fill_between(pred_ci.index,\n",
        "                pred_ci.iloc[:, 0],\n",
        "                pred_ci.iloc[:, 1], color='#b5b5b3', alpha=.35)\n",
        "ax.set_xlabel('Date')\n",
        "ax.set_ylabel('Order_Demand')\n",
        "plt.legend()\n",
        "plt.show()"
      ],
      "metadata": {
        "colab": {
          "base_uri": "https://localhost:8080/",
          "height": 442
        },
        "id": "-X4PuG_Xjifs",
        "outputId": "862cf8a9-57e6-4d4c-9049-902afad59d0a"
      },
      "execution_count": 220,
      "outputs": [
        {
          "output_type": "display_data",
          "data": {
            "text/plain": [
              "<Figure size 1008x504 with 1 Axes>"
            ],
            "image/png": "[encoded data removed]"
          },
          "metadata": {
            "needs_background": "light"
          }
        }
      ]
    },
    {
      "cell_type": "markdown",
      "source": [
        "## User Input for forecast"
      ],
      "metadata": {
        "id": "sLucL8zvoeDS"
      }
    },
    {
      "cell_type": "code",
      "source": [
        "print( \" Please enter a date for forcast \")\n",
        "\n",
        "year = int(input('Enter a year (YYYY) : '))\n",
        "month = int(input('Enter a month (MM) : '))\n",
        "day = int(input('Enter a day (DD) : '))\n",
        "date1 = datetime.date(year, month, day)\n",
        "\n",
        "date1 = pd.to_datetime(date1, format='%Y-%m-%d', errors='raise')\n",
        "\n",
        "print(\"\\n\")\n",
        "pred_uc = results.get_forecast(date1)\n",
        "pred_ci = pred_uc.conf_int()\n",
        "ax = y.plot(label='observed', figsize=(6, 3),color = \"#4e30d1\")\n",
        "pred_uc.predicted_mean.plot(ax=ax, label='Forecast',color = \"#09d63f\")\n",
        "ax.fill_between(pred_ci.index,\n",
        "                pred_ci.iloc[:, 0],\n",
        "                pred_ci.iloc[:, 1], color='#b5b5b3', alpha=.35)\n",
        "ax.set_xlabel('Date')\n",
        "ax.set_ylabel('Order_Demand')\n",
        "plt.legend()\n",
        "plt.show()\n",
        "\n",
        "predicted_values = pd.DataFrame(pred_uc.predicted_mean).reset_index()\n",
        "\n",
        "predicted_values.columns = ['Date','Order Demand']\n",
        "\n",
        "print(\"\\n Forecasted values are  :- \\n \", predicted_values)\n"
      ],
      "metadata": {
        "id": "qlNqmEleb8UH",
        "outputId": "85a2a671-7711-4df5-88fe-786a19c1ad06",
        "colab": {
          "base_uri": "https://localhost:8080/",
          "height": 1000
        }
      },
      "execution_count": 221,
      "outputs": [
        {
          "output_type": "stream",
          "name": "stdout",
          "text": [
            " Please enter a date for forcast \n",
            "Enter a year (YYYY) : 2019\n",
            "Enter a month (MM) : 12\n",
            "Enter a day (DD) : 30\n",
            "\n",
            "\n"
          ]
        },
        {
          "output_type": "display_data",
          "data": {
            "text/plain": [
              "<Figure size 432x216 with 1 Axes>"
            ],
            "image/png": "[encoded data removed]"
          },
          "metadata": {
            "needs_background": "light"
          }
        },
        {
          "output_type": "stream",
          "name": "stdout",
          "text": [
            "\n",
            " Forecasted values are  :- \n",
            "           Date  Order Demand\n",
            "0  2017-02-01   4708.488199\n",
            "1  2017-03-01   5515.568890\n",
            "2  2017-04-01   5339.251243\n",
            "3  2017-05-01   5659.420889\n",
            "4  2017-06-01   5266.660643\n",
            "5  2017-07-01   5889.750123\n",
            "6  2017-08-01   5364.931206\n",
            "7  2017-09-01   5169.946770\n",
            "8  2017-10-01   5304.689843\n",
            "9  2017-11-01   5315.708602\n",
            "10 2017-12-01   5470.354745\n",
            "11 2018-01-01   5682.009660\n",
            "12 2018-02-01   4825.092003\n",
            "13 2018-03-01   5632.172694\n",
            "14 2018-04-01   5455.855047\n",
            "15 2018-05-01   5776.024693\n",
            "16 2018-06-01   5383.264446\n",
            "17 2018-07-01   6006.353926\n",
            "18 2018-08-01   5481.535009\n",
            "19 2018-09-01   5286.550573\n",
            "20 2018-10-01   5421.293646\n",
            "21 2018-11-01   5432.312405\n",
            "22 2018-12-01   5586.958548\n",
            "23 2019-01-01   5798.613463\n",
            "24 2019-02-01   4941.695806\n",
            "25 2019-03-01   5748.776497\n",
            "26 2019-04-01   5572.458850\n",
            "27 2019-05-01   5892.628496\n",
            "28 2019-06-01   5499.868249\n",
            "29 2019-07-01   6122.957729\n",
            "30 2019-08-01   5598.138812\n",
            "31 2019-09-01   5403.154376\n",
            "32 2019-10-01   5537.897449\n",
            "33 2019-11-01   5548.916208\n",
            "34 2019-12-01   5703.562352\n",
            "35 2020-01-01   5915.217266\n"
          ]
        }
      ]
    }
  ],
  "metadata": {
    "kernelspec": {
      "display_name": "Python 3",
      "language": "python",
      "name": "python3"
    },
    "language_info": {
      "codemirror_mode": {
        "name": "ipython",
        "version": 3
      },
      "file_extension": ".py",
      "mimetype": "text/x-python",
      "name": "python",
      "nbconvert_exporter": "python",
      "pygments_lexer": "ipython3",
      "version": "3.8.6"
    },
    "colab": {
      "provenance": []
    }
  },
  "nbformat": 4,
  "nbformat_minor": 0
}